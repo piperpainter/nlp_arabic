{
 "cells": [
  {
   "cell_type": "code",
   "execution_count": 1,
   "metadata": {},
   "outputs": [],
   "source": [
    "#Generic\n",
    "from collections import Counter\n",
    "from collections import OrderedDict\n",
    "import os\n",
    "from os.path import join\n",
    "import matplotlib.pyplot as plt\n",
    "%matplotlib inline\n",
    "import re\n",
    "import numpy as np\n",
    "import pandas as pd\n",
    "from pprint import pprint\n",
    "import pickle\n",
    "import itertools\n",
    "import datetime\n",
    "from datetime import timedelta\n",
    "\n",
    "\n",
    "#NLTK Stopword List\n",
    "import nltk\n",
    "from nltk.corpus import stopwords\n",
    "stop_words = stopwords.words('arabic')\n",
    "\n",
    "#Gensim (LDA-Modelling)\n",
    "import gensim\n",
    "import gensim.corpora as corpora\n",
    "from gensim.utils import simple_preprocess\n",
    "from gensim.models import CoherenceModel\n",
    "from gensim.models import LdaMulticore\n",
    "from gensim.test.utils import datapath\n",
    "\n",
    "#PDF-Reader\n",
    "import pdfplumber\n",
    "\n",
    "import pyLDAvis.gensim_models\n",
    "import xml.etree.ElementTree as ETree\n",
    "\n",
    "# plots\n",
    "from bidi.algorithm import get_display\n",
    "import arabic_reshaper\n",
    "import matplotlib.pyplot as plt\n",
    "import plotly.express as px\n",
    "import plotly.graph_objects as go"
   ]
  },
  {
   "cell_type": "code",
   "execution_count": 2,
   "metadata": {},
   "outputs": [
    {
     "name": "stderr",
     "output_type": "stream",
     "text": [
      "c:\\Users\\kantg\\.conda\\envs\\arabic-nlp\\lib\\site-packages\\ipykernel\\ipkernel.py:287: DeprecationWarning: `should_run_async` will not call `transform_cell` automatically in the future. Please pass the result to `transformed_cell` argument and any exception that happen during thetransform in `preprocessing_exc_tuple` in IPython 7.17 and above.\n",
      "  and should_run_async(code)\n"
     ]
    },
    {
     "data": {
      "text/plain": [
       "dict_keys(['data_df', 'pagewise_for_lda_chosen_tokens', 'id2word', 'corpus'])"
      ]
     },
     "execution_count": 2,
     "metadata": {},
     "output_type": "execute_result"
    }
   ],
   "source": [
    "lda_model = LdaMulticore.load(r\"C:\\Users\\kantg\\Documents\\Uni\\nlp_arabic\\saved_models\\5_topics_pagewise_full\")\n",
    "\n",
    "with open('save_dict_pagewise_full.pkl', 'rb') as f:\n",
    "    load_dat = pickle.load(f)\n",
    "load_dat.keys()"
   ]
  },
  {
   "cell_type": "code",
   "execution_count": 3,
   "metadata": {},
   "outputs": [
    {
     "name": "stderr",
     "output_type": "stream",
     "text": [
      "c:\\Users\\kantg\\.conda\\envs\\arabic-nlp\\lib\\site-packages\\ipykernel\\ipkernel.py:287: DeprecationWarning: `should_run_async` will not call `transform_cell` automatically in the future. Please pass the result to `transformed_cell` argument and any exception that happen during thetransform in `preprocessing_exc_tuple` in IPython 7.17 and above.\n",
      "  and should_run_async(code)\n"
     ]
    },
    {
     "data": {
      "text/html": [
       "<div>\n",
       "<style scoped>\n",
       "    .dataframe tbody tr th:only-of-type {\n",
       "        vertical-align: middle;\n",
       "    }\n",
       "\n",
       "    .dataframe tbody tr th {\n",
       "        vertical-align: top;\n",
       "    }\n",
       "\n",
       "    .dataframe thead th {\n",
       "        text-align: right;\n",
       "    }\n",
       "</style>\n",
       "<table border=\"1\" class=\"dataframe\">\n",
       "  <thead>\n",
       "    <tr style=\"text-align: right;\">\n",
       "      <th></th>\n",
       "      <th>content</th>\n",
       "      <th>page</th>\n",
       "      <th>file</th>\n",
       "      <th>date</th>\n",
       "      <th>cleaned_tokens</th>\n",
       "      <th>enemy_words_occurrences_counter</th>\n",
       "      <th>enemy_words_occurrences_sum</th>\n",
       "    </tr>\n",
       "  </thead>\n",
       "  <tbody>\n",
       "    <tr>\n",
       "      <th>211</th>\n",
       "      <td>1 ـه1437/1/3 | لولأا ددعلا\\nيملاعإ بتكم برقأ ع...</td>\n",
       "      <td>1</td>\n",
       "      <td>the-islamic-state-al-nabacc84_-newsletter-1.pdf</td>\n",
       "      <td>2015-10-16</td>\n",
       "      <td>[مضادا, فسيطروا, حاجزين, إمداد, وإدلب, حاول, أ...</td>\n",
       "      <td>{'نصارى': 0, 'صليبيون': 0, 'صليبيين': 0, 'صليب...</td>\n",
       "      <td>0</td>\n",
       "    </tr>\n",
       "    <tr>\n",
       "      <th>213</th>\n",
       "      <td>3 ـه1437/1/3 | لولأا ددعلا\\nّ\\n)تيركت( لامشو )...</td>\n",
       "      <td>3</td>\n",
       "      <td>the-islamic-state-al-nabacc84_-newsletter-1.pdf</td>\n",
       "      <td>2015-10-16</td>\n",
       "      <td>[رافضي, سيارتهم, بعبوتين, ناسفتين, المنطقة, بع...</td>\n",
       "      <td>{'نصارى': 0, 'صليبيون': 0, 'صليبيين': 0, 'صليب...</td>\n",
       "      <td>2</td>\n",
       "    </tr>\n",
       "    <tr>\n",
       "      <th>214</th>\n",
       "      <td>ـه1437/1/3 | لولأا ددعلا 4\\nّ\\n)ةروبصلا( ةيرق ...</td>\n",
       "      <td>4</td>\n",
       "      <td>the-islamic-state-al-nabacc84_-newsletter-1.pdf</td>\n",
       "      <td>2015-10-16</td>\n",
       "      <td>[اللجاة, فجرت, الطرفين, اغتنم, المجاهدون, القل...</td>\n",
       "      <td>{'نصارى': 0, 'صليبيون': 0, 'صليبيين': 0, 'صليب...</td>\n",
       "      <td>9</td>\n",
       "    </tr>\n",
       "    <tr>\n",
       "      <th>215</th>\n",
       "      <td>5 ـه1437/1/3 | لولأا ددعلا\\nّ\\nّ\\nيلشماقلا ةني...</td>\n",
       "      <td>5</td>\n",
       "      <td>the-islamic-state-al-nabacc84_-newsletter-1.pdf</td>\n",
       "      <td>2015-10-16</td>\n",
       "      <td>[القتلى, دائم, لعمليات, نوعية, تسفر, إعطابها, ...</td>\n",
       "      <td>{'نصارى': 0, 'صليبيون': 0, 'صليبيين': 0, 'صليب...</td>\n",
       "      <td>6</td>\n",
       "    </tr>\n",
       "    <tr>\n",
       "      <th>216</th>\n",
       "      <td>ـه1437/1/3 | لولأا ددعلا 6\\nّ\\n)ةريفسلا(و )راج...</td>\n",
       "      <td>6</td>\n",
       "      <td>the-islamic-state-al-nabacc84_-newsletter-1.pdf</td>\n",
       "      <td>2015-10-16</td>\n",
       "      <td>[البحرين, الخليج, جندي, الحمزة, بمناطق, وقطر, ...</td>\n",
       "      <td>{'نصارى': 0, 'صليبيون': 0, 'صليبيين': 0, 'صليب...</td>\n",
       "      <td>4</td>\n",
       "    </tr>\n",
       "    <tr>\n",
       "      <th>...</th>\n",
       "      <td>...</td>\n",
       "      <td>...</td>\n",
       "      <td>...</td>\n",
       "      <td>...</td>\n",
       "      <td>...</td>\n",
       "      <td>...</td>\n",
       "      <td>...</td>\n",
       "    </tr>\n",
       "    <tr>\n",
       "      <th>1782</th>\n",
       "      <td>7\\nراــبخأ 315 ددعلا\\nـه 1443 يناثلا عيبر 27 س...</td>\n",
       "      <td>7</td>\n",
       "      <td>The-Islamic-State-al-Nabā-Newsletter-315.pdf</td>\n",
       "      <td>2021-10-22</td>\n",
       "      <td>[ربيع, كانا, لتدمريها, الـkkp, مداهمة, منزله, ...</td>\n",
       "      <td>{'نصارى': 0, 'صليبيون': 0, 'صليبيين': 0, 'صليب...</td>\n",
       "      <td>0</td>\n",
       "    </tr>\n",
       "    <tr>\n",
       "      <th>1783</th>\n",
       "      <td>8\\n315 ددعلا راــبخأ\\nـه 1443 يناثلا عيبر 27 س...</td>\n",
       "      <td>8</td>\n",
       "      <td>The-Islamic-State-al-Nabā-Newsletter-315.pdf</td>\n",
       "      <td>2021-10-22</td>\n",
       "      <td>[آليتهم, مسلح, سويدان, ذيبان, مقديشو, الـkkp, ...</td>\n",
       "      <td>{'نصارى': 0, 'صليبيون': 0, 'صليبيين': 0, 'صليب...</td>\n",
       "      <td>7</td>\n",
       "    </tr>\n",
       "    <tr>\n",
       "      <th>1784</th>\n",
       "      <td>9\\nتلااقم 315 ددعلا\\nـه 1443 يناثلا عيبر 27 سي...</td>\n",
       "      <td>9</td>\n",
       "      <td>The-Islamic-State-al-Nabā-Newsletter-315.pdf</td>\n",
       "      <td>2021-10-22</td>\n",
       "      <td>[نعيم, الجنة, منكم, صدر, زاد, معرفته, والعلم, ...</td>\n",
       "      <td>{'نصارى': 0, 'صليبيون': 0, 'صليبيين': 0, 'صليب...</td>\n",
       "      <td>0</td>\n",
       "    </tr>\n",
       "    <tr>\n",
       "      <th>1785</th>\n",
       "      <td>10\\n315 ددعلا ديهش ةصق\\nـه 1443 يناثلا عيبر 27...</td>\n",
       "      <td>10</td>\n",
       "      <td>The-Islamic-State-al-Nabā-Newsletter-315.pdf</td>\n",
       "      <td>2021-10-22</td>\n",
       "      <td>[وقرية, وتعلم, قريته, مدة, للعمل, الكتب, وهن, ...</td>\n",
       "      <td>{'نصارى': 0, 'صليبيون': 0, 'صليبيين': 0, 'صليب...</td>\n",
       "      <td>0</td>\n",
       "    </tr>\n",
       "    <tr>\n",
       "      <th>1786</th>\n",
       "      <td>11\\nديهش ةصق 315 ددعلا\\nـه 1443 يناثلا عيبر 27...</td>\n",
       "      <td>11</td>\n",
       "      <td>The-Islamic-State-al-Nabā-Newsletter-315.pdf</td>\n",
       "      <td>2021-10-22</td>\n",
       "      <td>[لحظة, الهندية, الهند, الكافرة, الهندية, ربيع,...</td>\n",
       "      <td>{'نصارى': 0, 'صليبيون': 0, 'صليبيين': 0, 'صليب...</td>\n",
       "      <td>0</td>\n",
       "    </tr>\n",
       "  </tbody>\n",
       "</table>\n",
       "<p>3422 rows × 7 columns</p>\n",
       "</div>"
      ],
      "text/plain": [
       "                                                content  page  \\\n",
       "211   1 ـه1437/1/3 | لولأا ددعلا\\nيملاعإ بتكم برقأ ع...     1   \n",
       "213   3 ـه1437/1/3 | لولأا ددعلا\\nّ\\n)تيركت( لامشو )...     3   \n",
       "214   ـه1437/1/3 | لولأا ددعلا 4\\nّ\\n)ةروبصلا( ةيرق ...     4   \n",
       "215   5 ـه1437/1/3 | لولأا ددعلا\\nّ\\nّ\\nيلشماقلا ةني...     5   \n",
       "216   ـه1437/1/3 | لولأا ددعلا 6\\nّ\\n)ةريفسلا(و )راج...     6   \n",
       "...                                                 ...   ...   \n",
       "1782  7\\nراــبخأ 315 ددعلا\\nـه 1443 يناثلا عيبر 27 س...     7   \n",
       "1783  8\\n315 ددعلا راــبخأ\\nـه 1443 يناثلا عيبر 27 س...     8   \n",
       "1784  9\\nتلااقم 315 ددعلا\\nـه 1443 يناثلا عيبر 27 سي...     9   \n",
       "1785  10\\n315 ددعلا ديهش ةصق\\nـه 1443 يناثلا عيبر 27...    10   \n",
       "1786  11\\nديهش ةصق 315 ددعلا\\nـه 1443 يناثلا عيبر 27...    11   \n",
       "\n",
       "                                                 file        date  \\\n",
       "211   the-islamic-state-al-nabacc84_-newsletter-1.pdf  2015-10-16   \n",
       "213   the-islamic-state-al-nabacc84_-newsletter-1.pdf  2015-10-16   \n",
       "214   the-islamic-state-al-nabacc84_-newsletter-1.pdf  2015-10-16   \n",
       "215   the-islamic-state-al-nabacc84_-newsletter-1.pdf  2015-10-16   \n",
       "216   the-islamic-state-al-nabacc84_-newsletter-1.pdf  2015-10-16   \n",
       "...                                               ...         ...   \n",
       "1782     The-Islamic-State-al-Nabā-Newsletter-315.pdf  2021-10-22   \n",
       "1783     The-Islamic-State-al-Nabā-Newsletter-315.pdf  2021-10-22   \n",
       "1784     The-Islamic-State-al-Nabā-Newsletter-315.pdf  2021-10-22   \n",
       "1785     The-Islamic-State-al-Nabā-Newsletter-315.pdf  2021-10-22   \n",
       "1786     The-Islamic-State-al-Nabā-Newsletter-315.pdf  2021-10-22   \n",
       "\n",
       "                                         cleaned_tokens  \\\n",
       "211   [مضادا, فسيطروا, حاجزين, إمداد, وإدلب, حاول, أ...   \n",
       "213   [رافضي, سيارتهم, بعبوتين, ناسفتين, المنطقة, بع...   \n",
       "214   [اللجاة, فجرت, الطرفين, اغتنم, المجاهدون, القل...   \n",
       "215   [القتلى, دائم, لعمليات, نوعية, تسفر, إعطابها, ...   \n",
       "216   [البحرين, الخليج, جندي, الحمزة, بمناطق, وقطر, ...   \n",
       "...                                                 ...   \n",
       "1782  [ربيع, كانا, لتدمريها, الـkkp, مداهمة, منزله, ...   \n",
       "1783  [آليتهم, مسلح, سويدان, ذيبان, مقديشو, الـkkp, ...   \n",
       "1784  [نعيم, الجنة, منكم, صدر, زاد, معرفته, والعلم, ...   \n",
       "1785  [وقرية, وتعلم, قريته, مدة, للعمل, الكتب, وهن, ...   \n",
       "1786  [لحظة, الهندية, الهند, الكافرة, الهندية, ربيع,...   \n",
       "\n",
       "                        enemy_words_occurrences_counter  \\\n",
       "211   {'نصارى': 0, 'صليبيون': 0, 'صليبيين': 0, 'صليب...   \n",
       "213   {'نصارى': 0, 'صليبيون': 0, 'صليبيين': 0, 'صليب...   \n",
       "214   {'نصارى': 0, 'صليبيون': 0, 'صليبيين': 0, 'صليب...   \n",
       "215   {'نصارى': 0, 'صليبيون': 0, 'صليبيين': 0, 'صليب...   \n",
       "216   {'نصارى': 0, 'صليبيون': 0, 'صليبيين': 0, 'صليب...   \n",
       "...                                                 ...   \n",
       "1782  {'نصارى': 0, 'صليبيون': 0, 'صليبيين': 0, 'صليب...   \n",
       "1783  {'نصارى': 0, 'صليبيون': 0, 'صليبيين': 0, 'صليب...   \n",
       "1784  {'نصارى': 0, 'صليبيون': 0, 'صليبيين': 0, 'صليب...   \n",
       "1785  {'نصارى': 0, 'صليبيون': 0, 'صليبيين': 0, 'صليب...   \n",
       "1786  {'نصارى': 0, 'صليبيون': 0, 'صليبيين': 0, 'صليب...   \n",
       "\n",
       "      enemy_words_occurrences_sum  \n",
       "211                             0  \n",
       "213                             2  \n",
       "214                             9  \n",
       "215                             6  \n",
       "216                             4  \n",
       "...                           ...  \n",
       "1782                            0  \n",
       "1783                            7  \n",
       "1784                            0  \n",
       "1785                            0  \n",
       "1786                            0  \n",
       "\n",
       "[3422 rows x 7 columns]"
      ]
     },
     "execution_count": 3,
     "metadata": {},
     "output_type": "execute_result"
    }
   ],
   "source": [
    "df = load_dat['data_df']\n",
    "df = df.sort_values(by='date')\n",
    "df"
   ]
  },
  {
   "cell_type": "code",
   "execution_count": 4,
   "metadata": {},
   "outputs": [
    {
     "name": "stderr",
     "output_type": "stream",
     "text": [
      "c:\\Users\\kantg\\.conda\\envs\\arabic-nlp\\lib\\site-packages\\ipykernel\\ipkernel.py:287: DeprecationWarning: `should_run_async` will not call `transform_cell` automatically in the future. Please pass the result to `transformed_cell` argument and any exception that happen during thetransform in `preprocessing_exc_tuple` in IPython 7.17 and above.\n",
      "  and should_run_async(code)\n"
     ]
    },
    {
     "data": {
      "text/html": [
       "<div>\n",
       "<style scoped>\n",
       "    .dataframe tbody tr th:only-of-type {\n",
       "        vertical-align: middle;\n",
       "    }\n",
       "\n",
       "    .dataframe tbody tr th {\n",
       "        vertical-align: top;\n",
       "    }\n",
       "\n",
       "    .dataframe thead th {\n",
       "        text-align: right;\n",
       "    }\n",
       "</style>\n",
       "<table border=\"1\" class=\"dataframe\">\n",
       "  <thead>\n",
       "    <tr style=\"text-align: right;\">\n",
       "      <th></th>\n",
       "      <th>content</th>\n",
       "      <th>page</th>\n",
       "      <th>file</th>\n",
       "      <th>date</th>\n",
       "      <th>cleaned_tokens</th>\n",
       "      <th>enemy_words_occurrences_counter</th>\n",
       "      <th>enemy_words_occurrences_sum</th>\n",
       "    </tr>\n",
       "  </thead>\n",
       "  <tbody>\n",
       "    <tr>\n",
       "      <th>214</th>\n",
       "      <td>ـه1437/1/3 | لولأا ددعلا 4\\nّ\\n)ةروبصلا( ةيرق ...</td>\n",
       "      <td>4</td>\n",
       "      <td>the-islamic-state-al-nabacc84_-newsletter-1.pdf</td>\n",
       "      <td>2015-10-16</td>\n",
       "      <td>[اللجاة, فجرت, الطرفين, اغتنم, المجاهدون, القل...</td>\n",
       "      <td>{'نصارى': 0, 'صليبيون': 0, 'صليبيين': 0, 'صليب...</td>\n",
       "      <td>9</td>\n",
       "    </tr>\n",
       "    <tr>\n",
       "      <th>215</th>\n",
       "      <td>5 ـه1437/1/3 | لولأا ددعلا\\nّ\\nّ\\nيلشماقلا ةني...</td>\n",
       "      <td>5</td>\n",
       "      <td>the-islamic-state-al-nabacc84_-newsletter-1.pdf</td>\n",
       "      <td>2015-10-16</td>\n",
       "      <td>[القتلى, دائم, لعمليات, نوعية, تسفر, إعطابها, ...</td>\n",
       "      <td>{'نصارى': 0, 'صليبيون': 0, 'صليبيين': 0, 'صليب...</td>\n",
       "      <td>6</td>\n",
       "    </tr>\n",
       "    <tr>\n",
       "      <th>216</th>\n",
       "      <td>ـه1437/1/3 | لولأا ددعلا 6\\nّ\\n)ةريفسلا(و )راج...</td>\n",
       "      <td>6</td>\n",
       "      <td>the-islamic-state-al-nabacc84_-newsletter-1.pdf</td>\n",
       "      <td>2015-10-16</td>\n",
       "      <td>[البحرين, الخليج, جندي, الحمزة, بمناطق, وقطر, ...</td>\n",
       "      <td>{'نصارى': 0, 'صليبيون': 0, 'صليبيين': 0, 'صليب...</td>\n",
       "      <td>4</td>\n",
       "    </tr>\n",
       "    <tr>\n",
       "      <th>846</th>\n",
       "      <td>ـه1437/1/10 | يناثلا ددعلا 4\\nاهفيرو بلح ةنيدم...</td>\n",
       "      <td>4</td>\n",
       "      <td>the-islamic-state-al-nabacc84_-newsletter-2.pdf</td>\n",
       "      <td>2015-10-23</td>\n",
       "      <td>[بصاروخي, غراد, مباشرة, العناصر, لمنطقة, باجور...</td>\n",
       "      <td>{'نصارى': 0, 'صليبيون': 0, 'صليبيين': 0, 'صليب...</td>\n",
       "      <td>6</td>\n",
       "    </tr>\n",
       "    <tr>\n",
       "      <th>845</th>\n",
       "      <td>3 ـه1437/1/10 | يناثلا ددعلا\\nّا ّا\\n)ةشير وبل...</td>\n",
       "      <td>3</td>\n",
       "      <td>the-islamic-state-al-nabacc84_-newsletter-2.pdf</td>\n",
       "      <td>2015-10-23</td>\n",
       "      <td>[الصفوية, وتصفيته, بهرز, الصفوية, استهدافه, نا...</td>\n",
       "      <td>{'نصارى': 0, 'صليبيون': 0, 'صليبيين': 0, 'صليب...</td>\n",
       "      <td>5</td>\n",
       "    </tr>\n",
       "    <tr>\n",
       "      <th>...</th>\n",
       "      <td>...</td>\n",
       "      <td>...</td>\n",
       "      <td>...</td>\n",
       "      <td>...</td>\n",
       "      <td>...</td>\n",
       "      <td>...</td>\n",
       "      <td>...</td>\n",
       "    </tr>\n",
       "    <tr>\n",
       "      <th>1749</th>\n",
       "      <td>صاخ\\n4\\n308 ددعلا راــبخأ\\nـه 1443 لولأا عيبر ...</td>\n",
       "      <td>4</td>\n",
       "      <td>The-Islamic-State-al-Nabā-Newsletter-308.pdf</td>\n",
       "      <td>2021-09-03</td>\n",
       "      <td>[صورة, معبد, بيشاور, بطلقات, مسدس, خوجياني, أب...</td>\n",
       "      <td>{'نصارى': 0, 'صليبيون': 0, 'صليبيين': 0, 'صليب...</td>\n",
       "      <td>6</td>\n",
       "    </tr>\n",
       "    <tr>\n",
       "      <th>1759</th>\n",
       "      <td>صاخ\\n4\\n312 ددعلا ريراقت\\nـه 1443 يناثلا عيبر ...</td>\n",
       "      <td>4</td>\n",
       "      <td>The-Islamic-State-al-Nabā-Newsletter-312.pdf</td>\n",
       "      <td>2021-10-01</td>\n",
       "      <td>[ربيع, وأحرق, تقريرا, مصورا, يوثق, اغتنمها, بت...</td>\n",
       "      <td>{'نصارى': 0, 'صليبيون': 0, 'صليبيين': 0, 'صليب...</td>\n",
       "      <td>7</td>\n",
       "    </tr>\n",
       "    <tr>\n",
       "      <th>1773</th>\n",
       "      <td>8\\n314 ددعلا راــبخأ\\nـه 1443 يناثلا عيبر 20 س...</td>\n",
       "      <td>8</td>\n",
       "      <td>The-Islamic-State-al-Nabā-Newsletter-314.pdf</td>\n",
       "      <td>2021-10-15</td>\n",
       "      <td>[بنيران, باكستان, ربيع, بطلقات, بتوفيق, باكستا...</td>\n",
       "      <td>{'نصارى': 0, 'صليبيون': 0, 'صليبيين': 0, 'صليب...</td>\n",
       "      <td>4</td>\n",
       "    </tr>\n",
       "    <tr>\n",
       "      <th>1779</th>\n",
       "      <td>صاخ\\n4\\n315 ددعلا راــبخأ\\nـه 1443 يناثلا عيبر...</td>\n",
       "      <td>4</td>\n",
       "      <td>The-Islamic-State-al-Nabā-Newsletter-315.pdf</td>\n",
       "      <td>2021-10-22</td>\n",
       "      <td>[حرارية, الرشاش, الثقيل, هجومهم, البيشمركة, يش...</td>\n",
       "      <td>{'نصارى': 0, 'صليبيون': 0, 'صليبيين': 0, 'صليب...</td>\n",
       "      <td>9</td>\n",
       "    </tr>\n",
       "    <tr>\n",
       "      <th>1783</th>\n",
       "      <td>8\\n315 ددعلا راــبخأ\\nـه 1443 يناثلا عيبر 27 س...</td>\n",
       "      <td>8</td>\n",
       "      <td>The-Islamic-State-al-Nabā-Newsletter-315.pdf</td>\n",
       "      <td>2021-10-22</td>\n",
       "      <td>[آليتهم, مسلح, سويدان, ذيبان, مقديشو, الـkkp, ...</td>\n",
       "      <td>{'نصارى': 0, 'صليبيون': 0, 'صليبيين': 0, 'صليب...</td>\n",
       "      <td>7</td>\n",
       "    </tr>\n",
       "  </tbody>\n",
       "</table>\n",
       "<p>387 rows × 7 columns</p>\n",
       "</div>"
      ],
      "text/plain": [
       "                                                content  page  \\\n",
       "214   ـه1437/1/3 | لولأا ددعلا 4\\nّ\\n)ةروبصلا( ةيرق ...     4   \n",
       "215   5 ـه1437/1/3 | لولأا ددعلا\\nّ\\nّ\\nيلشماقلا ةني...     5   \n",
       "216   ـه1437/1/3 | لولأا ددعلا 6\\nّ\\n)ةريفسلا(و )راج...     6   \n",
       "846   ـه1437/1/10 | يناثلا ددعلا 4\\nاهفيرو بلح ةنيدم...     4   \n",
       "845   3 ـه1437/1/10 | يناثلا ددعلا\\nّا ّا\\n)ةشير وبل...     3   \n",
       "...                                                 ...   ...   \n",
       "1749  صاخ\\n4\\n308 ددعلا راــبخأ\\nـه 1443 لولأا عيبر ...     4   \n",
       "1759  صاخ\\n4\\n312 ددعلا ريراقت\\nـه 1443 يناثلا عيبر ...     4   \n",
       "1773  8\\n314 ددعلا راــبخأ\\nـه 1443 يناثلا عيبر 20 س...     8   \n",
       "1779  صاخ\\n4\\n315 ددعلا راــبخأ\\nـه 1443 يناثلا عيبر...     4   \n",
       "1783  8\\n315 ددعلا راــبخأ\\nـه 1443 يناثلا عيبر 27 س...     8   \n",
       "\n",
       "                                                 file        date  \\\n",
       "214   the-islamic-state-al-nabacc84_-newsletter-1.pdf  2015-10-16   \n",
       "215   the-islamic-state-al-nabacc84_-newsletter-1.pdf  2015-10-16   \n",
       "216   the-islamic-state-al-nabacc84_-newsletter-1.pdf  2015-10-16   \n",
       "846   the-islamic-state-al-nabacc84_-newsletter-2.pdf  2015-10-23   \n",
       "845   the-islamic-state-al-nabacc84_-newsletter-2.pdf  2015-10-23   \n",
       "...                                               ...         ...   \n",
       "1749     The-Islamic-State-al-Nabā-Newsletter-308.pdf  2021-09-03   \n",
       "1759     The-Islamic-State-al-Nabā-Newsletter-312.pdf  2021-10-01   \n",
       "1773     The-Islamic-State-al-Nabā-Newsletter-314.pdf  2021-10-15   \n",
       "1779     The-Islamic-State-al-Nabā-Newsletter-315.pdf  2021-10-22   \n",
       "1783     The-Islamic-State-al-Nabā-Newsletter-315.pdf  2021-10-22   \n",
       "\n",
       "                                         cleaned_tokens  \\\n",
       "214   [اللجاة, فجرت, الطرفين, اغتنم, المجاهدون, القل...   \n",
       "215   [القتلى, دائم, لعمليات, نوعية, تسفر, إعطابها, ...   \n",
       "216   [البحرين, الخليج, جندي, الحمزة, بمناطق, وقطر, ...   \n",
       "846   [بصاروخي, غراد, مباشرة, العناصر, لمنطقة, باجور...   \n",
       "845   [الصفوية, وتصفيته, بهرز, الصفوية, استهدافه, نا...   \n",
       "...                                                 ...   \n",
       "1749  [صورة, معبد, بيشاور, بطلقات, مسدس, خوجياني, أب...   \n",
       "1759  [ربيع, وأحرق, تقريرا, مصورا, يوثق, اغتنمها, بت...   \n",
       "1773  [بنيران, باكستان, ربيع, بطلقات, بتوفيق, باكستا...   \n",
       "1779  [حرارية, الرشاش, الثقيل, هجومهم, البيشمركة, يش...   \n",
       "1783  [آليتهم, مسلح, سويدان, ذيبان, مقديشو, الـkkp, ...   \n",
       "\n",
       "                        enemy_words_occurrences_counter  \\\n",
       "214   {'نصارى': 0, 'صليبيون': 0, 'صليبيين': 0, 'صليب...   \n",
       "215   {'نصارى': 0, 'صليبيون': 0, 'صليبيين': 0, 'صليب...   \n",
       "216   {'نصارى': 0, 'صليبيون': 0, 'صليبيين': 0, 'صليب...   \n",
       "846   {'نصارى': 0, 'صليبيون': 0, 'صليبيين': 0, 'صليب...   \n",
       "845   {'نصارى': 0, 'صليبيون': 0, 'صليبيين': 0, 'صليب...   \n",
       "...                                                 ...   \n",
       "1749  {'نصارى': 0, 'صليبيون': 0, 'صليبيين': 0, 'صليب...   \n",
       "1759  {'نصارى': 0, 'صليبيون': 0, 'صليبيين': 0, 'صليب...   \n",
       "1773  {'نصارى': 0, 'صليبيون': 0, 'صليبيين': 0, 'صليب...   \n",
       "1779  {'نصارى': 0, 'صليبيون': 0, 'صليبيين': 0, 'صليب...   \n",
       "1783  {'نصارى': 0, 'صليبيون': 0, 'صليبيين': 0, 'صليب...   \n",
       "\n",
       "      enemy_words_occurrences_sum  \n",
       "214                             9  \n",
       "215                             6  \n",
       "216                             4  \n",
       "846                             6  \n",
       "845                             5  \n",
       "...                           ...  \n",
       "1749                            6  \n",
       "1759                            7  \n",
       "1773                            4  \n",
       "1779                            9  \n",
       "1783                            7  \n",
       "\n",
       "[387 rows x 7 columns]"
      ]
     },
     "execution_count": 4,
     "metadata": {},
     "output_type": "execute_result"
    }
   ],
   "source": [
    "pages_per_months_df = df[df['enemy_words_occurrences_sum'] > 3]\n",
    "pages_per_months_df = pages_per_months_df.sort_values(by='date')\n",
    "pages_per_months_df"
   ]
  },
  {
   "cell_type": "code",
   "execution_count": 5,
   "metadata": {},
   "outputs": [
    {
     "name": "stderr",
     "output_type": "stream",
     "text": [
      "c:\\Users\\kantg\\.conda\\envs\\arabic-nlp\\lib\\site-packages\\ipykernel\\ipkernel.py:287: DeprecationWarning: `should_run_async` will not call `transform_cell` automatically in the future. Please pass the result to `transformed_cell` argument and any exception that happen during thetransform in `preprocessing_exc_tuple` in IPython 7.17 and above.\n",
      "  and should_run_async(code)\n"
     ]
    }
   ],
   "source": [
    "# part df monthwise\n",
    "entries_monthwise = []\n",
    "for year in range(2015, 2022):\n",
    "    for month in range(1,13):\n",
    "        df_append = df[df['date'].apply(lambda x: x.year == year and x.month == month)]\n",
    "        df_append.reset_index(drop=True, inplace=True)\n",
    "        if not df_append.empty: \n",
    "            entries_monthwise.append(df_append)"
   ]
  },
  {
   "cell_type": "code",
   "execution_count": 6,
   "metadata": {},
   "outputs": [
    {
     "name": "stderr",
     "output_type": "stream",
     "text": [
      "c:\\Users\\kantg\\.conda\\envs\\arabic-nlp\\lib\\site-packages\\ipykernel\\ipkernel.py:287: DeprecationWarning: `should_run_async` will not call `transform_cell` automatically in the future. Please pass the result to `transformed_cell` argument and any exception that happen during thetransform in `preprocessing_exc_tuple` in IPython 7.17 and above.\n",
      "  and should_run_async(code)\n"
     ]
    },
    {
     "data": {
      "application/vnd.plotly.v1+json": {
       "config": {
        "plotlyServerURL": "https://plot.ly"
       },
       "data": [
        {
         "alignmentgroup": "True",
         "hovertemplate": "Time=%{x}<br>Sum of outgroup-related words=%{y}<extra></extra>",
         "legendgroup": "",
         "marker": {
          "color": "#636efa",
          "pattern": {
           "shape": ""
          }
         },
         "name": "",
         "offsetgroup": "",
         "orientation": "v",
         "showlegend": false,
         "textposition": "auto",
         "type": "bar",
         "x": [
          "2015-10-01",
          "2015-11-01",
          "2015-12-01",
          "2016-01-01",
          "2016-02-01",
          "2016-03-01",
          "2016-04-01",
          "2016-05-01",
          "2016-06-01",
          "2016-07-01",
          "2016-08-01",
          "2016-09-01",
          "2016-10-01",
          "2016-11-01",
          "2016-12-01",
          "2017-01-01",
          "2017-02-01",
          "2017-03-01",
          "2017-04-01",
          "2017-05-01",
          "2017-06-01",
          "2017-07-01",
          "2017-08-01",
          "2017-09-01",
          "2017-10-01",
          "2017-11-01",
          "2017-12-01",
          "2018-01-01",
          "2018-02-01",
          "2018-03-01",
          "2018-04-01",
          "2018-05-01",
          "2018-06-01",
          "2018-07-01",
          "2018-08-01",
          "2018-09-01",
          "2018-10-01",
          "2018-11-01",
          "2018-12-01",
          "2019-01-01",
          "2019-02-01",
          "2019-03-01",
          "2019-04-01",
          "2019-05-01",
          "2019-06-01",
          "2019-07-01",
          "2019-08-01",
          "2019-09-01",
          "2019-10-01",
          "2019-11-01",
          "2019-12-01",
          "2020-01-01",
          "2020-02-01",
          "2020-03-01",
          "2020-04-01",
          "2020-05-01",
          "2020-06-01",
          "2020-07-01",
          "2020-08-01",
          "2020-09-01",
          "2020-10-01",
          "2020-11-01",
          "2020-12-01",
          "2021-01-01",
          "2021-02-01",
          "2021-03-01",
          "2021-04-01",
          "2021-05-01",
          "2021-07-01",
          "2021-08-01",
          "2021-09-01",
          "2021-10-01"
         ],
         "xaxis": "x",
         "y": [
          94,
          220,
          287,
          90,
          49,
          55,
          96,
          85,
          40,
          97,
          87,
          133,
          114,
          64,
          104,
          53,
          69,
          100,
          61,
          112,
          92,
          75,
          72,
          83,
          45,
          28,
          57,
          63,
          29,
          65,
          56,
          46,
          45,
          45,
          64,
          87,
          36,
          91,
          47,
          24,
          60,
          90,
          67,
          56,
          26,
          30,
          77,
          33,
          66,
          94,
          79,
          81,
          61,
          45,
          62,
          56,
          56,
          78,
          51,
          63,
          88,
          71,
          35,
          71,
          35,
          41,
          41,
          21,
          53,
          37,
          25,
          53
         ],
         "yaxis": "y"
        }
       ],
       "layout": {
        "barmode": "relative",
        "legend": {
         "tracegroupgap": 0
        },
        "margin": {
         "t": 60
        },
        "template": {
         "data": {
          "bar": [
           {
            "error_x": {
             "color": "#2a3f5f"
            },
            "error_y": {
             "color": "#2a3f5f"
            },
            "marker": {
             "line": {
              "color": "#E5ECF6",
              "width": 0.5
             },
             "pattern": {
              "fillmode": "overlay",
              "size": 10,
              "solidity": 0.2
             }
            },
            "type": "bar"
           }
          ],
          "barpolar": [
           {
            "marker": {
             "line": {
              "color": "#E5ECF6",
              "width": 0.5
             },
             "pattern": {
              "fillmode": "overlay",
              "size": 10,
              "solidity": 0.2
             }
            },
            "type": "barpolar"
           }
          ],
          "carpet": [
           {
            "aaxis": {
             "endlinecolor": "#2a3f5f",
             "gridcolor": "white",
             "linecolor": "white",
             "minorgridcolor": "white",
             "startlinecolor": "#2a3f5f"
            },
            "baxis": {
             "endlinecolor": "#2a3f5f",
             "gridcolor": "white",
             "linecolor": "white",
             "minorgridcolor": "white",
             "startlinecolor": "#2a3f5f"
            },
            "type": "carpet"
           }
          ],
          "choropleth": [
           {
            "colorbar": {
             "outlinewidth": 0,
             "ticks": ""
            },
            "type": "choropleth"
           }
          ],
          "contour": [
           {
            "colorbar": {
             "outlinewidth": 0,
             "ticks": ""
            },
            "colorscale": [
             [
              0,
              "#0d0887"
             ],
             [
              0.1111111111111111,
              "#46039f"
             ],
             [
              0.2222222222222222,
              "#7201a8"
             ],
             [
              0.3333333333333333,
              "#9c179e"
             ],
             [
              0.4444444444444444,
              "#bd3786"
             ],
             [
              0.5555555555555556,
              "#d8576b"
             ],
             [
              0.6666666666666666,
              "#ed7953"
             ],
             [
              0.7777777777777778,
              "#fb9f3a"
             ],
             [
              0.8888888888888888,
              "#fdca26"
             ],
             [
              1,
              "#f0f921"
             ]
            ],
            "type": "contour"
           }
          ],
          "contourcarpet": [
           {
            "colorbar": {
             "outlinewidth": 0,
             "ticks": ""
            },
            "type": "contourcarpet"
           }
          ],
          "heatmap": [
           {
            "colorbar": {
             "outlinewidth": 0,
             "ticks": ""
            },
            "colorscale": [
             [
              0,
              "#0d0887"
             ],
             [
              0.1111111111111111,
              "#46039f"
             ],
             [
              0.2222222222222222,
              "#7201a8"
             ],
             [
              0.3333333333333333,
              "#9c179e"
             ],
             [
              0.4444444444444444,
              "#bd3786"
             ],
             [
              0.5555555555555556,
              "#d8576b"
             ],
             [
              0.6666666666666666,
              "#ed7953"
             ],
             [
              0.7777777777777778,
              "#fb9f3a"
             ],
             [
              0.8888888888888888,
              "#fdca26"
             ],
             [
              1,
              "#f0f921"
             ]
            ],
            "type": "heatmap"
           }
          ],
          "heatmapgl": [
           {
            "colorbar": {
             "outlinewidth": 0,
             "ticks": ""
            },
            "colorscale": [
             [
              0,
              "#0d0887"
             ],
             [
              0.1111111111111111,
              "#46039f"
             ],
             [
              0.2222222222222222,
              "#7201a8"
             ],
             [
              0.3333333333333333,
              "#9c179e"
             ],
             [
              0.4444444444444444,
              "#bd3786"
             ],
             [
              0.5555555555555556,
              "#d8576b"
             ],
             [
              0.6666666666666666,
              "#ed7953"
             ],
             [
              0.7777777777777778,
              "#fb9f3a"
             ],
             [
              0.8888888888888888,
              "#fdca26"
             ],
             [
              1,
              "#f0f921"
             ]
            ],
            "type": "heatmapgl"
           }
          ],
          "histogram": [
           {
            "marker": {
             "pattern": {
              "fillmode": "overlay",
              "size": 10,
              "solidity": 0.2
             }
            },
            "type": "histogram"
           }
          ],
          "histogram2d": [
           {
            "colorbar": {
             "outlinewidth": 0,
             "ticks": ""
            },
            "colorscale": [
             [
              0,
              "#0d0887"
             ],
             [
              0.1111111111111111,
              "#46039f"
             ],
             [
              0.2222222222222222,
              "#7201a8"
             ],
             [
              0.3333333333333333,
              "#9c179e"
             ],
             [
              0.4444444444444444,
              "#bd3786"
             ],
             [
              0.5555555555555556,
              "#d8576b"
             ],
             [
              0.6666666666666666,
              "#ed7953"
             ],
             [
              0.7777777777777778,
              "#fb9f3a"
             ],
             [
              0.8888888888888888,
              "#fdca26"
             ],
             [
              1,
              "#f0f921"
             ]
            ],
            "type": "histogram2d"
           }
          ],
          "histogram2dcontour": [
           {
            "colorbar": {
             "outlinewidth": 0,
             "ticks": ""
            },
            "colorscale": [
             [
              0,
              "#0d0887"
             ],
             [
              0.1111111111111111,
              "#46039f"
             ],
             [
              0.2222222222222222,
              "#7201a8"
             ],
             [
              0.3333333333333333,
              "#9c179e"
             ],
             [
              0.4444444444444444,
              "#bd3786"
             ],
             [
              0.5555555555555556,
              "#d8576b"
             ],
             [
              0.6666666666666666,
              "#ed7953"
             ],
             [
              0.7777777777777778,
              "#fb9f3a"
             ],
             [
              0.8888888888888888,
              "#fdca26"
             ],
             [
              1,
              "#f0f921"
             ]
            ],
            "type": "histogram2dcontour"
           }
          ],
          "mesh3d": [
           {
            "colorbar": {
             "outlinewidth": 0,
             "ticks": ""
            },
            "type": "mesh3d"
           }
          ],
          "parcoords": [
           {
            "line": {
             "colorbar": {
              "outlinewidth": 0,
              "ticks": ""
             }
            },
            "type": "parcoords"
           }
          ],
          "pie": [
           {
            "automargin": true,
            "type": "pie"
           }
          ],
          "scatter": [
           {
            "marker": {
             "colorbar": {
              "outlinewidth": 0,
              "ticks": ""
             }
            },
            "type": "scatter"
           }
          ],
          "scatter3d": [
           {
            "line": {
             "colorbar": {
              "outlinewidth": 0,
              "ticks": ""
             }
            },
            "marker": {
             "colorbar": {
              "outlinewidth": 0,
              "ticks": ""
             }
            },
            "type": "scatter3d"
           }
          ],
          "scattercarpet": [
           {
            "marker": {
             "colorbar": {
              "outlinewidth": 0,
              "ticks": ""
             }
            },
            "type": "scattercarpet"
           }
          ],
          "scattergeo": [
           {
            "marker": {
             "colorbar": {
              "outlinewidth": 0,
              "ticks": ""
             }
            },
            "type": "scattergeo"
           }
          ],
          "scattergl": [
           {
            "marker": {
             "colorbar": {
              "outlinewidth": 0,
              "ticks": ""
             }
            },
            "type": "scattergl"
           }
          ],
          "scattermapbox": [
           {
            "marker": {
             "colorbar": {
              "outlinewidth": 0,
              "ticks": ""
             }
            },
            "type": "scattermapbox"
           }
          ],
          "scatterpolar": [
           {
            "marker": {
             "colorbar": {
              "outlinewidth": 0,
              "ticks": ""
             }
            },
            "type": "scatterpolar"
           }
          ],
          "scatterpolargl": [
           {
            "marker": {
             "colorbar": {
              "outlinewidth": 0,
              "ticks": ""
             }
            },
            "type": "scatterpolargl"
           }
          ],
          "scatterternary": [
           {
            "marker": {
             "colorbar": {
              "outlinewidth": 0,
              "ticks": ""
             }
            },
            "type": "scatterternary"
           }
          ],
          "surface": [
           {
            "colorbar": {
             "outlinewidth": 0,
             "ticks": ""
            },
            "colorscale": [
             [
              0,
              "#0d0887"
             ],
             [
              0.1111111111111111,
              "#46039f"
             ],
             [
              0.2222222222222222,
              "#7201a8"
             ],
             [
              0.3333333333333333,
              "#9c179e"
             ],
             [
              0.4444444444444444,
              "#bd3786"
             ],
             [
              0.5555555555555556,
              "#d8576b"
             ],
             [
              0.6666666666666666,
              "#ed7953"
             ],
             [
              0.7777777777777778,
              "#fb9f3a"
             ],
             [
              0.8888888888888888,
              "#fdca26"
             ],
             [
              1,
              "#f0f921"
             ]
            ],
            "type": "surface"
           }
          ],
          "table": [
           {
            "cells": {
             "fill": {
              "color": "#EBF0F8"
             },
             "line": {
              "color": "white"
             }
            },
            "header": {
             "fill": {
              "color": "#C8D4E3"
             },
             "line": {
              "color": "white"
             }
            },
            "type": "table"
           }
          ]
         },
         "layout": {
          "annotationdefaults": {
           "arrowcolor": "#2a3f5f",
           "arrowhead": 0,
           "arrowwidth": 1
          },
          "autotypenumbers": "strict",
          "coloraxis": {
           "colorbar": {
            "outlinewidth": 0,
            "ticks": ""
           }
          },
          "colorscale": {
           "diverging": [
            [
             0,
             "#8e0152"
            ],
            [
             0.1,
             "#c51b7d"
            ],
            [
             0.2,
             "#de77ae"
            ],
            [
             0.3,
             "#f1b6da"
            ],
            [
             0.4,
             "#fde0ef"
            ],
            [
             0.5,
             "#f7f7f7"
            ],
            [
             0.6,
             "#e6f5d0"
            ],
            [
             0.7,
             "#b8e186"
            ],
            [
             0.8,
             "#7fbc41"
            ],
            [
             0.9,
             "#4d9221"
            ],
            [
             1,
             "#276419"
            ]
           ],
           "sequential": [
            [
             0,
             "#0d0887"
            ],
            [
             0.1111111111111111,
             "#46039f"
            ],
            [
             0.2222222222222222,
             "#7201a8"
            ],
            [
             0.3333333333333333,
             "#9c179e"
            ],
            [
             0.4444444444444444,
             "#bd3786"
            ],
            [
             0.5555555555555556,
             "#d8576b"
            ],
            [
             0.6666666666666666,
             "#ed7953"
            ],
            [
             0.7777777777777778,
             "#fb9f3a"
            ],
            [
             0.8888888888888888,
             "#fdca26"
            ],
            [
             1,
             "#f0f921"
            ]
           ],
           "sequentialminus": [
            [
             0,
             "#0d0887"
            ],
            [
             0.1111111111111111,
             "#46039f"
            ],
            [
             0.2222222222222222,
             "#7201a8"
            ],
            [
             0.3333333333333333,
             "#9c179e"
            ],
            [
             0.4444444444444444,
             "#bd3786"
            ],
            [
             0.5555555555555556,
             "#d8576b"
            ],
            [
             0.6666666666666666,
             "#ed7953"
            ],
            [
             0.7777777777777778,
             "#fb9f3a"
            ],
            [
             0.8888888888888888,
             "#fdca26"
            ],
            [
             1,
             "#f0f921"
            ]
           ]
          },
          "colorway": [
           "#636efa",
           "#EF553B",
           "#00cc96",
           "#ab63fa",
           "#FFA15A",
           "#19d3f3",
           "#FF6692",
           "#B6E880",
           "#FF97FF",
           "#FECB52"
          ],
          "font": {
           "color": "#2a3f5f"
          },
          "geo": {
           "bgcolor": "white",
           "lakecolor": "white",
           "landcolor": "#E5ECF6",
           "showlakes": true,
           "showland": true,
           "subunitcolor": "white"
          },
          "hoverlabel": {
           "align": "left"
          },
          "hovermode": "closest",
          "mapbox": {
           "style": "light"
          },
          "paper_bgcolor": "white",
          "plot_bgcolor": "#E5ECF6",
          "polar": {
           "angularaxis": {
            "gridcolor": "white",
            "linecolor": "white",
            "ticks": ""
           },
           "bgcolor": "#E5ECF6",
           "radialaxis": {
            "gridcolor": "white",
            "linecolor": "white",
            "ticks": ""
           }
          },
          "scene": {
           "xaxis": {
            "backgroundcolor": "#E5ECF6",
            "gridcolor": "white",
            "gridwidth": 2,
            "linecolor": "white",
            "showbackground": true,
            "ticks": "",
            "zerolinecolor": "white"
           },
           "yaxis": {
            "backgroundcolor": "#E5ECF6",
            "gridcolor": "white",
            "gridwidth": 2,
            "linecolor": "white",
            "showbackground": true,
            "ticks": "",
            "zerolinecolor": "white"
           },
           "zaxis": {
            "backgroundcolor": "#E5ECF6",
            "gridcolor": "white",
            "gridwidth": 2,
            "linecolor": "white",
            "showbackground": true,
            "ticks": "",
            "zerolinecolor": "white"
           }
          },
          "shapedefaults": {
           "line": {
            "color": "#2a3f5f"
           }
          },
          "ternary": {
           "aaxis": {
            "gridcolor": "white",
            "linecolor": "white",
            "ticks": ""
           },
           "baxis": {
            "gridcolor": "white",
            "linecolor": "white",
            "ticks": ""
           },
           "bgcolor": "#E5ECF6",
           "caxis": {
            "gridcolor": "white",
            "linecolor": "white",
            "ticks": ""
           }
          },
          "title": {
           "x": 0.05
          },
          "xaxis": {
           "automargin": true,
           "gridcolor": "white",
           "linecolor": "white",
           "ticks": "",
           "title": {
            "standoff": 15
           },
           "zerolinecolor": "white",
           "zerolinewidth": 2
          },
          "yaxis": {
           "automargin": true,
           "gridcolor": "white",
           "linecolor": "white",
           "ticks": "",
           "title": {
            "standoff": 15
           },
           "zerolinecolor": "white",
           "zerolinewidth": 2
          }
         }
        },
        "title": {
         "text": "Occurrences of signal words over time"
        },
        "xaxis": {
         "anchor": "y",
         "domain": [
          0,
          1
         ],
         "title": {
          "text": "Time"
         }
        },
        "yaxis": {
         "anchor": "x",
         "domain": [
          0,
          1
         ],
         "title": {
          "text": "Sum of outgroup-related words"
         }
        }
       }
      }
     },
     "metadata": {},
     "output_type": "display_data"
    }
   ],
   "source": [
    "monthly_sum_of_occurrances = []\n",
    "month = []\n",
    "pages = []\n",
    "for month_df in entries_monthwise:\n",
    "    date = month_df['date'][0]\n",
    "    date = date.replace(day=1)\n",
    "    month.append(date)\n",
    "    monthly_sum_of_occurrances.append(sum(month_df['enemy_words_occurrences_sum']))\n",
    "    pages.append(month_df[month_df['enemy_words_occurrences_sum'] > 3].shape[0])\n",
    "wrapper_dict = {'Time':month, 'Sum of outgroup-related words':monthly_sum_of_occurrances}\n",
    "fig = px.bar(wrapper_dict, x='Time', y='Sum of outgroup-related words')\n",
    "fig.update_layout(title='Occurrences of signal words over time')\n",
    "fig.show()"
   ]
  },
  {
   "cell_type": "code",
   "execution_count": 9,
   "metadata": {},
   "outputs": [
    {
     "name": "stdout",
     "output_type": "stream",
     "text": [
      "[0, 0, 17.333333333333332, 16.333333333333332, 10.666666666666666, 4.333333333333333, 5.666666666666667, 7.666666666666667, 7.666666666666667, 7.0, 6.666666666666667, 10.0, 9.666666666666666, 7.666666666666667, 4.0, 2.0, 3.3333333333333335, 5.333333333333333, 6.333333333333333, 7.0, 7.666666666666667, 9.0, 7.666666666666667, 6.333333333333333, 4.666666666666667, 3.6666666666666665, 3.3333333333333335, 4.333333333333333, 5.0, 4.666666666666667, 4.333333333333333, 4.333333333333333, 4.0, 3.0, 3.6666666666666665, 4.333333333333333, 4.0, 4.666666666666667, 4.333333333333333, 4.333333333333333, 4.333333333333333, 6.333333333333333, 7.333333333333333, 6.333333333333333, 3.3333333333333335, 2.0, 2.6666666666666665, 3.0, 4.333333333333333, 5.666666666666667, 8.0, 8.0, 6.333333333333333, 4.333333333333333, 3.6666666666666665, 3.3333333333333335, 3.6666666666666665, 4.0, 3.6666666666666665, 3.6666666666666665, 4.333333333333333, 4.666666666666667, 4.0, 4.0, 3.3333333333333335, 3.6666666666666665, 2.6666666666666665, 2.3333333333333335, 2.6666666666666665, 2.6666666666666665, 3.0, 3.0]\n",
      "72\n"
     ]
    },
    {
     "name": "stderr",
     "output_type": "stream",
     "text": [
      "c:\\Users\\kantg\\.conda\\envs\\arabic-nlp\\lib\\site-packages\\ipykernel\\ipkernel.py:287: DeprecationWarning:\n",
      "\n",
      "`should_run_async` will not call `transform_cell` automatically in the future. Please pass the result to `transformed_cell` argument and any exception that happen during thetransform in `preprocessing_exc_tuple` in IPython 7.17 and above.\n",
      "\n"
     ]
    }
   ],
   "source": [
    "wrapper_dict_pagewise = {'Time':month, 'Number of pages used as Training data': pages}\n",
    "window_size = 3\n",
    "i = 0\n",
    "moving_averages = []\n",
    "numbers = wrapper_dict_pagewise['Number of pages used as Training data']\n",
    "\n",
    "while i < len(numbers) - window_size + 1:\n",
    "    this_window = numbers[i : i + window_size]\n",
    "    window_average = sum(this_window) / window_size\n",
    "    moving_averages.append(window_average)\n",
    "    i += 1\n",
    "    #window_size += 1\n",
    "\n",
    "moving_averages = [0,0,] + moving_averages\n",
    "print(moving_averages)\n",
    "print(len(moving_averages))\n"
   ]
  },
  {
   "cell_type": "code",
   "execution_count": 23,
   "metadata": {},
   "outputs": [
    {
     "name": "stderr",
     "output_type": "stream",
     "text": [
      "c:\\Users\\kantg\\.conda\\envs\\arabic-nlp\\lib\\site-packages\\ipykernel\\ipkernel.py:287: DeprecationWarning:\n",
      "\n",
      "`should_run_async` will not call `transform_cell` automatically in the future. Please pass the result to `transformed_cell` argument and any exception that happen during thetransform in `preprocessing_exc_tuple` in IPython 7.17 and above.\n",
      "\n"
     ]
    },
    {
     "data": {
      "application/vnd.plotly.v1+json": {
       "config": {
        "plotlyServerURL": "https://plot.ly"
       },
       "data": [
        {
         "alignmentgroup": "True",
         "hovertemplate": "Time=%{x}<br>Number of pages used <br> as Training data=%{y}<extra></extra>",
         "legendgroup": "",
         "marker": {
          "color": "#636efa",
          "pattern": {
           "shape": ""
          }
         },
         "name": "",
         "offsetgroup": "",
         "orientation": "v",
         "showlegend": false,
         "textposition": "auto",
         "type": "bar",
         "x": [
          "2015-10-01",
          "2015-11-01",
          "2015-12-01",
          "2016-01-01",
          "2016-02-01",
          "2016-03-01",
          "2016-04-01",
          "2016-05-01",
          "2016-06-01",
          "2016-07-01",
          "2016-08-01",
          "2016-09-01",
          "2016-10-01",
          "2016-11-01",
          "2016-12-01",
          "2017-01-01",
          "2017-02-01",
          "2017-03-01",
          "2017-04-01",
          "2017-05-01",
          "2017-06-01",
          "2017-07-01",
          "2017-08-01",
          "2017-09-01",
          "2017-10-01",
          "2017-11-01",
          "2017-12-01",
          "2018-01-01",
          "2018-02-01",
          "2018-03-01",
          "2018-04-01",
          "2018-05-01",
          "2018-06-01",
          "2018-07-01",
          "2018-08-01",
          "2018-09-01",
          "2018-10-01",
          "2018-11-01",
          "2018-12-01",
          "2019-01-01",
          "2019-02-01",
          "2019-03-01",
          "2019-04-01",
          "2019-05-01",
          "2019-06-01",
          "2019-07-01",
          "2019-08-01",
          "2019-09-01",
          "2019-10-01",
          "2019-11-01",
          "2019-12-01",
          "2020-01-01",
          "2020-02-01",
          "2020-03-01",
          "2020-04-01",
          "2020-05-01",
          "2020-06-01",
          "2020-07-01",
          "2020-08-01",
          "2020-09-01",
          "2020-10-01",
          "2020-11-01",
          "2020-12-01",
          "2021-01-01",
          "2021-02-01",
          "2021-03-01",
          "2021-04-01",
          "2021-05-01",
          "2021-07-01",
          "2021-08-01",
          "2021-09-01",
          "2021-10-01"
         ],
         "xaxis": "x",
         "y": [
          10,
          20,
          22,
          7,
          3,
          3,
          11,
          9,
          3,
          9,
          8,
          13,
          8,
          2,
          2,
          2,
          6,
          8,
          5,
          8,
          10,
          9,
          4,
          6,
          4,
          1,
          5,
          7,
          3,
          4,
          6,
          3,
          3,
          3,
          5,
          5,
          2,
          7,
          4,
          2,
          7,
          10,
          5,
          4,
          1,
          1,
          6,
          2,
          5,
          10,
          9,
          5,
          5,
          3,
          3,
          4,
          4,
          4,
          3,
          4,
          6,
          4,
          2,
          6,
          2,
          3,
          3,
          1,
          4,
          3,
          2,
          4
         ],
         "yaxis": "y"
        },
        {
         "mode": "lines",
         "name": "Moving Average, window size: 3",
         "type": "scatter",
         "x": [
          "2015-10-01",
          "2015-11-01",
          "2015-12-01",
          "2016-01-01",
          "2016-02-01",
          "2016-03-01",
          "2016-04-01",
          "2016-05-01",
          "2016-06-01",
          "2016-07-01",
          "2016-08-01",
          "2016-09-01",
          "2016-10-01",
          "2016-11-01",
          "2016-12-01",
          "2017-01-01",
          "2017-02-01",
          "2017-03-01",
          "2017-04-01",
          "2017-05-01",
          "2017-06-01",
          "2017-07-01",
          "2017-08-01",
          "2017-09-01",
          "2017-10-01",
          "2017-11-01",
          "2017-12-01",
          "2018-01-01",
          "2018-02-01",
          "2018-03-01",
          "2018-04-01",
          "2018-05-01",
          "2018-06-01",
          "2018-07-01",
          "2018-08-01",
          "2018-09-01",
          "2018-10-01",
          "2018-11-01",
          "2018-12-01",
          "2019-01-01",
          "2019-02-01",
          "2019-03-01",
          "2019-04-01",
          "2019-05-01",
          "2019-06-01",
          "2019-07-01",
          "2019-08-01",
          "2019-09-01",
          "2019-10-01",
          "2019-11-01",
          "2019-12-01",
          "2020-01-01",
          "2020-02-01",
          "2020-03-01",
          "2020-04-01",
          "2020-05-01",
          "2020-06-01",
          "2020-07-01",
          "2020-08-01",
          "2020-09-01",
          "2020-10-01",
          "2020-11-01",
          "2020-12-01",
          "2021-01-01",
          "2021-02-01",
          "2021-03-01",
          "2021-04-01",
          "2021-05-01",
          "2021-07-01",
          "2021-08-01",
          "2021-09-01",
          "2021-10-01"
         ],
         "y": [
          0,
          0,
          17.333333333333332,
          16.333333333333332,
          10.666666666666666,
          4.333333333333333,
          5.666666666666667,
          7.666666666666667,
          7.666666666666667,
          7,
          6.666666666666667,
          10,
          9.666666666666666,
          7.666666666666667,
          4,
          2,
          3.3333333333333335,
          5.333333333333333,
          6.333333333333333,
          7,
          7.666666666666667,
          9,
          7.666666666666667,
          6.333333333333333,
          4.666666666666667,
          3.6666666666666665,
          3.3333333333333335,
          4.333333333333333,
          5,
          4.666666666666667,
          4.333333333333333,
          4.333333333333333,
          4,
          3,
          3.6666666666666665,
          4.333333333333333,
          4,
          4.666666666666667,
          4.333333333333333,
          4.333333333333333,
          4.333333333333333,
          6.333333333333333,
          7.333333333333333,
          6.333333333333333,
          3.3333333333333335,
          2,
          2.6666666666666665,
          3,
          4.333333333333333,
          5.666666666666667,
          8,
          8,
          6.333333333333333,
          4.333333333333333,
          3.6666666666666665,
          3.3333333333333335,
          3.6666666666666665,
          4,
          3.6666666666666665,
          3.6666666666666665,
          4.333333333333333,
          4.666666666666667,
          4,
          4,
          3.3333333333333335,
          3.6666666666666665,
          2.6666666666666665,
          2.3333333333333335,
          2.6666666666666665,
          2.6666666666666665,
          3,
          3
         ]
        }
       ],
       "layout": {
        "barmode": "relative",
        "font": {
         "size": 20
        },
        "legend": {
         "tracegroupgap": 0
        },
        "template": {
         "data": {
          "bar": [
           {
            "error_x": {
             "color": "#2a3f5f"
            },
            "error_y": {
             "color": "#2a3f5f"
            },
            "marker": {
             "line": {
              "color": "#E5ECF6",
              "width": 0.5
             },
             "pattern": {
              "fillmode": "overlay",
              "size": 10,
              "solidity": 0.2
             }
            },
            "type": "bar"
           }
          ],
          "barpolar": [
           {
            "marker": {
             "line": {
              "color": "#E5ECF6",
              "width": 0.5
             },
             "pattern": {
              "fillmode": "overlay",
              "size": 10,
              "solidity": 0.2
             }
            },
            "type": "barpolar"
           }
          ],
          "carpet": [
           {
            "aaxis": {
             "endlinecolor": "#2a3f5f",
             "gridcolor": "white",
             "linecolor": "white",
             "minorgridcolor": "white",
             "startlinecolor": "#2a3f5f"
            },
            "baxis": {
             "endlinecolor": "#2a3f5f",
             "gridcolor": "white",
             "linecolor": "white",
             "minorgridcolor": "white",
             "startlinecolor": "#2a3f5f"
            },
            "type": "carpet"
           }
          ],
          "choropleth": [
           {
            "colorbar": {
             "outlinewidth": 0,
             "ticks": ""
            },
            "type": "choropleth"
           }
          ],
          "contour": [
           {
            "colorbar": {
             "outlinewidth": 0,
             "ticks": ""
            },
            "colorscale": [
             [
              0,
              "#0d0887"
             ],
             [
              0.1111111111111111,
              "#46039f"
             ],
             [
              0.2222222222222222,
              "#7201a8"
             ],
             [
              0.3333333333333333,
              "#9c179e"
             ],
             [
              0.4444444444444444,
              "#bd3786"
             ],
             [
              0.5555555555555556,
              "#d8576b"
             ],
             [
              0.6666666666666666,
              "#ed7953"
             ],
             [
              0.7777777777777778,
              "#fb9f3a"
             ],
             [
              0.8888888888888888,
              "#fdca26"
             ],
             [
              1,
              "#f0f921"
             ]
            ],
            "type": "contour"
           }
          ],
          "contourcarpet": [
           {
            "colorbar": {
             "outlinewidth": 0,
             "ticks": ""
            },
            "type": "contourcarpet"
           }
          ],
          "heatmap": [
           {
            "colorbar": {
             "outlinewidth": 0,
             "ticks": ""
            },
            "colorscale": [
             [
              0,
              "#0d0887"
             ],
             [
              0.1111111111111111,
              "#46039f"
             ],
             [
              0.2222222222222222,
              "#7201a8"
             ],
             [
              0.3333333333333333,
              "#9c179e"
             ],
             [
              0.4444444444444444,
              "#bd3786"
             ],
             [
              0.5555555555555556,
              "#d8576b"
             ],
             [
              0.6666666666666666,
              "#ed7953"
             ],
             [
              0.7777777777777778,
              "#fb9f3a"
             ],
             [
              0.8888888888888888,
              "#fdca26"
             ],
             [
              1,
              "#f0f921"
             ]
            ],
            "type": "heatmap"
           }
          ],
          "heatmapgl": [
           {
            "colorbar": {
             "outlinewidth": 0,
             "ticks": ""
            },
            "colorscale": [
             [
              0,
              "#0d0887"
             ],
             [
              0.1111111111111111,
              "#46039f"
             ],
             [
              0.2222222222222222,
              "#7201a8"
             ],
             [
              0.3333333333333333,
              "#9c179e"
             ],
             [
              0.4444444444444444,
              "#bd3786"
             ],
             [
              0.5555555555555556,
              "#d8576b"
             ],
             [
              0.6666666666666666,
              "#ed7953"
             ],
             [
              0.7777777777777778,
              "#fb9f3a"
             ],
             [
              0.8888888888888888,
              "#fdca26"
             ],
             [
              1,
              "#f0f921"
             ]
            ],
            "type": "heatmapgl"
           }
          ],
          "histogram": [
           {
            "marker": {
             "pattern": {
              "fillmode": "overlay",
              "size": 10,
              "solidity": 0.2
             }
            },
            "type": "histogram"
           }
          ],
          "histogram2d": [
           {
            "colorbar": {
             "outlinewidth": 0,
             "ticks": ""
            },
            "colorscale": [
             [
              0,
              "#0d0887"
             ],
             [
              0.1111111111111111,
              "#46039f"
             ],
             [
              0.2222222222222222,
              "#7201a8"
             ],
             [
              0.3333333333333333,
              "#9c179e"
             ],
             [
              0.4444444444444444,
              "#bd3786"
             ],
             [
              0.5555555555555556,
              "#d8576b"
             ],
             [
              0.6666666666666666,
              "#ed7953"
             ],
             [
              0.7777777777777778,
              "#fb9f3a"
             ],
             [
              0.8888888888888888,
              "#fdca26"
             ],
             [
              1,
              "#f0f921"
             ]
            ],
            "type": "histogram2d"
           }
          ],
          "histogram2dcontour": [
           {
            "colorbar": {
             "outlinewidth": 0,
             "ticks": ""
            },
            "colorscale": [
             [
              0,
              "#0d0887"
             ],
             [
              0.1111111111111111,
              "#46039f"
             ],
             [
              0.2222222222222222,
              "#7201a8"
             ],
             [
              0.3333333333333333,
              "#9c179e"
             ],
             [
              0.4444444444444444,
              "#bd3786"
             ],
             [
              0.5555555555555556,
              "#d8576b"
             ],
             [
              0.6666666666666666,
              "#ed7953"
             ],
             [
              0.7777777777777778,
              "#fb9f3a"
             ],
             [
              0.8888888888888888,
              "#fdca26"
             ],
             [
              1,
              "#f0f921"
             ]
            ],
            "type": "histogram2dcontour"
           }
          ],
          "mesh3d": [
           {
            "colorbar": {
             "outlinewidth": 0,
             "ticks": ""
            },
            "type": "mesh3d"
           }
          ],
          "parcoords": [
           {
            "line": {
             "colorbar": {
              "outlinewidth": 0,
              "ticks": ""
             }
            },
            "type": "parcoords"
           }
          ],
          "pie": [
           {
            "automargin": true,
            "type": "pie"
           }
          ],
          "scatter": [
           {
            "marker": {
             "colorbar": {
              "outlinewidth": 0,
              "ticks": ""
             }
            },
            "type": "scatter"
           }
          ],
          "scatter3d": [
           {
            "line": {
             "colorbar": {
              "outlinewidth": 0,
              "ticks": ""
             }
            },
            "marker": {
             "colorbar": {
              "outlinewidth": 0,
              "ticks": ""
             }
            },
            "type": "scatter3d"
           }
          ],
          "scattercarpet": [
           {
            "marker": {
             "colorbar": {
              "outlinewidth": 0,
              "ticks": ""
             }
            },
            "type": "scattercarpet"
           }
          ],
          "scattergeo": [
           {
            "marker": {
             "colorbar": {
              "outlinewidth": 0,
              "ticks": ""
             }
            },
            "type": "scattergeo"
           }
          ],
          "scattergl": [
           {
            "marker": {
             "colorbar": {
              "outlinewidth": 0,
              "ticks": ""
             }
            },
            "type": "scattergl"
           }
          ],
          "scattermapbox": [
           {
            "marker": {
             "colorbar": {
              "outlinewidth": 0,
              "ticks": ""
             }
            },
            "type": "scattermapbox"
           }
          ],
          "scatterpolar": [
           {
            "marker": {
             "colorbar": {
              "outlinewidth": 0,
              "ticks": ""
             }
            },
            "type": "scatterpolar"
           }
          ],
          "scatterpolargl": [
           {
            "marker": {
             "colorbar": {
              "outlinewidth": 0,
              "ticks": ""
             }
            },
            "type": "scatterpolargl"
           }
          ],
          "scatterternary": [
           {
            "marker": {
             "colorbar": {
              "outlinewidth": 0,
              "ticks": ""
             }
            },
            "type": "scatterternary"
           }
          ],
          "surface": [
           {
            "colorbar": {
             "outlinewidth": 0,
             "ticks": ""
            },
            "colorscale": [
             [
              0,
              "#0d0887"
             ],
             [
              0.1111111111111111,
              "#46039f"
             ],
             [
              0.2222222222222222,
              "#7201a8"
             ],
             [
              0.3333333333333333,
              "#9c179e"
             ],
             [
              0.4444444444444444,
              "#bd3786"
             ],
             [
              0.5555555555555556,
              "#d8576b"
             ],
             [
              0.6666666666666666,
              "#ed7953"
             ],
             [
              0.7777777777777778,
              "#fb9f3a"
             ],
             [
              0.8888888888888888,
              "#fdca26"
             ],
             [
              1,
              "#f0f921"
             ]
            ],
            "type": "surface"
           }
          ],
          "table": [
           {
            "cells": {
             "fill": {
              "color": "#EBF0F8"
             },
             "line": {
              "color": "white"
             }
            },
            "header": {
             "fill": {
              "color": "#C8D4E3"
             },
             "line": {
              "color": "white"
             }
            },
            "type": "table"
           }
          ]
         },
         "layout": {
          "annotationdefaults": {
           "arrowcolor": "#2a3f5f",
           "arrowhead": 0,
           "arrowwidth": 1
          },
          "autotypenumbers": "strict",
          "coloraxis": {
           "colorbar": {
            "outlinewidth": 0,
            "ticks": ""
           }
          },
          "colorscale": {
           "diverging": [
            [
             0,
             "#8e0152"
            ],
            [
             0.1,
             "#c51b7d"
            ],
            [
             0.2,
             "#de77ae"
            ],
            [
             0.3,
             "#f1b6da"
            ],
            [
             0.4,
             "#fde0ef"
            ],
            [
             0.5,
             "#f7f7f7"
            ],
            [
             0.6,
             "#e6f5d0"
            ],
            [
             0.7,
             "#b8e186"
            ],
            [
             0.8,
             "#7fbc41"
            ],
            [
             0.9,
             "#4d9221"
            ],
            [
             1,
             "#276419"
            ]
           ],
           "sequential": [
            [
             0,
             "#0d0887"
            ],
            [
             0.1111111111111111,
             "#46039f"
            ],
            [
             0.2222222222222222,
             "#7201a8"
            ],
            [
             0.3333333333333333,
             "#9c179e"
            ],
            [
             0.4444444444444444,
             "#bd3786"
            ],
            [
             0.5555555555555556,
             "#d8576b"
            ],
            [
             0.6666666666666666,
             "#ed7953"
            ],
            [
             0.7777777777777778,
             "#fb9f3a"
            ],
            [
             0.8888888888888888,
             "#fdca26"
            ],
            [
             1,
             "#f0f921"
            ]
           ],
           "sequentialminus": [
            [
             0,
             "#0d0887"
            ],
            [
             0.1111111111111111,
             "#46039f"
            ],
            [
             0.2222222222222222,
             "#7201a8"
            ],
            [
             0.3333333333333333,
             "#9c179e"
            ],
            [
             0.4444444444444444,
             "#bd3786"
            ],
            [
             0.5555555555555556,
             "#d8576b"
            ],
            [
             0.6666666666666666,
             "#ed7953"
            ],
            [
             0.7777777777777778,
             "#fb9f3a"
            ],
            [
             0.8888888888888888,
             "#fdca26"
            ],
            [
             1,
             "#f0f921"
            ]
           ]
          },
          "colorway": [
           "#636efa",
           "#EF553B",
           "#00cc96",
           "#ab63fa",
           "#FFA15A",
           "#19d3f3",
           "#FF6692",
           "#B6E880",
           "#FF97FF",
           "#FECB52"
          ],
          "font": {
           "color": "#2a3f5f"
          },
          "geo": {
           "bgcolor": "white",
           "lakecolor": "white",
           "landcolor": "#E5ECF6",
           "showlakes": true,
           "showland": true,
           "subunitcolor": "white"
          },
          "hoverlabel": {
           "align": "left"
          },
          "hovermode": "closest",
          "mapbox": {
           "style": "light"
          },
          "paper_bgcolor": "white",
          "plot_bgcolor": "#E5ECF6",
          "polar": {
           "angularaxis": {
            "gridcolor": "white",
            "linecolor": "white",
            "ticks": ""
           },
           "bgcolor": "#E5ECF6",
           "radialaxis": {
            "gridcolor": "white",
            "linecolor": "white",
            "ticks": ""
           }
          },
          "scene": {
           "xaxis": {
            "backgroundcolor": "#E5ECF6",
            "gridcolor": "white",
            "gridwidth": 2,
            "linecolor": "white",
            "showbackground": true,
            "ticks": "",
            "zerolinecolor": "white"
           },
           "yaxis": {
            "backgroundcolor": "#E5ECF6",
            "gridcolor": "white",
            "gridwidth": 2,
            "linecolor": "white",
            "showbackground": true,
            "ticks": "",
            "zerolinecolor": "white"
           },
           "zaxis": {
            "backgroundcolor": "#E5ECF6",
            "gridcolor": "white",
            "gridwidth": 2,
            "linecolor": "white",
            "showbackground": true,
            "ticks": "",
            "zerolinecolor": "white"
           }
          },
          "shapedefaults": {
           "line": {
            "color": "#2a3f5f"
           }
          },
          "ternary": {
           "aaxis": {
            "gridcolor": "white",
            "linecolor": "white",
            "ticks": ""
           },
           "baxis": {
            "gridcolor": "white",
            "linecolor": "white",
            "ticks": ""
           },
           "bgcolor": "#E5ECF6",
           "caxis": {
            "gridcolor": "white",
            "linecolor": "white",
            "ticks": ""
           }
          },
          "title": {
           "x": 0.05
          },
          "xaxis": {
           "automargin": true,
           "gridcolor": "white",
           "linecolor": "white",
           "ticks": "",
           "title": {
            "standoff": 15
           },
           "zerolinecolor": "white",
           "zerolinewidth": 2
          },
          "yaxis": {
           "automargin": true,
           "gridcolor": "white",
           "linecolor": "white",
           "ticks": "",
           "title": {
            "standoff": 15
           },
           "zerolinecolor": "white",
           "zerolinewidth": 2
          }
         }
        },
        "title": {
         "text": "Number of Training pages per month"
        },
        "xaxis": {
         "anchor": "y",
         "domain": [
          0,
          1
         ],
         "title": {
          "text": "Time"
         }
        },
        "yaxis": {
         "anchor": "x",
         "domain": [
          0,
          1
         ],
         "title": {
          "text": "Number of pages used <br> as Training data"
         }
        }
       }
      }
     },
     "metadata": {},
     "output_type": "display_data"
    }
   ],
   "source": [
    "fig = px.bar(wrapper_dict_pagewise, x='Time', y='Number of pages used as Training data', title='Number of Training pages per month', labels={'Number of pages used as Training data': 'Number of pages used <br> as Training data'})\n",
    "fig.add_traces(go.Scatter(x=wrapper_dict_pagewise['Time'], y=moving_averages, mode = 'lines', name='Moving Average, window size: 3'))\n",
    "fig.update_layout( font=dict(size=20))\n",
    "fig.write_html(\"plotly_number_of_training_pages_per_month.html\")\n",
    "fig.show()"
   ]
  },
  {
   "cell_type": "code",
   "execution_count": 19,
   "metadata": {},
   "outputs": [
    {
     "name": "stdout",
     "output_type": "stream",
     "text": [
      "237\n"
     ]
    },
    {
     "name": "stderr",
     "output_type": "stream",
     "text": [
      "c:\\Users\\kantg\\.conda\\envs\\arabic-nlp\\lib\\site-packages\\ipykernel\\ipkernel.py:287: DeprecationWarning:\n",
      "\n",
      "`should_run_async` will not call `transform_cell` automatically in the future. Please pass the result to `transformed_cell` argument and any exception that happen during thetransform in `preprocessing_exc_tuple` in IPython 7.17 and above.\n",
      "\n"
     ]
    },
    {
     "data": {
      "text/plain": [
       "150"
      ]
     },
     "execution_count": 19,
     "metadata": {},
     "output_type": "execute_result"
    }
   ],
   "source": [
    "print(sum(wrapper_dict_pagewise['Number of pages used as Training data'][:37]))\n",
    "sum(wrapper_dict_pagewise['Number of pages used as Training data'][37:])"
   ]
  },
  {
   "cell_type": "code",
   "execution_count": 21,
   "metadata": {},
   "outputs": [
    {
     "name": "stderr",
     "output_type": "stream",
     "text": [
      "c:\\Users\\kantg\\.conda\\envs\\arabic-nlp\\lib\\site-packages\\ipykernel\\ipkernel.py:287: DeprecationWarning:\n",
      "\n",
      "`should_run_async` will not call `transform_cell` automatically in the future. Please pass the result to `transformed_cell` argument and any exception that happen during thetransform in `preprocessing_exc_tuple` in IPython 7.17 and above.\n",
      "\n"
     ]
    },
    {
     "data": {
      "text/plain": [
       "datetime.date(2018, 11, 1)"
      ]
     },
     "execution_count": 21,
     "metadata": {},
     "output_type": "execute_result"
    }
   ],
   "source": [
    "wrapper_dict_pagewise['Time'][37]"
   ]
  },
  {
   "cell_type": "code",
   "execution_count": 5,
   "metadata": {},
   "outputs": [
    {
     "name": "stderr",
     "output_type": "stream",
     "text": [
      "C:\\Users\\kantg\\.conda\\envs\\arabic-nlp\\lib\\site-packages\\ipykernel\\ipkernel.py:287: DeprecationWarning: `should_run_async` will not call `transform_cell` automatically in the future. Please pass the result to `transformed_cell` argument and any exception that happen during thetransform in `preprocessing_exc_tuple` in IPython 7.17 and above.\n",
      "  and should_run_async(code)\n"
     ]
    }
   ],
   "source": [
    "# new dfs with data by month and issue \n",
    "df_by_issue = pd.DataFrame(columns=['file', 'cleaned_tokens','date'])\n",
    "df_by_month = pd.DataFrame(columns=['cleaned_tokens','date'])\n",
    "for df in entries_monthwise:\n",
    "    for name, date in zip(list(OrderedDict.fromkeys(df['file'])), list(OrderedDict.fromkeys(df['date']))): # ordered dict instead of set to keep order\n",
    "        row = {'file': name , 'cleaned_tokens': list(itertools.chain(*df[df['date'] == date]['cleaned_tokens'].tolist())), 'date': date}\n",
    "        df_by_issue = df_by_issue.append(row, ignore_index=True)\n",
    "    row = {'cleaned_tokens': list(itertools.chain(*df['cleaned_tokens'].tolist())), 'date': datetime.datetime.strptime(df['date'][0].strftime('%Y-%m'), '%Y-%m')}\n",
    "    df_by_month = df_by_month.append(row, ignore_index=True)\n",
    "        "
   ]
  },
  {
   "cell_type": "code",
   "execution_count": 6,
   "metadata": {},
   "outputs": [
    {
     "name": "stderr",
     "output_type": "stream",
     "text": [
      "C:\\Users\\kantg\\.conda\\envs\\arabic-nlp\\lib\\site-packages\\ipykernel\\ipkernel.py:287: DeprecationWarning: `should_run_async` will not call `transform_cell` automatically in the future. Please pass the result to `transformed_cell` argument and any exception that happen during thetransform in `preprocessing_exc_tuple` in IPython 7.17 and above.\n",
      "  and should_run_async(code)\n"
     ]
    },
    {
     "data": {
      "text/html": [
       "<div>\n",
       "<style scoped>\n",
       "    .dataframe tbody tr th:only-of-type {\n",
       "        vertical-align: middle;\n",
       "    }\n",
       "\n",
       "    .dataframe tbody tr th {\n",
       "        vertical-align: top;\n",
       "    }\n",
       "\n",
       "    .dataframe thead th {\n",
       "        text-align: right;\n",
       "    }\n",
       "</style>\n",
       "<table border=\"1\" class=\"dataframe\">\n",
       "  <thead>\n",
       "    <tr style=\"text-align: right;\">\n",
       "      <th></th>\n",
       "      <th>file</th>\n",
       "      <th>cleaned_tokens</th>\n",
       "      <th>date</th>\n",
       "    </tr>\n",
       "  </thead>\n",
       "  <tbody>\n",
       "    <tr>\n",
       "      <th>0</th>\n",
       "      <td>the-islamic-state-al-nabacc84_-newsletter-1.pdf</td>\n",
       "      <td>[مضادا, فسيطروا, حاجزين, إمداد, وإدلب, حاول, أ...</td>\n",
       "      <td>2015-10-16</td>\n",
       "    </tr>\n",
       "    <tr>\n",
       "      <th>1</th>\n",
       "      <td>the-islamic-state-al-nabacc84_-newsletter-2.pdf</td>\n",
       "      <td>[بصاروخي, غراد, مباشرة, العناصر, لمنطقة, باجور...</td>\n",
       "      <td>2015-10-23</td>\n",
       "    </tr>\n",
       "    <tr>\n",
       "      <th>2</th>\n",
       "      <td>the-islamic-state-al-nabacc84_-newsletter-3.pdf</td>\n",
       "      <td>[الجنسية, جموعهم, المنطقة, يقل, الجنسية, والثا...</td>\n",
       "      <td>2015-10-30</td>\n",
       "    </tr>\n",
       "    <tr>\n",
       "      <th>3</th>\n",
       "      <td>the-islamic-state-al-nabacc84_-newsletter-4.pdf</td>\n",
       "      <td>[حديثة, عامين, للنظام, طيران, سعيا, الحصار, يف...</td>\n",
       "      <td>2015-11-06</td>\n",
       "    </tr>\n",
       "    <tr>\n",
       "      <th>4</th>\n",
       "      <td>the-islamic-state-al-nabacc84_-newsletter-5.pdf</td>\n",
       "      <td>[نتائجها, وكاسحة, ألغام, القاطع, بعملي, كلت, ا...</td>\n",
       "      <td>2015-11-13</td>\n",
       "    </tr>\n",
       "    <tr>\n",
       "      <th>5</th>\n",
       "      <td>the-islamic-state-al-nabacc84_-newsletter-6.pdf</td>\n",
       "      <td>[احصل, المواد, أقرب, الفلوجة, ومدينة, شنه, إصد...</td>\n",
       "      <td>2015-11-20</td>\n",
       "    </tr>\n",
       "    <tr>\n",
       "      <th>6</th>\n",
       "      <td>the-islamic-state-al-nabacc84_-newsletter-7.pdf</td>\n",
       "      <td>[احصل, المواد, أقرب, ضعفا, أضعاف, وقطر, اإلسال...</td>\n",
       "      <td>2015-11-27</td>\n",
       "    </tr>\n",
       "    <tr>\n",
       "      <th>7</th>\n",
       "      <td>the-islamic-state-al-nabacc84_-newsletter-8.pdf</td>\n",
       "      <td>[أعقبتها, تسب, العملي, اإلسالمي, باغتنام, صيب,...</td>\n",
       "      <td>2015-12-04</td>\n",
       "    </tr>\n",
       "    <tr>\n",
       "      <th>8</th>\n",
       "      <td>the-islamic-state-al-nabacc84_-newsletter-9.pdf</td>\n",
       "      <td>[بدء, موسم, نصارى, ورأس, تطبيق, الفتح, الفائت,...</td>\n",
       "      <td>2015-12-11</td>\n",
       "    </tr>\n",
       "    <tr>\n",
       "      <th>9</th>\n",
       "      <td>the-islamic-state-22al-nibacc84-newsletter-10.pdf</td>\n",
       "      <td>[طيران, حالف, صليبي, بقصف, مسلمة, المئات, بدء,...</td>\n",
       "      <td>2015-12-18</td>\n",
       "    </tr>\n",
       "    <tr>\n",
       "      <th>10</th>\n",
       "      <td>the-islamic-state-e2809cal-nibacc84_-newslette...</td>\n",
       "      <td>[أبراج, مراقبة, ربيع, جبور, تحصد, أرواح, حجم, ...</td>\n",
       "      <td>2015-12-25</td>\n",
       "    </tr>\n",
       "    <tr>\n",
       "      <th>11</th>\n",
       "      <td>the-islamic-state-e2809cal-nibacc84_-newslette...</td>\n",
       "      <td>[شديدة, االنفجار, فضال, حكومة, تصل, عقر, دارها...</td>\n",
       "      <td>2016-01-01</td>\n",
       "    </tr>\n",
       "    <tr>\n",
       "      <th>12</th>\n",
       "      <td>the-islamic-state-e2809cal-nibacc84_-newslette...</td>\n",
       "      <td>[وصدق, كتابه, العرس, الهجرة, والشام, وخاصة, وا...</td>\n",
       "      <td>2016-01-08</td>\n",
       "    </tr>\n",
       "    <tr>\n",
       "      <th>13</th>\n",
       "      <td>the-islamic-state-e2809cal-nibacc84_-newslette...</td>\n",
       "      <td>[باسم, باسم, الفقيه, للطاغوت, باسم, الحزب, الق...</td>\n",
       "      <td>2016-01-15</td>\n",
       "    </tr>\n",
       "    <tr>\n",
       "      <th>14</th>\n",
       "      <td>the-islamic-state-e2809cal-nibacc84_-newslette...</td>\n",
       "      <td>[يحاولون, الجبهة, شامي, تغني, القوة, قطر, أعدا...</td>\n",
       "      <td>2016-01-22</td>\n",
       "    </tr>\n",
       "    <tr>\n",
       "      <th>15</th>\n",
       "      <td>the-islamic-state-e2809cal-nibacc84_-newslette...</td>\n",
       "      <td>[يحملون, السالح, السعادة, الدارين, يكرس, شوكة,...</td>\n",
       "      <td>2016-01-29</td>\n",
       "    </tr>\n",
       "    <tr>\n",
       "      <th>16</th>\n",
       "      <td>the-islamic-state-e2809cal-nabacc84_-newslette...</td>\n",
       "      <td>[زوبع, ليؤدي, ربيع, باستهداف, مدفع, ملم, جبور,...</td>\n",
       "      <td>2016-02-05</td>\n",
       "    </tr>\n",
       "    <tr>\n",
       "      <th>17</th>\n",
       "      <td>the-islamic-state-e2809cal-nabacc84_-newslette...</td>\n",
       "      <td>[مام, غزوة, والعاقبة, فوق, مام, بجيش, وأكدت, ا...</td>\n",
       "      <td>2016-02-12</td>\n",
       "    </tr>\n",
       "    <tr>\n",
       "      <th>18</th>\n",
       "      <td>the-islamic-state-e2809cal-nabacc84_-newslette...</td>\n",
       "      <td>[غالب, أمره, يعلمون, وغربها, رايتها, جبال, كرد...</td>\n",
       "      <td>2016-02-19</td>\n",
       "    </tr>\n",
       "    <tr>\n",
       "      <th>19</th>\n",
       "      <td>the-islamic-state-22al-nabacc84_-newsletter-20...</td>\n",
       "      <td>[مجموعات, الجواسيس, يقتلونهم, الصليبيون, وزيرس...</td>\n",
       "      <td>2016-02-26</td>\n",
       "    </tr>\n",
       "  </tbody>\n",
       "</table>\n",
       "</div>"
      ],
      "text/plain": [
       "                                                 file  \\\n",
       "0     the-islamic-state-al-nabacc84_-newsletter-1.pdf   \n",
       "1     the-islamic-state-al-nabacc84_-newsletter-2.pdf   \n",
       "2     the-islamic-state-al-nabacc84_-newsletter-3.pdf   \n",
       "3     the-islamic-state-al-nabacc84_-newsletter-4.pdf   \n",
       "4     the-islamic-state-al-nabacc84_-newsletter-5.pdf   \n",
       "5     the-islamic-state-al-nabacc84_-newsletter-6.pdf   \n",
       "6     the-islamic-state-al-nabacc84_-newsletter-7.pdf   \n",
       "7     the-islamic-state-al-nabacc84_-newsletter-8.pdf   \n",
       "8     the-islamic-state-al-nabacc84_-newsletter-9.pdf   \n",
       "9   the-islamic-state-22al-nibacc84-newsletter-10.pdf   \n",
       "10  the-islamic-state-e2809cal-nibacc84_-newslette...   \n",
       "11  the-islamic-state-e2809cal-nibacc84_-newslette...   \n",
       "12  the-islamic-state-e2809cal-nibacc84_-newslette...   \n",
       "13  the-islamic-state-e2809cal-nibacc84_-newslette...   \n",
       "14  the-islamic-state-e2809cal-nibacc84_-newslette...   \n",
       "15  the-islamic-state-e2809cal-nibacc84_-newslette...   \n",
       "16  the-islamic-state-e2809cal-nabacc84_-newslette...   \n",
       "17  the-islamic-state-e2809cal-nabacc84_-newslette...   \n",
       "18  the-islamic-state-e2809cal-nabacc84_-newslette...   \n",
       "19  the-islamic-state-22al-nabacc84_-newsletter-20...   \n",
       "\n",
       "                                       cleaned_tokens        date  \n",
       "0   [مضادا, فسيطروا, حاجزين, إمداد, وإدلب, حاول, أ...  2015-10-16  \n",
       "1   [بصاروخي, غراد, مباشرة, العناصر, لمنطقة, باجور...  2015-10-23  \n",
       "2   [الجنسية, جموعهم, المنطقة, يقل, الجنسية, والثا...  2015-10-30  \n",
       "3   [حديثة, عامين, للنظام, طيران, سعيا, الحصار, يف...  2015-11-06  \n",
       "4   [نتائجها, وكاسحة, ألغام, القاطع, بعملي, كلت, ا...  2015-11-13  \n",
       "5   [احصل, المواد, أقرب, الفلوجة, ومدينة, شنه, إصد...  2015-11-20  \n",
       "6   [احصل, المواد, أقرب, ضعفا, أضعاف, وقطر, اإلسال...  2015-11-27  \n",
       "7   [أعقبتها, تسب, العملي, اإلسالمي, باغتنام, صيب,...  2015-12-04  \n",
       "8   [بدء, موسم, نصارى, ورأس, تطبيق, الفتح, الفائت,...  2015-12-11  \n",
       "9   [طيران, حالف, صليبي, بقصف, مسلمة, المئات, بدء,...  2015-12-18  \n",
       "10  [أبراج, مراقبة, ربيع, جبور, تحصد, أرواح, حجم, ...  2015-12-25  \n",
       "11  [شديدة, االنفجار, فضال, حكومة, تصل, عقر, دارها...  2016-01-01  \n",
       "12  [وصدق, كتابه, العرس, الهجرة, والشام, وخاصة, وا...  2016-01-08  \n",
       "13  [باسم, باسم, الفقيه, للطاغوت, باسم, الحزب, الق...  2016-01-15  \n",
       "14  [يحاولون, الجبهة, شامي, تغني, القوة, قطر, أعدا...  2016-01-22  \n",
       "15  [يحملون, السالح, السعادة, الدارين, يكرس, شوكة,...  2016-01-29  \n",
       "16  [زوبع, ليؤدي, ربيع, باستهداف, مدفع, ملم, جبور,...  2016-02-05  \n",
       "17  [مام, غزوة, والعاقبة, فوق, مام, بجيش, وأكدت, ا...  2016-02-12  \n",
       "18  [غالب, أمره, يعلمون, وغربها, رايتها, جبال, كرد...  2016-02-19  \n",
       "19  [مجموعات, الجواسيس, يقتلونهم, الصليبيون, وزيرس...  2016-02-26  "
      ]
     },
     "execution_count": 6,
     "metadata": {},
     "output_type": "execute_result"
    }
   ],
   "source": [
    "df_by_issue[:20]"
   ]
  },
  {
   "cell_type": "code",
   "execution_count": 7,
   "metadata": {},
   "outputs": [
    {
     "name": "stderr",
     "output_type": "stream",
     "text": [
      "C:\\Users\\kantg\\.conda\\envs\\arabic-nlp\\lib\\site-packages\\ipykernel\\ipkernel.py:287: DeprecationWarning: `should_run_async` will not call `transform_cell` automatically in the future. Please pass the result to `transformed_cell` argument and any exception that happen during thetransform in `preprocessing_exc_tuple` in IPython 7.17 and above.\n",
      "  and should_run_async(code)\n"
     ]
    },
    {
     "data": {
      "text/plain": [
       "0     2015-10-16\n",
       "1     2015-10-23\n",
       "2     2015-10-30\n",
       "3     2015-11-06\n",
       "4     2015-11-13\n",
       "5     2015-11-20\n",
       "6     2015-11-27\n",
       "7     2015-12-04\n",
       "8     2015-12-11\n",
       "9     2015-12-18\n",
       "10    2015-12-25\n",
       "11    2016-01-01\n",
       "12    2016-01-08\n",
       "13    2016-01-15\n",
       "14    2016-01-22\n",
       "15    2016-01-29\n",
       "16    2016-02-05\n",
       "17    2016-02-12\n",
       "18    2016-02-19\n",
       "19    2016-02-26\n",
       "Name: date, dtype: object"
      ]
     },
     "execution_count": 7,
     "metadata": {},
     "output_type": "execute_result"
    }
   ],
   "source": [
    "df_by_issue['date'][:20]"
   ]
  },
  {
   "cell_type": "code",
   "execution_count": 8,
   "metadata": {},
   "outputs": [
    {
     "name": "stderr",
     "output_type": "stream",
     "text": [
      "C:\\Users\\kantg\\.conda\\envs\\arabic-nlp\\lib\\site-packages\\ipykernel\\ipkernel.py:287: DeprecationWarning: `should_run_async` will not call `transform_cell` automatically in the future. Please pass the result to `transformed_cell` argument and any exception that happen during thetransform in `preprocessing_exc_tuple` in IPython 7.17 and above.\n",
      "  and should_run_async(code)\n"
     ]
    },
    {
     "data": {
      "text/plain": [
       "0    2015-10-01\n",
       "1    2015-11-01\n",
       "2    2015-12-01\n",
       "3    2016-01-01\n",
       "4    2016-02-01\n",
       "5    2016-03-01\n",
       "6    2016-04-01\n",
       "7    2016-05-01\n",
       "8    2016-06-01\n",
       "9    2016-07-01\n",
       "10   2016-08-01\n",
       "11   2016-09-01\n",
       "12   2016-10-01\n",
       "13   2016-11-01\n",
       "14   2016-12-01\n",
       "15   2017-01-01\n",
       "16   2017-02-01\n",
       "17   2017-03-01\n",
       "18   2017-04-01\n",
       "19   2017-05-01\n",
       "Name: date, dtype: datetime64[ns]"
      ]
     },
     "execution_count": 8,
     "metadata": {},
     "output_type": "execute_result"
    }
   ],
   "source": [
    "df_by_month['date'][:20]"
   ]
  },
  {
   "cell_type": "code",
   "execution_count": 9,
   "metadata": {},
   "outputs": [
    {
     "name": "stderr",
     "output_type": "stream",
     "text": [
      "C:\\Users\\kantg\\.conda\\envs\\arabic-nlp\\lib\\site-packages\\ipykernel\\ipkernel.py:287: DeprecationWarning: `should_run_async` will not call `transform_cell` automatically in the future. Please pass the result to `transformed_cell` argument and any exception that happen during thetransform in `preprocessing_exc_tuple` in IPython 7.17 and above.\n",
      "  and should_run_async(code)\n"
     ]
    },
    {
     "data": {
      "text/html": [
       "<div>\n",
       "<style scoped>\n",
       "    .dataframe tbody tr th:only-of-type {\n",
       "        vertical-align: middle;\n",
       "    }\n",
       "\n",
       "    .dataframe tbody tr th {\n",
       "        vertical-align: top;\n",
       "    }\n",
       "\n",
       "    .dataframe thead th {\n",
       "        text-align: right;\n",
       "    }\n",
       "</style>\n",
       "<table border=\"1\" class=\"dataframe\">\n",
       "  <thead>\n",
       "    <tr style=\"text-align: right;\">\n",
       "      <th></th>\n",
       "      <th>cleaned_tokens</th>\n",
       "      <th>date</th>\n",
       "    </tr>\n",
       "  </thead>\n",
       "  <tbody>\n",
       "    <tr>\n",
       "      <th>0</th>\n",
       "      <td>[مضادا, فسيطروا, حاجزين, إمداد, وإدلب, حاول, أ...</td>\n",
       "      <td>2015-10-01</td>\n",
       "    </tr>\n",
       "    <tr>\n",
       "      <th>1</th>\n",
       "      <td>[حديثة, عامين, للنظام, طيران, سعيا, الحصار, يف...</td>\n",
       "      <td>2015-11-01</td>\n",
       "    </tr>\n",
       "    <tr>\n",
       "      <th>2</th>\n",
       "      <td>[أعقبتها, تسب, العملي, اإلسالمي, باغتنام, صيب,...</td>\n",
       "      <td>2015-12-01</td>\n",
       "    </tr>\n",
       "    <tr>\n",
       "      <th>3</th>\n",
       "      <td>[شديدة, االنفجار, فضال, حكومة, تصل, عقر, دارها...</td>\n",
       "      <td>2016-01-01</td>\n",
       "    </tr>\n",
       "    <tr>\n",
       "      <th>4</th>\n",
       "      <td>[زوبع, ليؤدي, ربيع, باستهداف, مدفع, ملم, جبور,...</td>\n",
       "      <td>2016-02-01</td>\n",
       "    </tr>\n",
       "    <tr>\n",
       "      <th>...</th>\n",
       "      <td>...</td>\n",
       "      <td>...</td>\n",
       "    </tr>\n",
       "    <tr>\n",
       "      <th>67</th>\n",
       "      <td>[بتوفيق, كمال, سريه, الجبوري, وصفهم, دعى, جبور...</td>\n",
       "      <td>2021-05-01</td>\n",
       "    </tr>\n",
       "    <tr>\n",
       "      <th>68</th>\n",
       "      <td>[دمروا, تسعة, أبراج, محرم, ودمروا, انفجرت, بتو...</td>\n",
       "      <td>2021-07-01</td>\n",
       "    </tr>\n",
       "    <tr>\n",
       "      <th>69</th>\n",
       "      <td>[نفوسهم, بالردة, شاء, ملة, قيل, هاديا, يهديهم,...</td>\n",
       "      <td>2021-08-01</td>\n",
       "    </tr>\n",
       "    <tr>\n",
       "      <th>70</th>\n",
       "      <td>[الحدودية, مايل, نتائج, وإحداث, القوى, بقدرته,...</td>\n",
       "      <td>2021-09-01</td>\n",
       "    </tr>\n",
       "    <tr>\n",
       "      <th>71</th>\n",
       "      <td>[وأحرقوا, شهد, وحواجز, للميليشيا, بعمليات, ثما...</td>\n",
       "      <td>2021-10-01</td>\n",
       "    </tr>\n",
       "  </tbody>\n",
       "</table>\n",
       "<p>72 rows × 2 columns</p>\n",
       "</div>"
      ],
      "text/plain": [
       "                                       cleaned_tokens       date\n",
       "0   [مضادا, فسيطروا, حاجزين, إمداد, وإدلب, حاول, أ... 2015-10-01\n",
       "1   [حديثة, عامين, للنظام, طيران, سعيا, الحصار, يف... 2015-11-01\n",
       "2   [أعقبتها, تسب, العملي, اإلسالمي, باغتنام, صيب,... 2015-12-01\n",
       "3   [شديدة, االنفجار, فضال, حكومة, تصل, عقر, دارها... 2016-01-01\n",
       "4   [زوبع, ليؤدي, ربيع, باستهداف, مدفع, ملم, جبور,... 2016-02-01\n",
       "..                                                ...        ...\n",
       "67  [بتوفيق, كمال, سريه, الجبوري, وصفهم, دعى, جبور... 2021-05-01\n",
       "68  [دمروا, تسعة, أبراج, محرم, ودمروا, انفجرت, بتو... 2021-07-01\n",
       "69  [نفوسهم, بالردة, شاء, ملة, قيل, هاديا, يهديهم,... 2021-08-01\n",
       "70  [الحدودية, مايل, نتائج, وإحداث, القوى, بقدرته,... 2021-09-01\n",
       "71  [وأحرقوا, شهد, وحواجز, للميليشيا, بعمليات, ثما... 2021-10-01\n",
       "\n",
       "[72 rows x 2 columns]"
      ]
     },
     "execution_count": 9,
     "metadata": {},
     "output_type": "execute_result"
    }
   ],
   "source": [
    "df_by_month"
   ]
  },
  {
   "cell_type": "code",
   "execution_count": 10,
   "metadata": {},
   "outputs": [
    {
     "name": "stderr",
     "output_type": "stream",
     "text": [
      "C:\\Users\\kantg\\.conda\\envs\\arabic-nlp\\lib\\site-packages\\ipykernel\\ipkernel.py:287: DeprecationWarning: `should_run_async` will not call `transform_cell` automatically in the future. Please pass the result to `transformed_cell` argument and any exception that happen during thetransform in `preprocessing_exc_tuple` in IPython 7.17 and above.\n",
      "  and should_run_async(code)\n"
     ]
    },
    {
     "data": {
      "text/html": [
       "<div>\n",
       "<style scoped>\n",
       "    .dataframe tbody tr th:only-of-type {\n",
       "        vertical-align: middle;\n",
       "    }\n",
       "\n",
       "    .dataframe tbody tr th {\n",
       "        vertical-align: top;\n",
       "    }\n",
       "\n",
       "    .dataframe thead th {\n",
       "        text-align: right;\n",
       "    }\n",
       "</style>\n",
       "<table border=\"1\" class=\"dataframe\">\n",
       "  <thead>\n",
       "    <tr style=\"text-align: right;\">\n",
       "      <th></th>\n",
       "      <th>file</th>\n",
       "      <th>cleaned_tokens</th>\n",
       "      <th>date</th>\n",
       "    </tr>\n",
       "  </thead>\n",
       "  <tbody>\n",
       "    <tr>\n",
       "      <th>0</th>\n",
       "      <td>the-islamic-state-al-nabacc84_-newsletter-1.pdf</td>\n",
       "      <td>[مضادا, فسيطروا, حاجزين, إمداد, وإدلب, حاول, أ...</td>\n",
       "      <td>2015-10-16</td>\n",
       "    </tr>\n",
       "    <tr>\n",
       "      <th>1</th>\n",
       "      <td>the-islamic-state-al-nabacc84_-newsletter-2.pdf</td>\n",
       "      <td>[بصاروخي, غراد, مباشرة, العناصر, لمنطقة, باجور...</td>\n",
       "      <td>2015-10-23</td>\n",
       "    </tr>\n",
       "    <tr>\n",
       "      <th>2</th>\n",
       "      <td>the-islamic-state-al-nabacc84_-newsletter-3.pdf</td>\n",
       "      <td>[الجنسية, جموعهم, المنطقة, يقل, الجنسية, والثا...</td>\n",
       "      <td>2015-10-30</td>\n",
       "    </tr>\n",
       "    <tr>\n",
       "      <th>3</th>\n",
       "      <td>the-islamic-state-al-nabacc84_-newsletter-4.pdf</td>\n",
       "      <td>[حديثة, عامين, للنظام, طيران, سعيا, الحصار, يف...</td>\n",
       "      <td>2015-11-06</td>\n",
       "    </tr>\n",
       "    <tr>\n",
       "      <th>4</th>\n",
       "      <td>the-islamic-state-al-nabacc84_-newsletter-5.pdf</td>\n",
       "      <td>[نتائجها, وكاسحة, ألغام, القاطع, بعملي, كلت, ا...</td>\n",
       "      <td>2015-11-13</td>\n",
       "    </tr>\n",
       "    <tr>\n",
       "      <th>...</th>\n",
       "      <td>...</td>\n",
       "      <td>...</td>\n",
       "      <td>...</td>\n",
       "    </tr>\n",
       "    <tr>\n",
       "      <th>295</th>\n",
       "      <td>The-Islamic-State-al-Nabā-Newsletter-306.pdf</td>\n",
       "      <td>[الرفق, حرم, عاقبته, غالبا, وصحبه, حرم, للدخول...</td>\n",
       "      <td>2021-08-20</td>\n",
       "    </tr>\n",
       "    <tr>\n",
       "      <th>296</th>\n",
       "      <td>The-Islamic-State-al-Nabā-Newsletter-308.pdf</td>\n",
       "      <td>[الحدودية, مايل, نتائج, وإحداث, القوى, بقدرته,...</td>\n",
       "      <td>2021-09-03</td>\n",
       "    </tr>\n",
       "    <tr>\n",
       "      <th>297</th>\n",
       "      <td>The-Islamic-State-al-Nabā-Newsletter-312.pdf</td>\n",
       "      <td>[وأحرقوا, شهد, وحواجز, للميليشيا, بعمليات, ثما...</td>\n",
       "      <td>2021-10-01</td>\n",
       "    </tr>\n",
       "    <tr>\n",
       "      <th>298</th>\n",
       "      <td>The-Islamic-State-al-Nabā-Newsletter-314.pdf</td>\n",
       "      <td>[يصنع, الصدق, معنى, كذبا, أموره, صنع, فوق, قوم...</td>\n",
       "      <td>2021-10-15</td>\n",
       "    </tr>\n",
       "    <tr>\n",
       "      <th>299</th>\n",
       "      <td>The-Islamic-State-al-Nabā-Newsletter-315.pdf</td>\n",
       "      <td>[بثالث, بسبع, للميليشيا, ودمروا, وألحقوا, مسلح...</td>\n",
       "      <td>2021-10-22</td>\n",
       "    </tr>\n",
       "  </tbody>\n",
       "</table>\n",
       "<p>300 rows × 3 columns</p>\n",
       "</div>"
      ],
      "text/plain": [
       "                                                file  \\\n",
       "0    the-islamic-state-al-nabacc84_-newsletter-1.pdf   \n",
       "1    the-islamic-state-al-nabacc84_-newsletter-2.pdf   \n",
       "2    the-islamic-state-al-nabacc84_-newsletter-3.pdf   \n",
       "3    the-islamic-state-al-nabacc84_-newsletter-4.pdf   \n",
       "4    the-islamic-state-al-nabacc84_-newsletter-5.pdf   \n",
       "..                                               ...   \n",
       "295     The-Islamic-State-al-Nabā-Newsletter-306.pdf   \n",
       "296     The-Islamic-State-al-Nabā-Newsletter-308.pdf   \n",
       "297     The-Islamic-State-al-Nabā-Newsletter-312.pdf   \n",
       "298     The-Islamic-State-al-Nabā-Newsletter-314.pdf   \n",
       "299     The-Islamic-State-al-Nabā-Newsletter-315.pdf   \n",
       "\n",
       "                                        cleaned_tokens        date  \n",
       "0    [مضادا, فسيطروا, حاجزين, إمداد, وإدلب, حاول, أ...  2015-10-16  \n",
       "1    [بصاروخي, غراد, مباشرة, العناصر, لمنطقة, باجور...  2015-10-23  \n",
       "2    [الجنسية, جموعهم, المنطقة, يقل, الجنسية, والثا...  2015-10-30  \n",
       "3    [حديثة, عامين, للنظام, طيران, سعيا, الحصار, يف...  2015-11-06  \n",
       "4    [نتائجها, وكاسحة, ألغام, القاطع, بعملي, كلت, ا...  2015-11-13  \n",
       "..                                                 ...         ...  \n",
       "295  [الرفق, حرم, عاقبته, غالبا, وصحبه, حرم, للدخول...  2021-08-20  \n",
       "296  [الحدودية, مايل, نتائج, وإحداث, القوى, بقدرته,...  2021-09-03  \n",
       "297  [وأحرقوا, شهد, وحواجز, للميليشيا, بعمليات, ثما...  2021-10-01  \n",
       "298  [يصنع, الصدق, معنى, كذبا, أموره, صنع, فوق, قوم...  2021-10-15  \n",
       "299  [بثالث, بسبع, للميليشيا, ودمروا, وألحقوا, مسلح...  2021-10-22  \n",
       "\n",
       "[300 rows x 3 columns]"
      ]
     },
     "execution_count": 10,
     "metadata": {},
     "output_type": "execute_result"
    }
   ],
   "source": [
    "df_by_issue\n",
    "#df_by_issue[df_by_issue[\"cleaned_tokens\"].str.len() == 0]"
   ]
  },
  {
   "cell_type": "code",
   "execution_count": 11,
   "metadata": {},
   "outputs": [
    {
     "name": "stderr",
     "output_type": "stream",
     "text": [
      "C:\\Users\\kantg\\.conda\\envs\\arabic-nlp\\lib\\site-packages\\ipykernel\\ipkernel.py:287: DeprecationWarning: `should_run_async` will not call `transform_cell` automatically in the future. Please pass the result to `transformed_cell` argument and any exception that happen during thetransform in `preprocessing_exc_tuple` in IPython 7.17 and above.\n",
      "  and should_run_async(code)\n"
     ]
    }
   ],
   "source": [
    "# estimate topic distribution for the issues / monthwise\n",
    "\n",
    "def estimate_topic_distr(series, lda_model):\n",
    "    distr_df = pd.DataFrame(columns=['1', '2', '3', '4', '5'])\n",
    "    corpus = [load_dat['id2word'].doc2bow(text) for text in series]\n",
    "    for doc in corpus:\n",
    "        topic_distr_vec = lda_model[doc][0]\n",
    "        if len(topic_distr_vec) < 5: # in case a topic has a zero prevalence it is not returned. catch this scenario, i.e. topic_distr_vec == [(0, 0.1452677), (2, 0.4348741), (3, 0.1491024), (4, 0.26274395)]\n",
    "            #print(topic_distr_vec)\n",
    "            comp = []\n",
    "            for i in range(len(topic_distr_vec)):\n",
    "                comp.append(topic_distr_vec[i][0])\n",
    "            zero_prev_topic_li = list(set([0,1,2,3,4]).difference(comp)) # get the number of the missing topic\n",
    "            helper_dict = {}\n",
    "            for zero_prev_topic in zero_prev_topic_li:\n",
    "                #print(str(zero_prev_topic+1))\n",
    "                helper_dict[str(zero_prev_topic+1)] = 0.0\n",
    "            for num_prevalence_tupel in topic_distr_vec:\n",
    "                helper_dict[str(num_prevalence_tupel[0]+1)] = num_prevalence_tupel[1]\n",
    "            distr_df = distr_df.append(helper_dict, ignore_index=True)\n",
    "        else:\n",
    "            distr_df = distr_df.append({'1': topic_distr_vec[0][1], '2': topic_distr_vec[1][1], '3': topic_distr_vec[2][1], '4': topic_distr_vec[3][1], '5': topic_distr_vec[4][1]}, ignore_index=True)\n",
    "    return distr_df\n",
    "\n",
    "# concat the topic distributions:\n",
    "df_by_issue = pd.concat([df_by_issue, estimate_topic_distr(df_by_issue['cleaned_tokens'], lda_model)], axis=1)\n",
    "df_by_month = pd.concat([df_by_month, estimate_topic_distr(df_by_month['cleaned_tokens'], lda_model)], axis=1)"
   ]
  },
  {
   "cell_type": "code",
   "execution_count": 18,
   "metadata": {},
   "outputs": [
    {
     "name": "stderr",
     "output_type": "stream",
     "text": [
      "C:\\Users\\kantg\\.conda\\envs\\arabic-nlp\\lib\\site-packages\\ipykernel\\ipkernel.py:287: DeprecationWarning:\n",
      "\n",
      "`should_run_async` will not call `transform_cell` automatically in the future. Please pass the result to `transformed_cell` argument and any exception that happen during thetransform in `preprocessing_exc_tuple` in IPython 7.17 and above.\n",
      "\n"
     ]
    }
   ],
   "source": [
    "df_by_month.iloc[:,1:].to_csv(\"topics_by_month.csv\")\n",
    "df_by_issue.iloc[:,2:].to_csv(\"topics_by_issue.csv\")"
   ]
  },
  {
   "cell_type": "code",
   "execution_count": 13,
   "metadata": {},
   "outputs": [
    {
     "name": "stderr",
     "output_type": "stream",
     "text": [
      "C:\\Users\\kantg\\.conda\\envs\\arabic-nlp\\lib\\site-packages\\ipykernel\\ipkernel.py:287: DeprecationWarning: `should_run_async` will not call `transform_cell` automatically in the future. Please pass the result to `transformed_cell` argument and any exception that happen during thetransform in `preprocessing_exc_tuple` in IPython 7.17 and above.\n",
      "  and should_run_async(code)\n"
     ]
    },
    {
     "data": {
      "application/vnd.plotly.v1+json": {
       "config": {
        "plotlyServerURL": "https://plot.ly"
       },
       "data": [
        {
         "mode": "lines",
         "name": "Topic 1",
         "type": "scatter",
         "x": [
          "2015-10-01T00:00:00",
          "2015-11-01T00:00:00",
          "2015-12-01T00:00:00",
          "2016-01-01T00:00:00",
          "2016-02-01T00:00:00",
          "2016-03-01T00:00:00",
          "2016-04-01T00:00:00",
          "2016-05-01T00:00:00",
          "2016-06-01T00:00:00",
          "2016-07-01T00:00:00",
          "2016-08-01T00:00:00",
          "2016-09-01T00:00:00",
          "2016-10-01T00:00:00",
          "2016-11-01T00:00:00",
          "2016-12-01T00:00:00",
          "2017-01-01T00:00:00",
          "2017-02-01T00:00:00",
          "2017-03-01T00:00:00",
          "2017-04-01T00:00:00",
          "2017-05-01T00:00:00",
          "2017-06-01T00:00:00",
          "2017-07-01T00:00:00",
          "2017-08-01T00:00:00",
          "2017-09-01T00:00:00",
          "2017-10-01T00:00:00",
          "2017-11-01T00:00:00",
          "2017-12-01T00:00:00",
          "2018-01-01T00:00:00",
          "2018-02-01T00:00:00",
          "2018-03-01T00:00:00",
          "2018-04-01T00:00:00",
          "2018-05-01T00:00:00",
          "2018-06-01T00:00:00",
          "2018-07-01T00:00:00",
          "2018-08-01T00:00:00",
          "2018-09-01T00:00:00",
          "2018-10-01T00:00:00",
          "2018-11-01T00:00:00",
          "2018-12-01T00:00:00",
          "2019-01-01T00:00:00",
          "2019-02-01T00:00:00",
          "2019-03-01T00:00:00",
          "2019-04-01T00:00:00",
          "2019-05-01T00:00:00",
          "2019-06-01T00:00:00",
          "2019-07-01T00:00:00",
          "2019-08-01T00:00:00",
          "2019-09-01T00:00:00",
          "2019-10-01T00:00:00",
          "2019-11-01T00:00:00",
          "2019-12-01T00:00:00",
          "2020-01-01T00:00:00",
          "2020-02-01T00:00:00",
          "2020-03-01T00:00:00",
          "2020-04-01T00:00:00",
          "2020-05-01T00:00:00",
          "2020-06-01T00:00:00",
          "2020-07-01T00:00:00",
          "2020-08-01T00:00:00",
          "2020-09-01T00:00:00",
          "2020-10-01T00:00:00",
          "2020-11-01T00:00:00",
          "2020-12-01T00:00:00",
          "2021-01-01T00:00:00",
          "2021-02-01T00:00:00",
          "2021-03-01T00:00:00",
          "2021-04-01T00:00:00",
          "2021-05-01T00:00:00",
          "2021-07-01T00:00:00",
          "2021-08-01T00:00:00",
          "2021-09-01T00:00:00",
          "2021-10-01T00:00:00"
         ],
         "y": [
          0.37010303139686584,
          0.5639313459396362,
          0.5689865350723267,
          0.17851509153842926,
          0.14220041036605835,
          0.11850108206272125,
          0.10143601149320602,
          0.09290555119514465,
          0.1095573827624321,
          0.09781339019536972,
          0.09343276172876358,
          0.08093855530023575,
          0.08821237832307816,
          0.11963748931884766,
          0.11122158914804459,
          0.10004489868879318,
          0.0850510224699974,
          0.07814233005046844,
          0.08831693977117538,
          0.0664910078048706,
          0.06884821504354477,
          0.09709516912698746,
          0.11617057025432587,
          0.0936526283621788,
          0.11688003689050674,
          0.11695574223995209,
          0.15214891731739044,
          0.21511615812778473,
          0.20980307459831238,
          0.14782081544399261,
          0.15205217897891998,
          0.15653778612613678,
          0.1654297262430191,
          0.12159989029169083,
          0.1738918274641037,
          0.18995967507362366,
          0.1303718239068985,
          0.15692992508411407,
          0.16886006295681,
          0.11938111484050751,
          0.13199350237846375,
          0.1792037934064865,
          0.17037199437618256,
          0.14698469638824463,
          0.12502607703208923,
          0.1450820416212082,
          0.13446934521198273,
          0.15172019600868225,
          0.11726439744234085,
          0.0777033269405365,
          0.1423206329345703,
          0.11399255692958832,
          0.08295566588640213,
          0.10310985147953033,
          0.08696804940700531,
          0.0923938900232315,
          0.10324929654598236,
          0.09458926320075989,
          0.10837358981370926,
          0.08705415576696396,
          0.11631163954734802,
          0.09610803425312042,
          0.0945587009191513,
          0.08760614693164825,
          0.0744684636592865,
          0.06931152939796448,
          0.0639585554599762,
          0.07928907871246338,
          0.07395265251398087,
          0.0760144591331482,
          0.11464756727218628,
          0.06008375808596611
         ]
        },
        {
         "mode": "lines",
         "name": "Topic 2",
         "type": "scatter",
         "x": [
          "2015-10-01T00:00:00",
          "2015-11-01T00:00:00",
          "2015-12-01T00:00:00",
          "2016-01-01T00:00:00",
          "2016-02-01T00:00:00",
          "2016-03-01T00:00:00",
          "2016-04-01T00:00:00",
          "2016-05-01T00:00:00",
          "2016-06-01T00:00:00",
          "2016-07-01T00:00:00",
          "2016-08-01T00:00:00",
          "2016-09-01T00:00:00",
          "2016-10-01T00:00:00",
          "2016-11-01T00:00:00",
          "2016-12-01T00:00:00",
          "2017-01-01T00:00:00",
          "2017-02-01T00:00:00",
          "2017-03-01T00:00:00",
          "2017-04-01T00:00:00",
          "2017-05-01T00:00:00",
          "2017-06-01T00:00:00",
          "2017-07-01T00:00:00",
          "2017-08-01T00:00:00",
          "2017-09-01T00:00:00",
          "2017-10-01T00:00:00",
          "2017-11-01T00:00:00",
          "2017-12-01T00:00:00",
          "2018-01-01T00:00:00",
          "2018-02-01T00:00:00",
          "2018-03-01T00:00:00",
          "2018-04-01T00:00:00",
          "2018-05-01T00:00:00",
          "2018-06-01T00:00:00",
          "2018-07-01T00:00:00",
          "2018-08-01T00:00:00",
          "2018-09-01T00:00:00",
          "2018-10-01T00:00:00",
          "2018-11-01T00:00:00",
          "2018-12-01T00:00:00",
          "2019-01-01T00:00:00",
          "2019-02-01T00:00:00",
          "2019-03-01T00:00:00",
          "2019-04-01T00:00:00",
          "2019-05-01T00:00:00",
          "2019-06-01T00:00:00",
          "2019-07-01T00:00:00",
          "2019-08-01T00:00:00",
          "2019-09-01T00:00:00",
          "2019-10-01T00:00:00",
          "2019-11-01T00:00:00",
          "2019-12-01T00:00:00",
          "2020-01-01T00:00:00",
          "2020-02-01T00:00:00",
          "2020-03-01T00:00:00",
          "2020-04-01T00:00:00",
          "2020-05-01T00:00:00",
          "2020-06-01T00:00:00",
          "2020-07-01T00:00:00",
          "2020-08-01T00:00:00",
          "2020-09-01T00:00:00",
          "2020-10-01T00:00:00",
          "2020-11-01T00:00:00",
          "2020-12-01T00:00:00",
          "2021-01-01T00:00:00",
          "2021-02-01T00:00:00",
          "2021-03-01T00:00:00",
          "2021-04-01T00:00:00",
          "2021-05-01T00:00:00",
          "2021-07-01T00:00:00",
          "2021-08-01T00:00:00",
          "2021-09-01T00:00:00",
          "2021-10-01T00:00:00"
         ],
         "y": [
          0.04989071562886238,
          0.06266158074140549,
          0.036411069333553314,
          0.09473930299282074,
          0.09273480623960495,
          0.10466374456882477,
          0.09203413128852844,
          0.10978575050830841,
          0.12333831191062927,
          0.13455830514431,
          0.1069350391626358,
          0.10552452504634857,
          0.08760395646095276,
          0.07020627707242966,
          0.09335823357105255,
          0.06561711430549622,
          0.09113039821386337,
          0.07489459961652756,
          0.0487750843167305,
          0.0588981993496418,
          0.090119369328022,
          0.06938114017248154,
          0.07459334284067154,
          0.10737496614456177,
          0.12470987439155579,
          0.1309964507818222,
          0.08026358485221863,
          0.08228970319032669,
          0.09381602704524994,
          0.0901695042848587,
          0.10456293821334839,
          0.08477631211280823,
          0.1196211501955986,
          0.09091301262378693,
          0.07997652143239975,
          0.05653304606676102,
          0.10021694004535675,
          0.08202486485242844,
          0.06404462456703186,
          0.10536015778779984,
          0.17918291687965393,
          0.06368109583854675,
          0.07410707324743271,
          0.08052254468202591,
          0.09172109514474869,
          0.07502772659063339,
          0.07549010217189789,
          0.07359344512224197,
          0.06651831418275833,
          0.03384007140994072,
          0.054975684732198715,
          0.06082027778029442,
          0.06647470593452454,
          0.06509455293416977,
          0.08653602749109268,
          0.08697494119405746,
          0.0636030063033104,
          0.08734489232301712,
          0.06876830756664276,
          0.11159323155879974,
          0.044115010648965836,
          0.06506379693746567,
          0.04088880494236946,
          0.0392175018787384,
          0.08890125900506973,
          0.057034675031900406,
          0.06073540821671486,
          0.08100033551454544,
          0.09026864171028137,
          0.08877307176589966,
          0.12005440890789032,
          0.10445668548345566
         ]
        },
        {
         "mode": "lines",
         "name": "Topic 3",
         "type": "scatter",
         "x": [
          "2015-10-01T00:00:00",
          "2015-11-01T00:00:00",
          "2015-12-01T00:00:00",
          "2016-01-01T00:00:00",
          "2016-02-01T00:00:00",
          "2016-03-01T00:00:00",
          "2016-04-01T00:00:00",
          "2016-05-01T00:00:00",
          "2016-06-01T00:00:00",
          "2016-07-01T00:00:00",
          "2016-08-01T00:00:00",
          "2016-09-01T00:00:00",
          "2016-10-01T00:00:00",
          "2016-11-01T00:00:00",
          "2016-12-01T00:00:00",
          "2017-01-01T00:00:00",
          "2017-02-01T00:00:00",
          "2017-03-01T00:00:00",
          "2017-04-01T00:00:00",
          "2017-05-01T00:00:00",
          "2017-06-01T00:00:00",
          "2017-07-01T00:00:00",
          "2017-08-01T00:00:00",
          "2017-09-01T00:00:00",
          "2017-10-01T00:00:00",
          "2017-11-01T00:00:00",
          "2017-12-01T00:00:00",
          "2018-01-01T00:00:00",
          "2018-02-01T00:00:00",
          "2018-03-01T00:00:00",
          "2018-04-01T00:00:00",
          "2018-05-01T00:00:00",
          "2018-06-01T00:00:00",
          "2018-07-01T00:00:00",
          "2018-08-01T00:00:00",
          "2018-09-01T00:00:00",
          "2018-10-01T00:00:00",
          "2018-11-01T00:00:00",
          "2018-12-01T00:00:00",
          "2019-01-01T00:00:00",
          "2019-02-01T00:00:00",
          "2019-03-01T00:00:00",
          "2019-04-01T00:00:00",
          "2019-05-01T00:00:00",
          "2019-06-01T00:00:00",
          "2019-07-01T00:00:00",
          "2019-08-01T00:00:00",
          "2019-09-01T00:00:00",
          "2019-10-01T00:00:00",
          "2019-11-01T00:00:00",
          "2019-12-01T00:00:00",
          "2020-01-01T00:00:00",
          "2020-02-01T00:00:00",
          "2020-03-01T00:00:00",
          "2020-04-01T00:00:00",
          "2020-05-01T00:00:00",
          "2020-06-01T00:00:00",
          "2020-07-01T00:00:00",
          "2020-08-01T00:00:00",
          "2020-09-01T00:00:00",
          "2020-10-01T00:00:00",
          "2020-11-01T00:00:00",
          "2020-12-01T00:00:00",
          "2021-01-01T00:00:00",
          "2021-02-01T00:00:00",
          "2021-03-01T00:00:00",
          "2021-04-01T00:00:00",
          "2021-05-01T00:00:00",
          "2021-07-01T00:00:00",
          "2021-08-01T00:00:00",
          "2021-09-01T00:00:00",
          "2021-10-01T00:00:00"
         ],
         "y": [
          0.1999417245388031,
          0.060466114431619644,
          0.05384092405438423,
          0.08955398201942444,
          0.09278453886508942,
          0.09112870693206787,
          0.08554881811141968,
          0.09941823035478592,
          0.10496306419372559,
          0.07778137922286987,
          0.09063791483640671,
          0.10784734040498734,
          0.1130063459277153,
          0.12503854930400848,
          0.13709937036037445,
          0.14311335980892181,
          0.16816234588623047,
          0.14048297703266144,
          0.11601762473583221,
          0.1424502730369568,
          0.13966713845729828,
          0.17701900005340576,
          0.14495402574539185,
          0.14166639745235443,
          0.11830995231866837,
          0.1529066562652588,
          0.19533392786979675,
          0.20405863225460052,
          0.17555277049541473,
          0.1604316532611847,
          0.1786056011915207,
          0.21389633417129517,
          0.20013795793056488,
          0.2519591152667999,
          0.25937074422836304,
          0.3318624496459961,
          0.3030311167240143,
          0.35121840238571167,
          0.3824250102043152,
          0.2579733431339264,
          0.2656993567943573,
          0.3782157599925995,
          0.43998974561691284,
          0.33802154660224915,
          0.31951916217803955,
          0.32044392824172974,
          0.3257528245449066,
          0.3812616467475891,
          0.3953838348388672,
          0.5175435543060303,
          0.4303363561630249,
          0.4262915551662445,
          0.4288243055343628,
          0.47201743721961975,
          0.5346640944480896,
          0.4473080039024353,
          0.4483485519886017,
          0.3964332938194275,
          0.3634966313838959,
          0.43200331926345825,
          0.4570978581905365,
          0.5122860670089722,
          0.6024247407913208,
          0.6089485287666321,
          0.5786217451095581,
          0.6250153183937073,
          0.5610056519508362,
          0.4995552897453308,
          0.48447534441947937,
          0.47746211290359497,
          0.39269980788230896,
          0.462134450674057
         ]
        },
        {
         "mode": "lines",
         "name": "Topic 4",
         "type": "scatter",
         "x": [
          "2015-10-01T00:00:00",
          "2015-11-01T00:00:00",
          "2015-12-01T00:00:00",
          "2016-01-01T00:00:00",
          "2016-02-01T00:00:00",
          "2016-03-01T00:00:00",
          "2016-04-01T00:00:00",
          "2016-05-01T00:00:00",
          "2016-06-01T00:00:00",
          "2016-07-01T00:00:00",
          "2016-08-01T00:00:00",
          "2016-09-01T00:00:00",
          "2016-10-01T00:00:00",
          "2016-11-01T00:00:00",
          "2016-12-01T00:00:00",
          "2017-01-01T00:00:00",
          "2017-02-01T00:00:00",
          "2017-03-01T00:00:00",
          "2017-04-01T00:00:00",
          "2017-05-01T00:00:00",
          "2017-06-01T00:00:00",
          "2017-07-01T00:00:00",
          "2017-08-01T00:00:00",
          "2017-09-01T00:00:00",
          "2017-10-01T00:00:00",
          "2017-11-01T00:00:00",
          "2017-12-01T00:00:00",
          "2018-01-01T00:00:00",
          "2018-02-01T00:00:00",
          "2018-03-01T00:00:00",
          "2018-04-01T00:00:00",
          "2018-05-01T00:00:00",
          "2018-06-01T00:00:00",
          "2018-07-01T00:00:00",
          "2018-08-01T00:00:00",
          "2018-09-01T00:00:00",
          "2018-10-01T00:00:00",
          "2018-11-01T00:00:00",
          "2018-12-01T00:00:00",
          "2019-01-01T00:00:00",
          "2019-02-01T00:00:00",
          "2019-03-01T00:00:00",
          "2019-04-01T00:00:00",
          "2019-05-01T00:00:00",
          "2019-06-01T00:00:00",
          "2019-07-01T00:00:00",
          "2019-08-01T00:00:00",
          "2019-09-01T00:00:00",
          "2019-10-01T00:00:00",
          "2019-11-01T00:00:00",
          "2019-12-01T00:00:00",
          "2020-01-01T00:00:00",
          "2020-02-01T00:00:00",
          "2020-03-01T00:00:00",
          "2020-04-01T00:00:00",
          "2020-05-01T00:00:00",
          "2020-06-01T00:00:00",
          "2020-07-01T00:00:00",
          "2020-08-01T00:00:00",
          "2020-09-01T00:00:00",
          "2020-10-01T00:00:00",
          "2020-11-01T00:00:00",
          "2020-12-01T00:00:00",
          "2021-01-01T00:00:00",
          "2021-02-01T00:00:00",
          "2021-03-01T00:00:00",
          "2021-04-01T00:00:00",
          "2021-05-01T00:00:00",
          "2021-07-01T00:00:00",
          "2021-08-01T00:00:00",
          "2021-09-01T00:00:00",
          "2021-10-01T00:00:00"
         ],
         "y": [
          0.2355518341064453,
          0.16994275152683258,
          0.20132488012313843,
          0.35631227493286133,
          0.38927775621414185,
          0.42955273389816284,
          0.46490100026130676,
          0.4969633221626282,
          0.4316471517086029,
          0.4348906874656677,
          0.4651484191417694,
          0.45650967955589294,
          0.4561278522014618,
          0.41091227531433105,
          0.42030566930770874,
          0.47031933069229126,
          0.4201965928077698,
          0.43252289295196533,
          0.49676692485809326,
          0.4765108823776245,
          0.42041894793510437,
          0.32857057452201843,
          0.34411776065826416,
          0.22832053899765015,
          0.2183450162410736,
          0.22258250415325165,
          0.23080278933048248,
          0.20280024409294128,
          0.2111603319644928,
          0.25640982389450073,
          0.2724531590938568,
          0.22903423011302948,
          0.23615121841430664,
          0.2339460402727127,
          0.22814907133579254,
          0.14159934222698212,
          0.14308927953243256,
          0.12014306336641312,
          0.13506543636322021,
          0.14312396943569183,
          0.13399097323417664,
          0.12346532195806503,
          0.11893726140260696,
          0.1678646057844162,
          0.16182395815849304,
          0.13463479280471802,
          0.1612132340669632,
          0.09745945036411285,
          0.1525053232908249,
          0.09908334910869598,
          0.07957939803600311,
          0.12695062160491943,
          0.14257723093032837,
          0.14192259311676025,
          0.08323531597852707,
          0.13452059030532837,
          0.1268128901720047,
          0.1348739117383957,
          0.10531804710626602,
          0.09008057415485382,
          0.11947856843471527,
          0.10660828649997711,
          0.08971359580755234,
          0.12485168129205704,
          0.08376628160476685,
          0.0989401638507843,
          0.11497344821691513,
          0.13549238443374634,
          0.13650472462177277,
          0.12981082499027252,
          0.06169165298342705,
          0.12251561880111694
         ]
        },
        {
         "mode": "lines",
         "name": "Topic 5",
         "type": "scatter",
         "x": [
          "2015-10-01T00:00:00",
          "2015-11-01T00:00:00",
          "2015-12-01T00:00:00",
          "2016-01-01T00:00:00",
          "2016-02-01T00:00:00",
          "2016-03-01T00:00:00",
          "2016-04-01T00:00:00",
          "2016-05-01T00:00:00",
          "2016-06-01T00:00:00",
          "2016-07-01T00:00:00",
          "2016-08-01T00:00:00",
          "2016-09-01T00:00:00",
          "2016-10-01T00:00:00",
          "2016-11-01T00:00:00",
          "2016-12-01T00:00:00",
          "2017-01-01T00:00:00",
          "2017-02-01T00:00:00",
          "2017-03-01T00:00:00",
          "2017-04-01T00:00:00",
          "2017-05-01T00:00:00",
          "2017-06-01T00:00:00",
          "2017-07-01T00:00:00",
          "2017-08-01T00:00:00",
          "2017-09-01T00:00:00",
          "2017-10-01T00:00:00",
          "2017-11-01T00:00:00",
          "2017-12-01T00:00:00",
          "2018-01-01T00:00:00",
          "2018-02-01T00:00:00",
          "2018-03-01T00:00:00",
          "2018-04-01T00:00:00",
          "2018-05-01T00:00:00",
          "2018-06-01T00:00:00",
          "2018-07-01T00:00:00",
          "2018-08-01T00:00:00",
          "2018-09-01T00:00:00",
          "2018-10-01T00:00:00",
          "2018-11-01T00:00:00",
          "2018-12-01T00:00:00",
          "2019-01-01T00:00:00",
          "2019-02-01T00:00:00",
          "2019-03-01T00:00:00",
          "2019-04-01T00:00:00",
          "2019-05-01T00:00:00",
          "2019-06-01T00:00:00",
          "2019-07-01T00:00:00",
          "2019-08-01T00:00:00",
          "2019-09-01T00:00:00",
          "2019-10-01T00:00:00",
          "2019-11-01T00:00:00",
          "2019-12-01T00:00:00",
          "2020-01-01T00:00:00",
          "2020-02-01T00:00:00",
          "2020-03-01T00:00:00",
          "2020-04-01T00:00:00",
          "2020-05-01T00:00:00",
          "2020-06-01T00:00:00",
          "2020-07-01T00:00:00",
          "2020-08-01T00:00:00",
          "2020-09-01T00:00:00",
          "2020-10-01T00:00:00",
          "2020-11-01T00:00:00",
          "2020-12-01T00:00:00",
          "2021-01-01T00:00:00",
          "2021-02-01T00:00:00",
          "2021-03-01T00:00:00",
          "2021-04-01T00:00:00",
          "2021-05-01T00:00:00",
          "2021-07-01T00:00:00",
          "2021-08-01T00:00:00",
          "2021-09-01T00:00:00",
          "2021-10-01T00:00:00"
         ],
         "y": [
          0.14451271295547485,
          0.14299821853637695,
          0.13943664729595184,
          0.28087934851646423,
          0.2830025255680084,
          0.2561536729335785,
          0.2560800313949585,
          0.20092710852622986,
          0.23049406707286835,
          0.2549562454223633,
          0.2438458949327469,
          0.2491799294948578,
          0.255049467086792,
          0.27420538663864136,
          0.23801511526107788,
          0.2209053337574005,
          0.2354595959186554,
          0.27395716309547424,
          0.2501234710216522,
          0.255649596452713,
          0.2809463441371918,
          0.3279340863227844,
          0.3201643228530884,
          0.4289855360984802,
          0.4217551052570343,
          0.3765586018562317,
          0.3414507806301117,
          0.295735239982605,
          0.30966779589653015,
          0.34516820311546326,
          0.2923261225223541,
          0.31575536727905273,
          0.27865996956825256,
          0.3015819191932678,
          0.25861185789108276,
          0.2800455093383789,
          0.3232908546924591,
          0.2896837592124939,
          0.24960485100746155,
          0.37416142225265503,
          0.289133220911026,
          0.2554340064525604,
          0.19659392535686493,
          0.2666066288948059,
          0.3019097149372101,
          0.32481151819229126,
          0.30307450890541077,
          0.295965313911438,
          0.26832810044288635,
          0.2718296945095062,
          0.29278793931007385,
          0.2719449996948242,
          0.2791680693626404,
          0.2178555428981781,
          0.20859655737876892,
          0.23880256712436676,
          0.25798627734184265,
          0.2867586016654968,
          0.35404345393180847,
          0.279268741607666,
          0.2629969120025635,
          0.21993380784988403,
          0.1724141538143158,
          0.1393761783838272,
          0.17424225807189941,
          0.14969834685325623,
          0.19932691752910614,
          0.20466293394565582,
          0.21479864418506622,
          0.22793953120708466,
          0.3109065592288971,
          0.25080952048301697
         ]
        }
       ],
       "layout": {
        "template": {
         "data": {
          "bar": [
           {
            "error_x": {
             "color": "#2a3f5f"
            },
            "error_y": {
             "color": "#2a3f5f"
            },
            "marker": {
             "line": {
              "color": "#E5ECF6",
              "width": 0.5
             },
             "pattern": {
              "fillmode": "overlay",
              "size": 10,
              "solidity": 0.2
             }
            },
            "type": "bar"
           }
          ],
          "barpolar": [
           {
            "marker": {
             "line": {
              "color": "#E5ECF6",
              "width": 0.5
             },
             "pattern": {
              "fillmode": "overlay",
              "size": 10,
              "solidity": 0.2
             }
            },
            "type": "barpolar"
           }
          ],
          "carpet": [
           {
            "aaxis": {
             "endlinecolor": "#2a3f5f",
             "gridcolor": "white",
             "linecolor": "white",
             "minorgridcolor": "white",
             "startlinecolor": "#2a3f5f"
            },
            "baxis": {
             "endlinecolor": "#2a3f5f",
             "gridcolor": "white",
             "linecolor": "white",
             "minorgridcolor": "white",
             "startlinecolor": "#2a3f5f"
            },
            "type": "carpet"
           }
          ],
          "choropleth": [
           {
            "colorbar": {
             "outlinewidth": 0,
             "ticks": ""
            },
            "type": "choropleth"
           }
          ],
          "contour": [
           {
            "colorbar": {
             "outlinewidth": 0,
             "ticks": ""
            },
            "colorscale": [
             [
              0,
              "#0d0887"
             ],
             [
              0.1111111111111111,
              "#46039f"
             ],
             [
              0.2222222222222222,
              "#7201a8"
             ],
             [
              0.3333333333333333,
              "#9c179e"
             ],
             [
              0.4444444444444444,
              "#bd3786"
             ],
             [
              0.5555555555555556,
              "#d8576b"
             ],
             [
              0.6666666666666666,
              "#ed7953"
             ],
             [
              0.7777777777777778,
              "#fb9f3a"
             ],
             [
              0.8888888888888888,
              "#fdca26"
             ],
             [
              1,
              "#f0f921"
             ]
            ],
            "type": "contour"
           }
          ],
          "contourcarpet": [
           {
            "colorbar": {
             "outlinewidth": 0,
             "ticks": ""
            },
            "type": "contourcarpet"
           }
          ],
          "heatmap": [
           {
            "colorbar": {
             "outlinewidth": 0,
             "ticks": ""
            },
            "colorscale": [
             [
              0,
              "#0d0887"
             ],
             [
              0.1111111111111111,
              "#46039f"
             ],
             [
              0.2222222222222222,
              "#7201a8"
             ],
             [
              0.3333333333333333,
              "#9c179e"
             ],
             [
              0.4444444444444444,
              "#bd3786"
             ],
             [
              0.5555555555555556,
              "#d8576b"
             ],
             [
              0.6666666666666666,
              "#ed7953"
             ],
             [
              0.7777777777777778,
              "#fb9f3a"
             ],
             [
              0.8888888888888888,
              "#fdca26"
             ],
             [
              1,
              "#f0f921"
             ]
            ],
            "type": "heatmap"
           }
          ],
          "heatmapgl": [
           {
            "colorbar": {
             "outlinewidth": 0,
             "ticks": ""
            },
            "colorscale": [
             [
              0,
              "#0d0887"
             ],
             [
              0.1111111111111111,
              "#46039f"
             ],
             [
              0.2222222222222222,
              "#7201a8"
             ],
             [
              0.3333333333333333,
              "#9c179e"
             ],
             [
              0.4444444444444444,
              "#bd3786"
             ],
             [
              0.5555555555555556,
              "#d8576b"
             ],
             [
              0.6666666666666666,
              "#ed7953"
             ],
             [
              0.7777777777777778,
              "#fb9f3a"
             ],
             [
              0.8888888888888888,
              "#fdca26"
             ],
             [
              1,
              "#f0f921"
             ]
            ],
            "type": "heatmapgl"
           }
          ],
          "histogram": [
           {
            "marker": {
             "pattern": {
              "fillmode": "overlay",
              "size": 10,
              "solidity": 0.2
             }
            },
            "type": "histogram"
           }
          ],
          "histogram2d": [
           {
            "colorbar": {
             "outlinewidth": 0,
             "ticks": ""
            },
            "colorscale": [
             [
              0,
              "#0d0887"
             ],
             [
              0.1111111111111111,
              "#46039f"
             ],
             [
              0.2222222222222222,
              "#7201a8"
             ],
             [
              0.3333333333333333,
              "#9c179e"
             ],
             [
              0.4444444444444444,
              "#bd3786"
             ],
             [
              0.5555555555555556,
              "#d8576b"
             ],
             [
              0.6666666666666666,
              "#ed7953"
             ],
             [
              0.7777777777777778,
              "#fb9f3a"
             ],
             [
              0.8888888888888888,
              "#fdca26"
             ],
             [
              1,
              "#f0f921"
             ]
            ],
            "type": "histogram2d"
           }
          ],
          "histogram2dcontour": [
           {
            "colorbar": {
             "outlinewidth": 0,
             "ticks": ""
            },
            "colorscale": [
             [
              0,
              "#0d0887"
             ],
             [
              0.1111111111111111,
              "#46039f"
             ],
             [
              0.2222222222222222,
              "#7201a8"
             ],
             [
              0.3333333333333333,
              "#9c179e"
             ],
             [
              0.4444444444444444,
              "#bd3786"
             ],
             [
              0.5555555555555556,
              "#d8576b"
             ],
             [
              0.6666666666666666,
              "#ed7953"
             ],
             [
              0.7777777777777778,
              "#fb9f3a"
             ],
             [
              0.8888888888888888,
              "#fdca26"
             ],
             [
              1,
              "#f0f921"
             ]
            ],
            "type": "histogram2dcontour"
           }
          ],
          "mesh3d": [
           {
            "colorbar": {
             "outlinewidth": 0,
             "ticks": ""
            },
            "type": "mesh3d"
           }
          ],
          "parcoords": [
           {
            "line": {
             "colorbar": {
              "outlinewidth": 0,
              "ticks": ""
             }
            },
            "type": "parcoords"
           }
          ],
          "pie": [
           {
            "automargin": true,
            "type": "pie"
           }
          ],
          "scatter": [
           {
            "marker": {
             "colorbar": {
              "outlinewidth": 0,
              "ticks": ""
             }
            },
            "type": "scatter"
           }
          ],
          "scatter3d": [
           {
            "line": {
             "colorbar": {
              "outlinewidth": 0,
              "ticks": ""
             }
            },
            "marker": {
             "colorbar": {
              "outlinewidth": 0,
              "ticks": ""
             }
            },
            "type": "scatter3d"
           }
          ],
          "scattercarpet": [
           {
            "marker": {
             "colorbar": {
              "outlinewidth": 0,
              "ticks": ""
             }
            },
            "type": "scattercarpet"
           }
          ],
          "scattergeo": [
           {
            "marker": {
             "colorbar": {
              "outlinewidth": 0,
              "ticks": ""
             }
            },
            "type": "scattergeo"
           }
          ],
          "scattergl": [
           {
            "marker": {
             "colorbar": {
              "outlinewidth": 0,
              "ticks": ""
             }
            },
            "type": "scattergl"
           }
          ],
          "scattermapbox": [
           {
            "marker": {
             "colorbar": {
              "outlinewidth": 0,
              "ticks": ""
             }
            },
            "type": "scattermapbox"
           }
          ],
          "scatterpolar": [
           {
            "marker": {
             "colorbar": {
              "outlinewidth": 0,
              "ticks": ""
             }
            },
            "type": "scatterpolar"
           }
          ],
          "scatterpolargl": [
           {
            "marker": {
             "colorbar": {
              "outlinewidth": 0,
              "ticks": ""
             }
            },
            "type": "scatterpolargl"
           }
          ],
          "scatterternary": [
           {
            "marker": {
             "colorbar": {
              "outlinewidth": 0,
              "ticks": ""
             }
            },
            "type": "scatterternary"
           }
          ],
          "surface": [
           {
            "colorbar": {
             "outlinewidth": 0,
             "ticks": ""
            },
            "colorscale": [
             [
              0,
              "#0d0887"
             ],
             [
              0.1111111111111111,
              "#46039f"
             ],
             [
              0.2222222222222222,
              "#7201a8"
             ],
             [
              0.3333333333333333,
              "#9c179e"
             ],
             [
              0.4444444444444444,
              "#bd3786"
             ],
             [
              0.5555555555555556,
              "#d8576b"
             ],
             [
              0.6666666666666666,
              "#ed7953"
             ],
             [
              0.7777777777777778,
              "#fb9f3a"
             ],
             [
              0.8888888888888888,
              "#fdca26"
             ],
             [
              1,
              "#f0f921"
             ]
            ],
            "type": "surface"
           }
          ],
          "table": [
           {
            "cells": {
             "fill": {
              "color": "#EBF0F8"
             },
             "line": {
              "color": "white"
             }
            },
            "header": {
             "fill": {
              "color": "#C8D4E3"
             },
             "line": {
              "color": "white"
             }
            },
            "type": "table"
           }
          ]
         },
         "layout": {
          "annotationdefaults": {
           "arrowcolor": "#2a3f5f",
           "arrowhead": 0,
           "arrowwidth": 1
          },
          "autotypenumbers": "strict",
          "coloraxis": {
           "colorbar": {
            "outlinewidth": 0,
            "ticks": ""
           }
          },
          "colorscale": {
           "diverging": [
            [
             0,
             "#8e0152"
            ],
            [
             0.1,
             "#c51b7d"
            ],
            [
             0.2,
             "#de77ae"
            ],
            [
             0.3,
             "#f1b6da"
            ],
            [
             0.4,
             "#fde0ef"
            ],
            [
             0.5,
             "#f7f7f7"
            ],
            [
             0.6,
             "#e6f5d0"
            ],
            [
             0.7,
             "#b8e186"
            ],
            [
             0.8,
             "#7fbc41"
            ],
            [
             0.9,
             "#4d9221"
            ],
            [
             1,
             "#276419"
            ]
           ],
           "sequential": [
            [
             0,
             "#0d0887"
            ],
            [
             0.1111111111111111,
             "#46039f"
            ],
            [
             0.2222222222222222,
             "#7201a8"
            ],
            [
             0.3333333333333333,
             "#9c179e"
            ],
            [
             0.4444444444444444,
             "#bd3786"
            ],
            [
             0.5555555555555556,
             "#d8576b"
            ],
            [
             0.6666666666666666,
             "#ed7953"
            ],
            [
             0.7777777777777778,
             "#fb9f3a"
            ],
            [
             0.8888888888888888,
             "#fdca26"
            ],
            [
             1,
             "#f0f921"
            ]
           ],
           "sequentialminus": [
            [
             0,
             "#0d0887"
            ],
            [
             0.1111111111111111,
             "#46039f"
            ],
            [
             0.2222222222222222,
             "#7201a8"
            ],
            [
             0.3333333333333333,
             "#9c179e"
            ],
            [
             0.4444444444444444,
             "#bd3786"
            ],
            [
             0.5555555555555556,
             "#d8576b"
            ],
            [
             0.6666666666666666,
             "#ed7953"
            ],
            [
             0.7777777777777778,
             "#fb9f3a"
            ],
            [
             0.8888888888888888,
             "#fdca26"
            ],
            [
             1,
             "#f0f921"
            ]
           ]
          },
          "colorway": [
           "#636efa",
           "#EF553B",
           "#00cc96",
           "#ab63fa",
           "#FFA15A",
           "#19d3f3",
           "#FF6692",
           "#B6E880",
           "#FF97FF",
           "#FECB52"
          ],
          "font": {
           "color": "#2a3f5f"
          },
          "geo": {
           "bgcolor": "white",
           "lakecolor": "white",
           "landcolor": "#E5ECF6",
           "showlakes": true,
           "showland": true,
           "subunitcolor": "white"
          },
          "hoverlabel": {
           "align": "left"
          },
          "hovermode": "closest",
          "mapbox": {
           "style": "light"
          },
          "paper_bgcolor": "white",
          "plot_bgcolor": "#E5ECF6",
          "polar": {
           "angularaxis": {
            "gridcolor": "white",
            "linecolor": "white",
            "ticks": ""
           },
           "bgcolor": "#E5ECF6",
           "radialaxis": {
            "gridcolor": "white",
            "linecolor": "white",
            "ticks": ""
           }
          },
          "scene": {
           "xaxis": {
            "backgroundcolor": "#E5ECF6",
            "gridcolor": "white",
            "gridwidth": 2,
            "linecolor": "white",
            "showbackground": true,
            "ticks": "",
            "zerolinecolor": "white"
           },
           "yaxis": {
            "backgroundcolor": "#E5ECF6",
            "gridcolor": "white",
            "gridwidth": 2,
            "linecolor": "white",
            "showbackground": true,
            "ticks": "",
            "zerolinecolor": "white"
           },
           "zaxis": {
            "backgroundcolor": "#E5ECF6",
            "gridcolor": "white",
            "gridwidth": 2,
            "linecolor": "white",
            "showbackground": true,
            "ticks": "",
            "zerolinecolor": "white"
           }
          },
          "shapedefaults": {
           "line": {
            "color": "#2a3f5f"
           }
          },
          "ternary": {
           "aaxis": {
            "gridcolor": "white",
            "linecolor": "white",
            "ticks": ""
           },
           "baxis": {
            "gridcolor": "white",
            "linecolor": "white",
            "ticks": ""
           },
           "bgcolor": "#E5ECF6",
           "caxis": {
            "gridcolor": "white",
            "linecolor": "white",
            "ticks": ""
           }
          },
          "title": {
           "x": 0.05
          },
          "xaxis": {
           "automargin": true,
           "gridcolor": "white",
           "linecolor": "white",
           "ticks": "",
           "title": {
            "standoff": 15
           },
           "zerolinecolor": "white",
           "zerolinewidth": 2
          },
          "yaxis": {
           "automargin": true,
           "gridcolor": "white",
           "linecolor": "white",
           "ticks": "",
           "title": {
            "standoff": 15
           },
           "zerolinecolor": "white",
           "zerolinewidth": 2
          }
         }
        },
        "title": {
         "text": "Topic Distribution over time for Tokens aggregated by month"
        },
        "xaxis": {
         "tick0": "2015-10-01T00:00:00",
         "tickvals": [
          "2015-10-01T00:00:00",
          "2015-11-01T00:00:00",
          "2015-12-01T00:00:00",
          "2016-01-01T00:00:00",
          "2016-02-01T00:00:00",
          "2016-03-01T00:00:00",
          "2016-04-01T00:00:00",
          "2016-05-01T00:00:00",
          "2016-06-01T00:00:00",
          "2016-07-01T00:00:00",
          "2016-08-01T00:00:00",
          "2016-09-01T00:00:00",
          "2016-10-01T00:00:00",
          "2016-11-01T00:00:00",
          "2016-12-01T00:00:00",
          "2017-01-01T00:00:00",
          "2017-02-01T00:00:00",
          "2017-03-01T00:00:00",
          "2017-04-01T00:00:00",
          "2017-05-01T00:00:00",
          "2017-06-01T00:00:00",
          "2017-07-01T00:00:00",
          "2017-08-01T00:00:00",
          "2017-09-01T00:00:00",
          "2017-10-01T00:00:00",
          "2017-11-01T00:00:00",
          "2017-12-01T00:00:00",
          "2018-01-01T00:00:00",
          "2018-02-01T00:00:00",
          "2018-03-01T00:00:00",
          "2018-04-01T00:00:00",
          "2018-05-01T00:00:00",
          "2018-06-01T00:00:00",
          "2018-07-01T00:00:00",
          "2018-08-01T00:00:00",
          "2018-09-01T00:00:00",
          "2018-10-01T00:00:00",
          "2018-11-01T00:00:00",
          "2018-12-01T00:00:00",
          "2019-01-01T00:00:00",
          "2019-02-01T00:00:00",
          "2019-03-01T00:00:00",
          "2019-04-01T00:00:00",
          "2019-05-01T00:00:00",
          "2019-06-01T00:00:00",
          "2019-07-01T00:00:00",
          "2019-08-01T00:00:00",
          "2019-09-01T00:00:00",
          "2019-10-01T00:00:00",
          "2019-11-01T00:00:00",
          "2019-12-01T00:00:00",
          "2020-01-01T00:00:00",
          "2020-02-01T00:00:00",
          "2020-03-01T00:00:00",
          "2020-04-01T00:00:00",
          "2020-05-01T00:00:00",
          "2020-06-01T00:00:00",
          "2020-07-01T00:00:00",
          "2020-08-01T00:00:00",
          "2020-09-01T00:00:00",
          "2020-10-01T00:00:00",
          "2020-11-01T00:00:00",
          "2020-12-01T00:00:00",
          "2021-01-01T00:00:00",
          "2021-02-01T00:00:00",
          "2021-03-01T00:00:00",
          "2021-04-01T00:00:00",
          "2021-05-01T00:00:00",
          "2021-07-01T00:00:00",
          "2021-08-01T00:00:00",
          "2021-09-01T00:00:00",
          "2021-10-01T00:00:00"
         ],
         "title": {
          "text": "Time"
         }
        },
        "yaxis": {
         "title": {
          "text": "Topic Proportion"
         }
        }
       }
      }
     },
     "metadata": {},
     "output_type": "display_data"
    }
   ],
   "source": [
    "fig = go.Figure()\n",
    "for i in range(1,6):\n",
    "    fig.add_trace(go.Scatter(x=df_by_month['date'], y=df_by_month[str(i)],\n",
    "                             mode='lines',\n",
    "                             name='Topic ' + str(i)))\n",
    "fig.update_layout(title='Topic Distribution over time for Tokens aggregated by month',\n",
    "                  xaxis = dict(title='Time',\n",
    "                            tick0 = df_by_month['date'].iloc[0],\n",
    "                            tickvals = df_by_month['date'],\n",
    "                            #ticktext = df_by_month['date']\n",
    "                            ),\n",
    "                  yaxis_title='Topic Proportion')\n",
    "fig.write_html(\"plotly_topic_distr_monthwise.html\")\n",
    "fig.show()"
   ]
  },
  {
   "cell_type": "code",
   "execution_count": 14,
   "metadata": {},
   "outputs": [
    {
     "name": "stderr",
     "output_type": "stream",
     "text": [
      "C:\\Users\\kantg\\.conda\\envs\\arabic-nlp\\lib\\site-packages\\ipykernel\\ipkernel.py:287: DeprecationWarning:\n",
      "\n",
      "`should_run_async` will not call `transform_cell` automatically in the future. Please pass the result to `transformed_cell` argument and any exception that happen during thetransform in `preprocessing_exc_tuple` in IPython 7.17 and above.\n",
      "\n"
     ]
    },
    {
     "data": {
      "application/vnd.plotly.v1+json": {
       "config": {
        "plotlyServerURL": "https://plot.ly"
       },
       "data": [
        {
         "mode": "lines",
         "name": "Topic 1",
         "type": "scatter",
         "x": [
          "2015-10-16",
          "2015-10-23",
          "2015-10-30",
          "2015-11-06",
          "2015-11-13",
          "2015-11-20",
          "2015-11-27",
          "2015-12-04",
          "2015-12-11",
          "2015-12-18",
          "2015-12-25",
          "2016-01-01",
          "2016-01-08",
          "2016-01-15",
          "2016-01-22",
          "2016-01-29",
          "2016-02-05",
          "2016-02-12",
          "2016-02-19",
          "2016-02-26",
          "2016-03-04",
          "2016-03-11",
          "2016-03-18",
          "2016-03-25",
          "2016-04-01",
          "2016-04-08",
          "2016-04-15",
          "2016-04-22",
          "2016-04-29",
          "2016-05-06",
          "2016-05-13",
          "2016-05-20",
          "2016-05-27",
          "2016-06-03",
          "2016-06-10",
          "2016-06-17",
          "2016-06-24",
          "2016-07-01",
          "2016-07-08",
          "2016-07-15",
          "2016-07-22",
          "2016-07-29",
          "2016-08-05",
          "2016-08-12",
          "2016-08-19",
          "2016-08-26",
          "2016-09-02",
          "2016-09-09",
          "2016-09-16",
          "2016-09-23",
          "2016-09-30",
          "2016-10-07",
          "2016-10-14",
          "2016-10-21",
          "2016-10-28",
          "2016-11-04",
          "2016-11-11",
          "2016-11-18",
          "2016-11-25",
          "2016-12-02",
          "2016-12-09",
          "2016-12-16",
          "2016-12-23",
          "2016-12-30",
          "2017-01-06",
          "2017-01-13",
          "2017-01-20",
          "2017-01-27",
          "2017-02-03",
          "2017-02-10",
          "2017-02-17",
          "2017-02-24",
          "2017-03-03",
          "2017-03-10",
          "2017-03-17",
          "2017-03-24",
          "2017-03-31",
          "2017-04-07",
          "2017-04-14",
          "2017-04-21",
          "2017-04-28",
          "2017-05-05",
          "2017-05-12",
          "2017-05-19",
          "2017-06-02",
          "2017-06-09",
          "2017-06-16",
          "2017-06-23",
          "2017-06-30",
          "2017-07-07",
          "2017-07-14",
          "2017-07-21",
          "2017-07-28",
          "2017-08-04",
          "2017-08-11",
          "2017-08-18",
          "2017-08-25",
          "2017-09-01",
          "2017-09-08",
          "2017-09-15",
          "2017-09-22",
          "2017-09-29",
          "2017-10-06",
          "2017-10-13",
          "2017-10-20",
          "2017-10-27",
          "2017-11-03",
          "2017-11-10",
          "2017-11-17",
          "2017-11-24",
          "2017-12-01",
          "2017-12-08",
          "2017-12-15",
          "2017-12-22",
          "2017-12-29",
          "2018-01-05",
          "2018-01-12",
          "2018-01-19",
          "2018-01-26",
          "2018-02-02",
          "2018-02-09",
          "2018-02-16",
          "2018-02-23",
          "2018-03-02",
          "2018-03-09",
          "2018-03-16",
          "2018-03-23",
          "2018-03-30",
          "2018-04-06",
          "2018-04-13",
          "2018-04-20",
          "2018-04-27",
          "2018-05-04",
          "2018-05-11",
          "2018-05-18",
          "2018-05-25",
          "2018-06-01",
          "2018-06-08",
          "2018-06-15",
          "2018-06-22",
          "2018-06-29",
          "2018-07-06",
          "2018-07-13",
          "2018-07-20",
          "2018-07-27",
          "2018-08-03",
          "2018-08-10",
          "2018-08-17",
          "2018-08-24",
          "2018-08-31",
          "2018-09-07",
          "2018-09-14",
          "2018-09-21",
          "2018-09-28",
          "2018-10-05",
          "2018-10-12",
          "2018-10-19",
          "2018-10-26",
          "2018-11-02",
          "2018-11-09",
          "2018-11-16",
          "2018-11-23",
          "2018-11-30",
          "2018-12-07",
          "2018-12-14",
          "2018-12-21",
          "2018-12-28",
          "2019-01-04",
          "2019-01-11",
          "2019-01-18",
          "2019-01-25",
          "2019-02-01",
          "2019-02-08",
          "2019-02-15",
          "2019-02-22",
          "2019-03-01",
          "2019-03-08",
          "2019-03-15",
          "2019-03-22",
          "2019-03-29",
          "2019-04-05",
          "2019-04-12",
          "2019-04-19",
          "2019-04-26",
          "2019-05-03",
          "2019-05-10",
          "2019-05-17",
          "2019-05-24",
          "2019-05-31",
          "2019-06-07",
          "2019-06-14",
          "2019-06-21",
          "2019-06-28",
          "2019-07-05",
          "2019-07-12",
          "2019-07-19",
          "2019-07-26",
          "2019-08-02",
          "2019-08-09",
          "2019-08-16",
          "2019-08-23",
          "2019-08-30",
          "2019-09-06",
          "2019-09-13",
          "2019-09-20",
          "2019-09-27",
          "2019-10-04",
          "2019-10-11",
          "2019-10-18",
          "2019-10-25",
          "2019-11-01",
          "2019-11-08",
          "2019-11-15",
          "2019-11-22",
          "2019-11-29",
          "2019-12-06",
          "2019-12-13",
          "2019-12-20",
          "2019-12-27",
          "2020-01-03",
          "2020-01-10",
          "2020-01-17",
          "2020-01-24",
          "2020-01-31",
          "2020-02-07",
          "2020-02-14",
          "2020-02-21",
          "2020-02-28",
          "2020-03-06",
          "2020-03-13",
          "2020-03-20",
          "2020-03-27",
          "2020-04-03",
          "2020-04-10",
          "2020-04-17",
          "2020-04-24",
          "2020-05-01",
          "2020-05-08",
          "2020-05-15",
          "2020-05-22",
          "2020-05-29",
          "2020-06-05",
          "2020-06-12",
          "2020-06-19",
          "2020-06-26",
          "2020-07-03",
          "2020-07-10",
          "2020-07-17",
          "2020-07-24",
          "2020-07-31",
          "2020-08-07",
          "2020-08-14",
          "2020-08-21",
          "2020-08-28",
          "2020-09-04",
          "2020-09-11",
          "2020-09-18",
          "2020-09-25",
          "2020-10-02",
          "2020-10-09",
          "2020-10-16",
          "2020-10-23",
          "2020-10-30",
          "2020-11-06",
          "2020-11-13",
          "2020-11-20",
          "2020-11-27",
          "2020-12-04",
          "2020-12-11",
          "2020-12-18",
          "2020-12-25",
          "2021-01-01",
          "2021-01-08",
          "2021-01-15",
          "2021-01-22",
          "2021-01-29",
          "2021-02-05",
          "2021-02-12",
          "2021-02-19",
          "2021-02-26",
          "2021-03-05",
          "2021-03-12",
          "2021-03-19",
          "2021-04-02",
          "2021-04-16",
          "2021-04-23",
          "2021-04-30",
          "2021-05-14",
          "2021-05-28",
          "2021-07-02",
          "2021-07-09",
          "2021-07-16",
          "2021-07-23",
          "2021-08-06",
          "2021-08-13",
          "2021-08-20",
          "2021-09-03",
          "2021-10-01",
          "2021-10-15",
          "2021-10-22"
         ],
         "y": [
          0.36602234840393066,
          0.37725594639778137,
          0.3666365444660187,
          0.505178689956665,
          0.4797382950782776,
          0.6163361072540283,
          0.6428414583206177,
          0.7768514156341553,
          0.6796203255653381,
          0.6386363506317139,
          0.13877961039543152,
          0.22104714810848236,
          0.1776575893163681,
          0.18271800875663757,
          0.16739730536937714,
          0.1441812366247177,
          0.1495109647512436,
          0.16158834099769592,
          0.1261497437953949,
          0.13416574895381927,
          0.12869390845298767,
          0.10960425436496735,
          0.11814010888338089,
          0.11580202728509903,
          0.09089113771915436,
          0.11320411413908005,
          0.12115845829248428,
          0.07562991231679916,
          0.10967729240655899,
          0.10730427503585815,
          0.08481220155954361,
          0.10632293671369553,
          0.07482623308897018,
          0.10080097615718842,
          0.11105886101722717,
          0.08199547231197357,
          0.1448473185300827,
          0.06322522461414337,
          0.0985659584403038,
          0.08508778363466263,
          0.13584229350090027,
          0.10056572407484055,
          0.10329442471265793,
          0.10126518458127975,
          0.07925131171941757,
          0.09119022637605667,
          0.09568905830383301,
          0.11563792079687119,
          0.06584985554218292,
          0.06759625673294067,
          0.06402726471424103,
          0.07092203199863434,
          0.10136014968156815,
          0.08576366305351257,
          0.09425143152475357,
          0.11161348968744278,
          0.1375831812620163,
          0.1299663782119751,
          0.1009555235505104,
          0.10565585643053055,
          0.11336011439561844,
          0.12361878156661987,
          0.09257493168115616,
          0.11809533089399338,
          0.10027485340833664,
          0.09418278187513351,
          0.11610957235097885,
          0.09038970619440079,
          0.08224453032016754,
          0.07843248546123505,
          0.06312818825244904,
          0.11190035939216614,
          0.13332194089889526,
          0.09201837331056595,
          0.07068101316690445,
          0.08545131236314774,
          0.028933484107255936,
          0.09893999248743057,
          0.05406525358557701,
          0.08188309520483017,
          0.11478795856237411,
          0.05843633413314819,
          0.049188438802957535,
          0.09612070024013519,
          0.06804875284433365,
          0.07287253439426422,
          0.07365620881319046,
          0.03896287828683853,
          0.08829538524150848,
          0.08900272846221924,
          0.09576572477817535,
          0.07389689236879349,
          0.13022634387016296,
          0.09989799559116364,
          0.13384155929088593,
          0.1309927999973297,
          0.10469764471054077,
          0.05952077731490135,
          0.13025063276290894,
          0.08860821276903152,
          0.07061053067445755,
          0.12472507357597351,
          0.10895217210054398,
          0.1589328944683075,
          0.10250775516033173,
          0.09020251035690308,
          0.10982160270214081,
          0.13366058468818665,
          0.10763879120349884,
          0.1176552027463913,
          0.10721942782402039,
          0.17685313522815704,
          0.1912689507007599,
          0.12166700512170792,
          0.16984957456588745,
          0.1196661964058876,
          0.24322794377803802,
          0.16445429623126984,
          0.3132014274597168,
          0.15833838284015656,
          0.15328535437583923,
          0.2510445713996887,
          0.2664244472980499,
          0.17563633620738983,
          0.14938943088054657,
          0.16402055323123932,
          0.15282246470451355,
          0.10702472925186157,
          0.13493825495243073,
          0.19446639716625214,
          0.12170834839344025,
          0.16001847386360168,
          0.12301019579172134,
          0.22372020781040192,
          0.12833641469478607,
          0.1397291123867035,
          0.17034034430980682,
          0.2244356870651245,
          0.06019460782408714,
          0.24264702200889587,
          0.12153419852256775,
          0.251296728849411,
          0.12694774568080902,
          0.06633443385362625,
          0.10799268633127213,
          0.15701045095920563,
          0.17711421847343445,
          0.14755311608314514,
          0.11713821440935135,
          0.29167118668556213,
          0.19986428320407867,
          0.27915170788764954,
          0.1585310995578766,
          0.13452397286891937,
          0.13997939229011536,
          0.12785089015960693,
          0.18649856746196747,
          0.07799865305423737,
          0.18386945128440857,
          0.16713154315948486,
          0.11136087030172348,
          0.13909658789634705,
          0.1785006821155548,
          0.19859661161899567,
          0.19580119848251343,
          0.1952931433916092,
          0.09250006824731827,
          0.12539686262607574,
          0.16525307297706604,
          0.09538295120000839,
          0.10122982412576675,
          0.2234792560338974,
          0.07793677598237991,
          0.11032786220312119,
          0.16423608362674713,
          0.1196579560637474,
          0.21725599467754364,
          0.24189141392707825,
          0.18581679463386536,
          0.1260169893503189,
          0.13161663711071014,
          0.2779117822647095,
          0.1803596466779709,
          0.1114785373210907,
          0.1445094347000122,
          0.13066963851451874,
          0.15642300248146057,
          0.11272809654474258,
          0.18970100581645966,
          0.11744215339422226,
          0.1256900131702423,
          0.13800105452537537,
          0.11998964101076126,
          0.12107878923416138,
          0.1146201565861702,
          0.18809011578559875,
          0.15065796673297882,
          0.08994277566671371,
          0.12862426042556763,
          0.20525284111499786,
          0.11554231494665146,
          0.13231603801250458,
          0.15771706402301788,
          0.178739994764328,
          0.11106450110673904,
          0.12853145599365234,
          0.11174675822257996,
          0.11680170148611069,
          0.13169308006763458,
          0.1088438630104065,
          0.051429253071546555,
          0.13046541810035706,
          0.08082517236471176,
          0.04527190327644348,
          0.0830962210893631,
          0.10004030913114548,
          0.11594356596469879,
          0.16849076747894287,
          0.18537423014640808,
          0.14246854186058044,
          0.10322298854589462,
          0.08915647119283676,
          0.09914926439523697,
          0.12874193489551544,
          0.10019132494926453,
          0.1066209003329277,
          0.05828731879591942,
          0.06463180482387543,
          0.08081108331680298,
          0.048890121281147,
          0.11320465803146362,
          0.1366696059703827,
          0.11927282810211182,
          0.08053292334079742,
          0.0789814293384552,
          0.0746530070900917,
          0.045165158808231354,
          0.1011364683508873,
          0.11934781074523926,
          0.05459528788924217,
          0.12390945851802826,
          0.13976243138313293,
          0.11883188784122467,
          0.04595975950360298,
          0.10223395377397537,
          0.09559932351112366,
          0.1156705990433693,
          0.14075928926467896,
          0.07654193788766861,
          0.056024935096502304,
          0.11320323497056961,
          0.11821853369474411,
          0.08567418158054352,
          0.12164249271154404,
          0.09815778583288193,
          0.0840124636888504,
          0.0958121195435524,
          0.06862329691648483,
          0.11917112022638321,
          0.06163168326020241,
          0.13645806908607483,
          0.1452675312757492,
          0.12505368888378143,
          0.1241573691368103,
          0.08544289320707321,
          0.08631029725074768,
          0.08799698948860168,
          0.07759592682123184,
          0.08985364437103271,
          0.12341517210006714,
          0.09261609613895416,
          0.09006693214178085,
          0.0758681520819664,
          0.045439012348651886,
          0.04817301034927368,
          0.1654672622680664,
          0.07373495399951935,
          0.04748695343732834,
          0.09350916743278503,
          0.07364088296890259,
          0.06162649020552635,
          0.09713587164878845,
          0.04609298333525658,
          0.049837108701467514,
          0.08216775208711624,
          0.0469403974711895,
          0.07077352702617645,
          0.06203996017575264,
          0.10994040220975876,
          0.08659929037094116,
          0.062453508377075195,
          0.08120720088481903,
          0.06514163315296173,
          0.07177714258432388,
          0.10612665116786957,
          0.05210595577955246,
          0.11464794725179672,
          0.04309400916099548,
          0.0808076336979866,
          0.058800000697374344
         ]
        },
        {
         "mode": "lines",
         "name": "Topic 2",
         "type": "scatter",
         "x": [
          "2015-10-16",
          "2015-10-23",
          "2015-10-30",
          "2015-11-06",
          "2015-11-13",
          "2015-11-20",
          "2015-11-27",
          "2015-12-04",
          "2015-12-11",
          "2015-12-18",
          "2015-12-25",
          "2016-01-01",
          "2016-01-08",
          "2016-01-15",
          "2016-01-22",
          "2016-01-29",
          "2016-02-05",
          "2016-02-12",
          "2016-02-19",
          "2016-02-26",
          "2016-03-04",
          "2016-03-11",
          "2016-03-18",
          "2016-03-25",
          "2016-04-01",
          "2016-04-08",
          "2016-04-15",
          "2016-04-22",
          "2016-04-29",
          "2016-05-06",
          "2016-05-13",
          "2016-05-20",
          "2016-05-27",
          "2016-06-03",
          "2016-06-10",
          "2016-06-17",
          "2016-06-24",
          "2016-07-01",
          "2016-07-08",
          "2016-07-15",
          "2016-07-22",
          "2016-07-29",
          "2016-08-05",
          "2016-08-12",
          "2016-08-19",
          "2016-08-26",
          "2016-09-02",
          "2016-09-09",
          "2016-09-16",
          "2016-09-23",
          "2016-09-30",
          "2016-10-07",
          "2016-10-14",
          "2016-10-21",
          "2016-10-28",
          "2016-11-04",
          "2016-11-11",
          "2016-11-18",
          "2016-11-25",
          "2016-12-02",
          "2016-12-09",
          "2016-12-16",
          "2016-12-23",
          "2016-12-30",
          "2017-01-06",
          "2017-01-13",
          "2017-01-20",
          "2017-01-27",
          "2017-02-03",
          "2017-02-10",
          "2017-02-17",
          "2017-02-24",
          "2017-03-03",
          "2017-03-10",
          "2017-03-17",
          "2017-03-24",
          "2017-03-31",
          "2017-04-07",
          "2017-04-14",
          "2017-04-21",
          "2017-04-28",
          "2017-05-05",
          "2017-05-12",
          "2017-05-19",
          "2017-06-02",
          "2017-06-09",
          "2017-06-16",
          "2017-06-23",
          "2017-06-30",
          "2017-07-07",
          "2017-07-14",
          "2017-07-21",
          "2017-07-28",
          "2017-08-04",
          "2017-08-11",
          "2017-08-18",
          "2017-08-25",
          "2017-09-01",
          "2017-09-08",
          "2017-09-15",
          "2017-09-22",
          "2017-09-29",
          "2017-10-06",
          "2017-10-13",
          "2017-10-20",
          "2017-10-27",
          "2017-11-03",
          "2017-11-10",
          "2017-11-17",
          "2017-11-24",
          "2017-12-01",
          "2017-12-08",
          "2017-12-15",
          "2017-12-22",
          "2017-12-29",
          "2018-01-05",
          "2018-01-12",
          "2018-01-19",
          "2018-01-26",
          "2018-02-02",
          "2018-02-09",
          "2018-02-16",
          "2018-02-23",
          "2018-03-02",
          "2018-03-09",
          "2018-03-16",
          "2018-03-23",
          "2018-03-30",
          "2018-04-06",
          "2018-04-13",
          "2018-04-20",
          "2018-04-27",
          "2018-05-04",
          "2018-05-11",
          "2018-05-18",
          "2018-05-25",
          "2018-06-01",
          "2018-06-08",
          "2018-06-15",
          "2018-06-22",
          "2018-06-29",
          "2018-07-06",
          "2018-07-13",
          "2018-07-20",
          "2018-07-27",
          "2018-08-03",
          "2018-08-10",
          "2018-08-17",
          "2018-08-24",
          "2018-08-31",
          "2018-09-07",
          "2018-09-14",
          "2018-09-21",
          "2018-09-28",
          "2018-10-05",
          "2018-10-12",
          "2018-10-19",
          "2018-10-26",
          "2018-11-02",
          "2018-11-09",
          "2018-11-16",
          "2018-11-23",
          "2018-11-30",
          "2018-12-07",
          "2018-12-14",
          "2018-12-21",
          "2018-12-28",
          "2019-01-04",
          "2019-01-11",
          "2019-01-18",
          "2019-01-25",
          "2019-02-01",
          "2019-02-08",
          "2019-02-15",
          "2019-02-22",
          "2019-03-01",
          "2019-03-08",
          "2019-03-15",
          "2019-03-22",
          "2019-03-29",
          "2019-04-05",
          "2019-04-12",
          "2019-04-19",
          "2019-04-26",
          "2019-05-03",
          "2019-05-10",
          "2019-05-17",
          "2019-05-24",
          "2019-05-31",
          "2019-06-07",
          "2019-06-14",
          "2019-06-21",
          "2019-06-28",
          "2019-07-05",
          "2019-07-12",
          "2019-07-19",
          "2019-07-26",
          "2019-08-02",
          "2019-08-09",
          "2019-08-16",
          "2019-08-23",
          "2019-08-30",
          "2019-09-06",
          "2019-09-13",
          "2019-09-20",
          "2019-09-27",
          "2019-10-04",
          "2019-10-11",
          "2019-10-18",
          "2019-10-25",
          "2019-11-01",
          "2019-11-08",
          "2019-11-15",
          "2019-11-22",
          "2019-11-29",
          "2019-12-06",
          "2019-12-13",
          "2019-12-20",
          "2019-12-27",
          "2020-01-03",
          "2020-01-10",
          "2020-01-17",
          "2020-01-24",
          "2020-01-31",
          "2020-02-07",
          "2020-02-14",
          "2020-02-21",
          "2020-02-28",
          "2020-03-06",
          "2020-03-13",
          "2020-03-20",
          "2020-03-27",
          "2020-04-03",
          "2020-04-10",
          "2020-04-17",
          "2020-04-24",
          "2020-05-01",
          "2020-05-08",
          "2020-05-15",
          "2020-05-22",
          "2020-05-29",
          "2020-06-05",
          "2020-06-12",
          "2020-06-19",
          "2020-06-26",
          "2020-07-03",
          "2020-07-10",
          "2020-07-17",
          "2020-07-24",
          "2020-07-31",
          "2020-08-07",
          "2020-08-14",
          "2020-08-21",
          "2020-08-28",
          "2020-09-04",
          "2020-09-11",
          "2020-09-18",
          "2020-09-25",
          "2020-10-02",
          "2020-10-09",
          "2020-10-16",
          "2020-10-23",
          "2020-10-30",
          "2020-11-06",
          "2020-11-13",
          "2020-11-20",
          "2020-11-27",
          "2020-12-04",
          "2020-12-11",
          "2020-12-18",
          "2020-12-25",
          "2021-01-01",
          "2021-01-08",
          "2021-01-15",
          "2021-01-22",
          "2021-01-29",
          "2021-02-05",
          "2021-02-12",
          "2021-02-19",
          "2021-02-26",
          "2021-03-05",
          "2021-03-12",
          "2021-03-19",
          "2021-04-02",
          "2021-04-16",
          "2021-04-23",
          "2021-04-30",
          "2021-05-14",
          "2021-05-28",
          "2021-07-02",
          "2021-07-09",
          "2021-07-16",
          "2021-07-23",
          "2021-08-06",
          "2021-08-13",
          "2021-08-20",
          "2021-09-03",
          "2021-10-01",
          "2021-10-15",
          "2021-10-22"
         ],
         "y": [
          0.044520169496536255,
          0.04827088117599487,
          0.055048197507858276,
          0.034316159784793854,
          0.15378999710083008,
          0.024967974051833153,
          0.04720966890454292,
          0.03004469722509384,
          0.03199037164449692,
          0.02551175281405449,
          0.06319209188222885,
          0.0679764449596405,
          0.14343349635601044,
          0.059390097856521606,
          0.1384800672531128,
          0.06592213362455368,
          0.08345313370227814,
          0.0961005762219429,
          0.08745011687278748,
          0.10250980406999588,
          0.13799011707305908,
          0.11009437590837479,
          0.06854278594255447,
          0.10636530816555023,
          0.12028872221708298,
          0.06507758796215057,
          0.10655022412538528,
          0.08613735437393188,
          0.08879285305738449,
          0.07793692499399185,
          0.07196781039237976,
          0.10607810318470001,
          0.18048223853111267,
          0.07400409877300262,
          0.22692586481571198,
          0.10708008706569672,
          0.07882818579673767,
          0.07635591924190521,
          0.10672066360712051,
          0.1277565211057663,
          0.14061173796653748,
          0.22200056910514832,
          0.10790617763996124,
          0.113743856549263,
          0.10845346748828888,
          0.0973564088344574,
          0.08600709587335587,
          0.10012146830558777,
          0.06108758971095085,
          0.2234976589679718,
          0.07407789677381516,
          0.10168560594320297,
          0.1055154800415039,
          0.06547312438488007,
          0.07960252463817596,
          0.07297533750534058,
          0.058661460876464844,
          0.07510120421648026,
          0.0734674260020256,
          0.057715777307748795,
          0.0965433269739151,
          0.06598998606204987,
          0.1891433745622635,
          0.0546874925494194,
          0.06714009493589401,
          0.08117403835058212,
          0.05012224242091179,
          0.06723956018686295,
          0.09497708082199097,
          0.12341813743114471,
          0.05442538484930992,
          0.09426970034837723,
          0.09198607504367828,
          0.09429354220628738,
          0.11254364997148514,
          0.04609983414411545,
          0.03282807394862175,
          0.0609520822763443,
          0.02223948948085308,
          0.07894439995288849,
          0.038482680916786194,
          0.04187968000769615,
          0.06286851316690445,
          0.0756319984793663,
          0.04384247213602066,
          0.0929710641503334,
          0.09435340762138367,
          0.10145308822393417,
          0.12245996296405792,
          0.06685291230678558,
          0.054116182029247284,
          0.07189567387104034,
          0.08378074318170547,
          0.062142107635736465,
          0.03492024540901184,
          0.09704744815826416,
          0.09861215204000473,
          0.08825463056564331,
          0.08954218029975891,
          0.10740584135055542,
          0.1492484211921692,
          0.10578300803899765,
          0.20353376865386963,
          0.09492224454879761,
          0.10433701425790787,
          0.10102783143520355,
          0.13888347148895264,
          0.14351341128349304,
          0.1194610521197319,
          0.11857599765062332,
          0.10633283108472824,
          0.08147528767585754,
          0.0732274204492569,
          0.07755838334560394,
          0.06087057292461395,
          0.07203128933906555,
          0.0976937934756279,
          0.0905865877866745,
          0.07057968527078629,
          0.09250564128160477,
          0.09768062084913254,
          0.10471043735742569,
          0.08334092050790787,
          0.0713142529129982,
          0.09326000511646271,
          0.0704541727900505,
          0.08451422303915024,
          0.13044071197509766,
          0.09939595311880112,
          0.0593094527721405,
          0.048288725316524506,
          0.2269430160522461,
          0.08763159811496735,
          0.12896448373794556,
          0.025835776701569557,
          0.09120623022317886,
          0.10079619288444519,
          0.0918922945857048,
          0.25592803955078125,
          0.0768328607082367,
          0.10319139063358307,
          0.08157400041818619,
          0.09295237809419632,
          0.10960795730352402,
          0.06190571188926697,
          0.06953778862953186,
          0.058744315057992935,
          0.07249001413583755,
          0.061279598623514175,
          0.14991720020771027,
          0.08383353054523468,
          0.06615305691957474,
          0.03051089309155941,
          0.04874816909432411,
          0.09939022362232208,
          0.12046948075294495,
          0.09021307528018951,
          0.08967618644237518,
          0.10612158477306366,
          0.03807676583528519,
          0.1101389080286026,
          0.08345384895801544,
          0.07459219545125961,
          0.027925901114940643,
          0.06652356684207916,
          0.07741342484951019,
          0.07388864457607269,
          0.11399450898170471,
          0.08390537649393082,
          0.06021307036280632,
          0.16970859467983246,
          0.2870355546474457,
          0.11320154368877411,
          0.2022373378276825,
          0.14976021647453308,
          0.03918066620826721,
          0.09285237640142441,
          0.045091412961483,
          0.08302036672830582,
          0.060970012098550797,
          0.06655971705913544,
          0.03588557988405228,
          0.13169950246810913,
          0.05592402443289757,
          0.08427729457616806,
          0.051116641610860825,
          0.1023038774728775,
          0.07787797600030899,
          0.08591154962778091,
          0.07933718711137772,
          0.15546025335788727,
          0.0770978108048439,
          0.05658799782395363,
          0.06739457696676254,
          0.07255451381206512,
          0.08858858793973923,
          0.06863007694482803,
          0.06423460692167282,
          0.11817612498998642,
          0.0638059452176094,
          0.08395034074783325,
          0.04941805452108383,
          0.06796780228614807,
          0.07360818237066269,
          0.03680643439292908,
          0.10049869120121002,
          0.05053454264998436,
          0.08149015158414841,
          0.10137799382209778,
          0.036053627729415894,
          0.03255610167980194,
          0.033095166087150574,
          0.013456867076456547,
          0.010891329497098923,
          0.09274691343307495,
          0.08286669105291367,
          0.04054207354784012,
          0.07045046240091324,
          0.024258729070425034,
          0.09161997586488724,
          0.04213337600231171,
          0.0352734811604023,
          0.09079170972108841,
          0.039147522300481796,
          0.09520963579416275,
          0.055090539157390594,
          0.054023437201976776,
          0.06308839470148087,
          0.13569742441177368,
          0.027526967227458954,
          0.05798392742872238,
          0.06708288192749023,
          0.05209072679281235,
          0.02573765441775322,
          0.11570104211568832,
          0.185245081782341,
          0.14511214196681976,
          0.0813889354467392,
          0.06286406517028809,
          0.08298453688621521,
          0.0731637105345726,
          0.09598804265260696,
          0.09347336739301682,
          0.02611696906387806,
          0.04382191225886345,
          0.07565987855195999,
          0.0773366168141365,
          0.09830878674983978,
          0.06113776937127113,
          0.11545716971158981,
          0.11658815294504166,
          0.04913632944226265,
          0.06375664472579956,
          0.054350826889276505,
          0.25289788842201233,
          0.11411706358194351,
          0.05132535845041275,
          0.07053522020578384,
          0.12274401634931564,
          0.026078879833221436,
          0.037472695112228394,
          0,
          0.038740113377571106,
          0.062237516045570374,
          0.05803341045975685,
          0.0865044891834259,
          0.0464465357363224,
          0.04584308713674545,
          0.013485784642398357,
          0.034023724496364594,
          0.06873080134391785,
          0.08211710304021835,
          0.03547034040093422,
          0.023930592462420464,
          0.027473963797092438,
          0.021331287920475006,
          0.039447128772735596,
          0.07036684453487396,
          0.11563709378242493,
          0.119048111140728,
          0.057944029569625854,
          0.06968693435192108,
          0.04514944180846214,
          0.011965981684625149,
          0.09784005582332611,
          0.08828047662973404,
          0.046206649392843246,
          0.10418298840522766,
          0.054453976452350616,
          0.05870497599244118,
          0.0743313655257225,
          0.131522536277771,
          0.09663563221693039,
          0.10288979113101959,
          0.0908031314611435,
          0.06849516183137894,
          0.12005364149808884,
          0.0776948556303978,
          0.13298894464969635,
          0.10160373151302338
         ]
        },
        {
         "mode": "lines",
         "name": "Topic 3",
         "type": "scatter",
         "x": [
          "2015-10-16",
          "2015-10-23",
          "2015-10-30",
          "2015-11-06",
          "2015-11-13",
          "2015-11-20",
          "2015-11-27",
          "2015-12-04",
          "2015-12-11",
          "2015-12-18",
          "2015-12-25",
          "2016-01-01",
          "2016-01-08",
          "2016-01-15",
          "2016-01-22",
          "2016-01-29",
          "2016-02-05",
          "2016-02-12",
          "2016-02-19",
          "2016-02-26",
          "2016-03-04",
          "2016-03-11",
          "2016-03-18",
          "2016-03-25",
          "2016-04-01",
          "2016-04-08",
          "2016-04-15",
          "2016-04-22",
          "2016-04-29",
          "2016-05-06",
          "2016-05-13",
          "2016-05-20",
          "2016-05-27",
          "2016-06-03",
          "2016-06-10",
          "2016-06-17",
          "2016-06-24",
          "2016-07-01",
          "2016-07-08",
          "2016-07-15",
          "2016-07-22",
          "2016-07-29",
          "2016-08-05",
          "2016-08-12",
          "2016-08-19",
          "2016-08-26",
          "2016-09-02",
          "2016-09-09",
          "2016-09-16",
          "2016-09-23",
          "2016-09-30",
          "2016-10-07",
          "2016-10-14",
          "2016-10-21",
          "2016-10-28",
          "2016-11-04",
          "2016-11-11",
          "2016-11-18",
          "2016-11-25",
          "2016-12-02",
          "2016-12-09",
          "2016-12-16",
          "2016-12-23",
          "2016-12-30",
          "2017-01-06",
          "2017-01-13",
          "2017-01-20",
          "2017-01-27",
          "2017-02-03",
          "2017-02-10",
          "2017-02-17",
          "2017-02-24",
          "2017-03-03",
          "2017-03-10",
          "2017-03-17",
          "2017-03-24",
          "2017-03-31",
          "2017-04-07",
          "2017-04-14",
          "2017-04-21",
          "2017-04-28",
          "2017-05-05",
          "2017-05-12",
          "2017-05-19",
          "2017-06-02",
          "2017-06-09",
          "2017-06-16",
          "2017-06-23",
          "2017-06-30",
          "2017-07-07",
          "2017-07-14",
          "2017-07-21",
          "2017-07-28",
          "2017-08-04",
          "2017-08-11",
          "2017-08-18",
          "2017-08-25",
          "2017-09-01",
          "2017-09-08",
          "2017-09-15",
          "2017-09-22",
          "2017-09-29",
          "2017-10-06",
          "2017-10-13",
          "2017-10-20",
          "2017-10-27",
          "2017-11-03",
          "2017-11-10",
          "2017-11-17",
          "2017-11-24",
          "2017-12-01",
          "2017-12-08",
          "2017-12-15",
          "2017-12-22",
          "2017-12-29",
          "2018-01-05",
          "2018-01-12",
          "2018-01-19",
          "2018-01-26",
          "2018-02-02",
          "2018-02-09",
          "2018-02-16",
          "2018-02-23",
          "2018-03-02",
          "2018-03-09",
          "2018-03-16",
          "2018-03-23",
          "2018-03-30",
          "2018-04-06",
          "2018-04-13",
          "2018-04-20",
          "2018-04-27",
          "2018-05-04",
          "2018-05-11",
          "2018-05-18",
          "2018-05-25",
          "2018-06-01",
          "2018-06-08",
          "2018-06-15",
          "2018-06-22",
          "2018-06-29",
          "2018-07-06",
          "2018-07-13",
          "2018-07-20",
          "2018-07-27",
          "2018-08-03",
          "2018-08-10",
          "2018-08-17",
          "2018-08-24",
          "2018-08-31",
          "2018-09-07",
          "2018-09-14",
          "2018-09-21",
          "2018-09-28",
          "2018-10-05",
          "2018-10-12",
          "2018-10-19",
          "2018-10-26",
          "2018-11-02",
          "2018-11-09",
          "2018-11-16",
          "2018-11-23",
          "2018-11-30",
          "2018-12-07",
          "2018-12-14",
          "2018-12-21",
          "2018-12-28",
          "2019-01-04",
          "2019-01-11",
          "2019-01-18",
          "2019-01-25",
          "2019-02-01",
          "2019-02-08",
          "2019-02-15",
          "2019-02-22",
          "2019-03-01",
          "2019-03-08",
          "2019-03-15",
          "2019-03-22",
          "2019-03-29",
          "2019-04-05",
          "2019-04-12",
          "2019-04-19",
          "2019-04-26",
          "2019-05-03",
          "2019-05-10",
          "2019-05-17",
          "2019-05-24",
          "2019-05-31",
          "2019-06-07",
          "2019-06-14",
          "2019-06-21",
          "2019-06-28",
          "2019-07-05",
          "2019-07-12",
          "2019-07-19",
          "2019-07-26",
          "2019-08-02",
          "2019-08-09",
          "2019-08-16",
          "2019-08-23",
          "2019-08-30",
          "2019-09-06",
          "2019-09-13",
          "2019-09-20",
          "2019-09-27",
          "2019-10-04",
          "2019-10-11",
          "2019-10-18",
          "2019-10-25",
          "2019-11-01",
          "2019-11-08",
          "2019-11-15",
          "2019-11-22",
          "2019-11-29",
          "2019-12-06",
          "2019-12-13",
          "2019-12-20",
          "2019-12-27",
          "2020-01-03",
          "2020-01-10",
          "2020-01-17",
          "2020-01-24",
          "2020-01-31",
          "2020-02-07",
          "2020-02-14",
          "2020-02-21",
          "2020-02-28",
          "2020-03-06",
          "2020-03-13",
          "2020-03-20",
          "2020-03-27",
          "2020-04-03",
          "2020-04-10",
          "2020-04-17",
          "2020-04-24",
          "2020-05-01",
          "2020-05-08",
          "2020-05-15",
          "2020-05-22",
          "2020-05-29",
          "2020-06-05",
          "2020-06-12",
          "2020-06-19",
          "2020-06-26",
          "2020-07-03",
          "2020-07-10",
          "2020-07-17",
          "2020-07-24",
          "2020-07-31",
          "2020-08-07",
          "2020-08-14",
          "2020-08-21",
          "2020-08-28",
          "2020-09-04",
          "2020-09-11",
          "2020-09-18",
          "2020-09-25",
          "2020-10-02",
          "2020-10-09",
          "2020-10-16",
          "2020-10-23",
          "2020-10-30",
          "2020-11-06",
          "2020-11-13",
          "2020-11-20",
          "2020-11-27",
          "2020-12-04",
          "2020-12-11",
          "2020-12-18",
          "2020-12-25",
          "2021-01-01",
          "2021-01-08",
          "2021-01-15",
          "2021-01-22",
          "2021-01-29",
          "2021-02-05",
          "2021-02-12",
          "2021-02-19",
          "2021-02-26",
          "2021-03-05",
          "2021-03-12",
          "2021-03-19",
          "2021-04-02",
          "2021-04-16",
          "2021-04-23",
          "2021-04-30",
          "2021-05-14",
          "2021-05-28",
          "2021-07-02",
          "2021-07-09",
          "2021-07-16",
          "2021-07-23",
          "2021-08-06",
          "2021-08-13",
          "2021-08-20",
          "2021-09-03",
          "2021-10-01",
          "2021-10-15",
          "2021-10-22"
         ],
         "y": [
          0.2071385681629181,
          0.18817448616027832,
          0.20632600784301758,
          0.0864126905798912,
          0.03814861923456192,
          0.030570948496460915,
          0.09277031570672989,
          0.014765612781047821,
          0.0194472074508667,
          0.014224117621779442,
          0.1820114254951477,
          0.1108718067407608,
          0.07754364609718323,
          0.10519986599683762,
          0.0684187263250351,
          0.08409751206636429,
          0.08214441686868668,
          0.10612192749977112,
          0.08328402042388916,
          0.0965348333120346,
          0.09432027488946915,
          0.08854177594184875,
          0.09336212277412415,
          0.08875679224729538,
          0.08146238327026367,
          0.10698698461055756,
          0.10271670669317245,
          0.0757082998752594,
          0.05854363366961479,
          0.12099871784448624,
          0.08204951137304306,
          0.10895504802465439,
          0.08680865913629532,
          0.10412103682756424,
          0.10168604552745819,
          0.11964187771081924,
          0.09244993329048157,
          0.11508029699325562,
          0.07602941989898682,
          0.0652337446808815,
          0.04639681056141853,
          0.08940228819847107,
          0.07368310540914536,
          0.0912470892071724,
          0.08078188449144363,
          0.12036734819412231,
          0.08992110192775726,
          0.08308173716068268,
          0.1783914417028427,
          0.1279338151216507,
          0.06535334885120392,
          0.10361894965171814,
          0.10921560972929001,
          0.12552785873413086,
          0.11327613890171051,
          0.13957510888576508,
          0.097254179418087,
          0.13886742293834686,
          0.12545903027057648,
          0.17409957945346832,
          0.1343306005001068,
          0.12509125471115112,
          0.128924161195755,
          0.13133877515792847,
          0.13331091403961182,
          0.16402959823608398,
          0.11207488179206848,
          0.16530396044254303,
          0.16168560087680817,
          0.15496179461479187,
          0.22283166646957397,
          0.13596855103969574,
          0.11637573689222336,
          0.13753648102283478,
          0.13620570302009583,
          0.1521817445755005,
          0.16006174683570862,
          0.1106121838092804,
          0.15263274312019348,
          0.10213170200586319,
          0.10235805064439774,
          0.11882513761520386,
          0.14770886301994324,
          0.1654498428106308,
          0.17761559784412384,
          0.15082575380802155,
          0.14676694571971893,
          0.09246177226305008,
          0.1400173008441925,
          0.1662786602973938,
          0.16120876371860504,
          0.1560588777065277,
          0.22971299290657043,
          0.14796660840511322,
          0.20335359871387482,
          0.13440831005573273,
          0.11236793547868729,
          0.1371649205684662,
          0.15368707478046417,
          0.13585181534290314,
          0.13512949645519257,
          0.1446491926908493,
          0.12152363359928131,
          0.11560039222240448,
          0.1306469440460205,
          0.10516487807035446,
          0.1524907797574997,
          0.13133744895458221,
          0.14562708139419556,
          0.1826845109462738,
          0.16612251102924347,
          0.21526198089122772,
          0.18064875900745392,
          0.14129459857940674,
          0.2842031419277191,
          0.2034839689731598,
          0.16835463047027588,
          0.2744351327419281,
          0.17712172865867615,
          0.16983562707901,
          0.2049551159143448,
          0.1609005630016327,
          0.1696910709142685,
          0.1424204409122467,
          0.14668963849544525,
          0.15348520874977112,
          0.15179863572120667,
          0.19938750565052032,
          0.1221885234117508,
          0.13962669670581818,
          0.33174970746040344,
          0.1585799753665924,
          0.15692131221294403,
          0.14655828475952148,
          0.37441039085388184,
          0.23369896411895752,
          0.17328622937202454,
          0.17289166152477264,
          0.23732641339302063,
          0.19526627659797668,
          0.2246343493461609,
          0.21559575200080872,
          0.2366938441991806,
          0.2816880941390991,
          0.24578212201595306,
          0.23106282949447632,
          0.28747206926345825,
          0.25834837555885315,
          0.26361292600631714,
          0.2513284385204315,
          0.2741961181163788,
          0.24906735122203827,
          0.3315236270427704,
          0.4537144601345062,
          0.31390485167503357,
          0.2641738951206207,
          0.34067362546920776,
          0.2933345139026642,
          0.28151553869247437,
          0.3931455612182617,
          0.3156047463417053,
          0.42511749267578125,
          0.3419693410396576,
          0.4338725209236145,
          0.34097737073898315,
          0.3975888788700104,
          0.36103034019470215,
          0.23185373842716217,
          0.3056323528289795,
          0.23172612488269806,
          0.2642906606197357,
          0.26191452145576477,
          0.22043590247631073,
          0.29398512840270996,
          0.30020979046821594,
          0.5596593618392944,
          0.3340188264846802,
          0.31938958168029785,
          0.3501282334327698,
          0.34313708543777466,
          0.4149516820907593,
          0.34699746966362,
          0.42078229784965515,
          0.5740587115287781,
          0.37455666065216064,
          0.409628301858902,
          0.2673613429069519,
          0.3638925552368164,
          0.28093019127845764,
          0.32822978496551514,
          0.22681906819343567,
          0.30972203612327576,
          0.4299514591693878,
          0.43168187141418457,
          0.22345998883247375,
          0.29896464943885803,
          0.3438190221786499,
          0.3552795350551605,
          0.31010767817497253,
          0.31436076760292053,
          0.3223044276237488,
          0.32667702436447144,
          0.3831973671913147,
          0.2654136121273041,
          0.6921086311340332,
          0.3572709858417511,
          0.42274010181427,
          0.45187774300575256,
          0.33029285073280334,
          0.38549506664276123,
          0.4817718267440796,
          0.39865007996559143,
          0.7509754300117493,
          0.5865153074264526,
          0.3955227732658386,
          0.45411428809165955,
          0.5312783718109131,
          0.36019963026046753,
          0.37055087089538574,
          0.304423987865448,
          0.49898216128349304,
          0.5845159888267517,
          0.3109513521194458,
          0.4681359529495239,
          0.4506194293498993,
          0.364786297082901,
          0.4007357954978943,
          0.49558010697364807,
          0.5363655090332031,
          0.6418209075927734,
          0.3917301595211029,
          0.3970736265182495,
          0.48816514015197754,
          0.6864657402038574,
          0.4499122202396393,
          0.5060862302780151,
          0.5089598894119263,
          0.3299809992313385,
          0.45143088698387146,
          0.5589519143104553,
          0.4296230375766754,
          0.32911983132362366,
          0.2705574035644531,
          0.7381195425987244,
          0.5107641220092773,
          0.38725095987319946,
          0.3587571382522583,
          0.4601036012172699,
          0.5046073794364929,
          0.2969386875629425,
          0.3960070013999939,
          0.43646520376205444,
          0.36174049973487854,
          0.2715604603290558,
          0.27607038617134094,
          0.37282902002334595,
          0.5446147918701172,
          0.5203632712364197,
          0.3549586236476898,
          0.46490800380706787,
          0.4651774764060974,
          0.4348740577697754,
          0.5762037634849548,
          0.4725819528102875,
          0.548605740070343,
          0.4979615807533264,
          0.5346708297729492,
          0.6215081810951233,
          0.7255607843399048,
          0.5407276153564453,
          0.5262808203697205,
          0.5142213702201843,
          0.6498880982398987,
          0.6465301513671875,
          0.7474651336669922,
          0.515387773513794,
          0.6591634750366211,
          0.6935174465179443,
          0.496874064207077,
          0.5019758343696594,
          0.6321199536323547,
          0.5350381135940552,
          0.7119683027267456,
          0.7696080803871155,
          0.3879466652870178,
          0.545394241809845,
          0.5676255822181702,
          0.4275915324687958,
          0.5733857154846191,
          0.5038891434669495,
          0.5207287669181824,
          0.4179334342479706,
          0.4904322028160095,
          0.46020498871803284,
          0.36872124671936035,
          0.607516884803772,
          0.3926998972892761,
          0.5611369609832764,
          0.40877002477645874,
          0.4188580811023712
         ]
        },
        {
         "mode": "lines",
         "name": "Topic 4",
         "type": "scatter",
         "x": [
          "2015-10-16",
          "2015-10-23",
          "2015-10-30",
          "2015-11-06",
          "2015-11-13",
          "2015-11-20",
          "2015-11-27",
          "2015-12-04",
          "2015-12-11",
          "2015-12-18",
          "2015-12-25",
          "2016-01-01",
          "2016-01-08",
          "2016-01-15",
          "2016-01-22",
          "2016-01-29",
          "2016-02-05",
          "2016-02-12",
          "2016-02-19",
          "2016-02-26",
          "2016-03-04",
          "2016-03-11",
          "2016-03-18",
          "2016-03-25",
          "2016-04-01",
          "2016-04-08",
          "2016-04-15",
          "2016-04-22",
          "2016-04-29",
          "2016-05-06",
          "2016-05-13",
          "2016-05-20",
          "2016-05-27",
          "2016-06-03",
          "2016-06-10",
          "2016-06-17",
          "2016-06-24",
          "2016-07-01",
          "2016-07-08",
          "2016-07-15",
          "2016-07-22",
          "2016-07-29",
          "2016-08-05",
          "2016-08-12",
          "2016-08-19",
          "2016-08-26",
          "2016-09-02",
          "2016-09-09",
          "2016-09-16",
          "2016-09-23",
          "2016-09-30",
          "2016-10-07",
          "2016-10-14",
          "2016-10-21",
          "2016-10-28",
          "2016-11-04",
          "2016-11-11",
          "2016-11-18",
          "2016-11-25",
          "2016-12-02",
          "2016-12-09",
          "2016-12-16",
          "2016-12-23",
          "2016-12-30",
          "2017-01-06",
          "2017-01-13",
          "2017-01-20",
          "2017-01-27",
          "2017-02-03",
          "2017-02-10",
          "2017-02-17",
          "2017-02-24",
          "2017-03-03",
          "2017-03-10",
          "2017-03-17",
          "2017-03-24",
          "2017-03-31",
          "2017-04-07",
          "2017-04-14",
          "2017-04-21",
          "2017-04-28",
          "2017-05-05",
          "2017-05-12",
          "2017-05-19",
          "2017-06-02",
          "2017-06-09",
          "2017-06-16",
          "2017-06-23",
          "2017-06-30",
          "2017-07-07",
          "2017-07-14",
          "2017-07-21",
          "2017-07-28",
          "2017-08-04",
          "2017-08-11",
          "2017-08-18",
          "2017-08-25",
          "2017-09-01",
          "2017-09-08",
          "2017-09-15",
          "2017-09-22",
          "2017-09-29",
          "2017-10-06",
          "2017-10-13",
          "2017-10-20",
          "2017-10-27",
          "2017-11-03",
          "2017-11-10",
          "2017-11-17",
          "2017-11-24",
          "2017-12-01",
          "2017-12-08",
          "2017-12-15",
          "2017-12-22",
          "2017-12-29",
          "2018-01-05",
          "2018-01-12",
          "2018-01-19",
          "2018-01-26",
          "2018-02-02",
          "2018-02-09",
          "2018-02-16",
          "2018-02-23",
          "2018-03-02",
          "2018-03-09",
          "2018-03-16",
          "2018-03-23",
          "2018-03-30",
          "2018-04-06",
          "2018-04-13",
          "2018-04-20",
          "2018-04-27",
          "2018-05-04",
          "2018-05-11",
          "2018-05-18",
          "2018-05-25",
          "2018-06-01",
          "2018-06-08",
          "2018-06-15",
          "2018-06-22",
          "2018-06-29",
          "2018-07-06",
          "2018-07-13",
          "2018-07-20",
          "2018-07-27",
          "2018-08-03",
          "2018-08-10",
          "2018-08-17",
          "2018-08-24",
          "2018-08-31",
          "2018-09-07",
          "2018-09-14",
          "2018-09-21",
          "2018-09-28",
          "2018-10-05",
          "2018-10-12",
          "2018-10-19",
          "2018-10-26",
          "2018-11-02",
          "2018-11-09",
          "2018-11-16",
          "2018-11-23",
          "2018-11-30",
          "2018-12-07",
          "2018-12-14",
          "2018-12-21",
          "2018-12-28",
          "2019-01-04",
          "2019-01-11",
          "2019-01-18",
          "2019-01-25",
          "2019-02-01",
          "2019-02-08",
          "2019-02-15",
          "2019-02-22",
          "2019-03-01",
          "2019-03-08",
          "2019-03-15",
          "2019-03-22",
          "2019-03-29",
          "2019-04-05",
          "2019-04-12",
          "2019-04-19",
          "2019-04-26",
          "2019-05-03",
          "2019-05-10",
          "2019-05-17",
          "2019-05-24",
          "2019-05-31",
          "2019-06-07",
          "2019-06-14",
          "2019-06-21",
          "2019-06-28",
          "2019-07-05",
          "2019-07-12",
          "2019-07-19",
          "2019-07-26",
          "2019-08-02",
          "2019-08-09",
          "2019-08-16",
          "2019-08-23",
          "2019-08-30",
          "2019-09-06",
          "2019-09-13",
          "2019-09-20",
          "2019-09-27",
          "2019-10-04",
          "2019-10-11",
          "2019-10-18",
          "2019-10-25",
          "2019-11-01",
          "2019-11-08",
          "2019-11-15",
          "2019-11-22",
          "2019-11-29",
          "2019-12-06",
          "2019-12-13",
          "2019-12-20",
          "2019-12-27",
          "2020-01-03",
          "2020-01-10",
          "2020-01-17",
          "2020-01-24",
          "2020-01-31",
          "2020-02-07",
          "2020-02-14",
          "2020-02-21",
          "2020-02-28",
          "2020-03-06",
          "2020-03-13",
          "2020-03-20",
          "2020-03-27",
          "2020-04-03",
          "2020-04-10",
          "2020-04-17",
          "2020-04-24",
          "2020-05-01",
          "2020-05-08",
          "2020-05-15",
          "2020-05-22",
          "2020-05-29",
          "2020-06-05",
          "2020-06-12",
          "2020-06-19",
          "2020-06-26",
          "2020-07-03",
          "2020-07-10",
          "2020-07-17",
          "2020-07-24",
          "2020-07-31",
          "2020-08-07",
          "2020-08-14",
          "2020-08-21",
          "2020-08-28",
          "2020-09-04",
          "2020-09-11",
          "2020-09-18",
          "2020-09-25",
          "2020-10-02",
          "2020-10-09",
          "2020-10-16",
          "2020-10-23",
          "2020-10-30",
          "2020-11-06",
          "2020-11-13",
          "2020-11-20",
          "2020-11-27",
          "2020-12-04",
          "2020-12-11",
          "2020-12-18",
          "2020-12-25",
          "2021-01-01",
          "2021-01-08",
          "2021-01-15",
          "2021-01-22",
          "2021-01-29",
          "2021-02-05",
          "2021-02-12",
          "2021-02-19",
          "2021-02-26",
          "2021-03-05",
          "2021-03-12",
          "2021-03-19",
          "2021-04-02",
          "2021-04-16",
          "2021-04-23",
          "2021-04-30",
          "2021-05-14",
          "2021-05-28",
          "2021-07-02",
          "2021-07-09",
          "2021-07-16",
          "2021-07-23",
          "2021-08-06",
          "2021-08-13",
          "2021-08-20",
          "2021-09-03",
          "2021-10-01",
          "2021-10-15",
          "2021-10-22"
         ],
         "y": [
          0.2422814667224884,
          0.23913435637950897,
          0.2258286029100418,
          0.24049019813537598,
          0.22588931024074554,
          0.14567230641841888,
          0.07344773411750793,
          0.1196708157658577,
          0.07770055532455444,
          0.2382967174053192,
          0.3923664689064026,
          0.3592909574508667,
          0.2944834232330322,
          0.4361666142940521,
          0.3305290639400482,
          0.3663025200366974,
          0.40494903922080994,
          0.3362012803554535,
          0.44478127360343933,
          0.3746592402458191,
          0.4006149172782898,
          0.38950514793395996,
          0.46602264046669006,
          0.45724913477897644,
          0.4981021285057068,
          0.3919292688369751,
          0.4549823999404907,
          0.4986569285392761,
          0.4894542694091797,
          0.5043540596961975,
          0.5582741498947144,
          0.4210229516029358,
          0.5011284947395325,
          0.48800715804100037,
          0.33219051361083984,
          0.43681013584136963,
          0.47678864002227783,
          0.5498388409614563,
          0.4289483428001404,
          0.4386938512325287,
          0.40394026041030884,
          0.3589651584625244,
          0.4775022864341736,
          0.4348936676979065,
          0.4598633050918579,
          0.48693394660949707,
          0.5515739321708679,
          0.4289073348045349,
          0.335814505815506,
          0.3810849189758301,
          0.5654897689819336,
          0.5086138248443604,
          0.4143521785736084,
          0.4392054080963135,
          0.46119117736816406,
          0.4164784550666809,
          0.3988833427429199,
          0.40739062428474426,
          0.4204244613647461,
          0.42281511425971985,
          0.3701843023300171,
          0.4552270770072937,
          0.40489304065704346,
          0.4512883722782135,
          0.4499906003475189,
          0.4739139676094055,
          0.4840938150882721,
          0.47018963098526,
          0.4067794680595398,
          0.5042148232460022,
          0.38946864008903503,
          0.3860800862312317,
          0.38014259934425354,
          0.46804913878440857,
          0.3953177332878113,
          0.5070034265518188,
          0.41671323776245117,
          0.5359009504318237,
          0.49309873580932617,
          0.439132422208786,
          0.5151882767677307,
          0.5593686699867249,
          0.44692134857177734,
          0.4057373106479645,
          0.3601223826408386,
          0.3954041302204132,
          0.4725300967693329,
          0.5253495573997498,
          0.3549756705760956,
          0.3469117283821106,
          0.3386014699935913,
          0.31425711512565613,
          0.31427130103111267,
          0.3483733832836151,
          0.3685116171836853,
          0.3068874478340149,
          0.3495306670665741,
          0.2829129099845886,
          0.269186794757843,
          0.17844493687152863,
          0.17886006832122803,
          0.23011921346187592,
          0.20287783443927765,
          0.2344045639038086,
          0.24091461300849915,
          0.19418741762638092,
          0.2345382571220398,
          0.21954436600208282,
          0.20058339834213257,
          0.23124398291110992,
          0.22210343182086945,
          0.1685612052679062,
          0.19720007479190826,
          0.34831947088241577,
          0.20776799321174622,
          0.2144462913274765,
          0.16421696543693542,
          0.28375551104545593,
          0.15895585715770721,
          0.26153624057769775,
          0.22642290592193604,
          0.15996776521205902,
          0.20025286078453064,
          0.30838191509246826,
          0.21015700697898865,
          0.29579198360443115,
          0.2770695090293884,
          0.1990065723657608,
          0.2679574489593506,
          0.4063040614128113,
          0.26813167333602905,
          0.12869949638843536,
          0.19283655285835266,
          0.21247155964374542,
          0.30175429582595825,
          0.217410609126091,
          0.20480471849441528,
          0.2342124879360199,
          0.22917184233665466,
          0.29234421253204346,
          0.2250235229730606,
          0.21013669669628143,
          0.2344455122947693,
          0.24457037448883057,
          0.24232971668243408,
          0.2687668800354004,
          0.23777951300144196,
          0.21792295575141907,
          0.2268611043691635,
          0.18042026460170746,
          0.21221905946731567,
          0.13812507688999176,
          0.13628077507019043,
          0.09053454548120499,
          0.16717852652072906,
          0.13789498805999756,
          0.11279645562171936,
          0.15251849591732025,
          0.12613865733146667,
          0.08770299702882767,
          0.15102548897266388,
          0.10955722630023956,
          0.13185353577136993,
          0.12494125217199326,
          0.15929020941257477,
          0.10718382149934769,
          0.1485985517501831,
          0.20774029195308685,
          0.12146953493356705,
          0.12888851761817932,
          0.1211339458823204,
          0.09395898878574371,
          0.14382129907608032,
          0.16113895177841187,
          0.12324213981628418,
          0.10042883455753326,
          0.12827922403812408,
          0.12842078506946564,
          0.11503992974758148,
          0.13876233994960785,
          0.1286247819662094,
          0.1410345435142517,
          0.08690003305673599,
          0.12385976314544678,
          0.17347614467144012,
          0.10364793986082077,
          0.16962149739265442,
          0.23334342241287231,
          0.15923309326171875,
          0.14716114103794098,
          0.14888519048690796,
          0.1875021904706955,
          0.15833398699760437,
          0.10785084962844849,
          0.1151009052991867,
          0.1393139362335205,
          0.17798997461795807,
          0.19515936076641083,
          0.12639349699020386,
          0.1457056701183319,
          0.15659213066101074,
          0.18194681406021118,
          0.10794341564178467,
          0.07917289435863495,
          0.09546767175197601,
          0.11155089735984802,
          0.16694480180740356,
          0.10815084725618362,
          0.1417863517999649,
          0.1906362771987915,
          0.05501265078783035,
          0.13747425377368927,
          0.06449253112077713,
          0.086849644780159,
          0.1284985989332199,
          0.07789739966392517,
          0.08377709239721298,
          0.05781513825058937,
          0.10913188010454178,
          0.17938974499702454,
          0.09043186157941818,
          0.07135655730962753,
          0.16700968146324158,
          0.11134038865566254,
          0.14106535911560059,
          0.16958914697170258,
          0.13920831680297852,
          0.12060883641242981,
          0.1142202764749527,
          0.16644349694252014,
          0.14332687854766846,
          0.14256592094898224,
          0.08951353281736374,
          0.07841724157333374,
          0.09071403741836548,
          0.07069723308086395,
          0.12247397750616074,
          0.18326444923877716,
          0.10910163074731827,
          0.12222026288509369,
          0.12784487009048462,
          0.10883431136608124,
          0.17702730000019073,
          0.09021276235580444,
          0.10718552768230438,
          0.13333597779273987,
          0.13990764319896698,
          0.1190808042883873,
          0.1712689846754074,
          0.1140633150935173,
          0.1185593530535698,
          0.10357693582773209,
          0.06858503818511963,
          0.13153453171253204,
          0.09234632551670074,
          0.10213172435760498,
          0.06528392434120178,
          0.08759936690330505,
          0.1214047521352768,
          0.07183458656072617,
          0.15852856636047363,
          0.14910203218460083,
          0.0900140330195427,
          0.1288771629333496,
          0.1330205351114273,
          0.07298815250396729,
          0.1003088727593422,
          0.09438253194093704,
          0.07313668727874756,
          0.09567457437515259,
          0.09044881165027618,
          0.15865673124790192,
          0.06379213184118271,
          0.14143246412277222,
          0.09899815917015076,
          0.15879276394844055,
          0.06645814329385757,
          0.08803199976682663,
          0.08164473623037338,
          0.10030623525381088,
          0.0920051857829094,
          0.11054670065641403,
          0.09326912462711334,
          0.08797191083431244,
          0.12848809361457825,
          0.1330968141555786,
          0.10124511271715164,
          0.1384533941745758,
          0.12808766961097717,
          0.17346809804439545,
          0.12554223835468292,
          0.13177980482578278,
          0.11689554154872894,
          0.17093484103679657,
          0.13048966228961945,
          0.08683279901742935,
          0.06169147789478302,
          0.1192537248134613,
          0.10837404429912567,
          0.136861190199852
         ]
        },
        {
         "mode": "lines",
         "name": "Topic 5",
         "type": "scatter",
         "x": [
          "2015-10-16",
          "2015-10-23",
          "2015-10-30",
          "2015-11-06",
          "2015-11-13",
          "2015-11-20",
          "2015-11-27",
          "2015-12-04",
          "2015-12-11",
          "2015-12-18",
          "2015-12-25",
          "2016-01-01",
          "2016-01-08",
          "2016-01-15",
          "2016-01-22",
          "2016-01-29",
          "2016-02-05",
          "2016-02-12",
          "2016-02-19",
          "2016-02-26",
          "2016-03-04",
          "2016-03-11",
          "2016-03-18",
          "2016-03-25",
          "2016-04-01",
          "2016-04-08",
          "2016-04-15",
          "2016-04-22",
          "2016-04-29",
          "2016-05-06",
          "2016-05-13",
          "2016-05-20",
          "2016-05-27",
          "2016-06-03",
          "2016-06-10",
          "2016-06-17",
          "2016-06-24",
          "2016-07-01",
          "2016-07-08",
          "2016-07-15",
          "2016-07-22",
          "2016-07-29",
          "2016-08-05",
          "2016-08-12",
          "2016-08-19",
          "2016-08-26",
          "2016-09-02",
          "2016-09-09",
          "2016-09-16",
          "2016-09-23",
          "2016-09-30",
          "2016-10-07",
          "2016-10-14",
          "2016-10-21",
          "2016-10-28",
          "2016-11-04",
          "2016-11-11",
          "2016-11-18",
          "2016-11-25",
          "2016-12-02",
          "2016-12-09",
          "2016-12-16",
          "2016-12-23",
          "2016-12-30",
          "2017-01-06",
          "2017-01-13",
          "2017-01-20",
          "2017-01-27",
          "2017-02-03",
          "2017-02-10",
          "2017-02-17",
          "2017-02-24",
          "2017-03-03",
          "2017-03-10",
          "2017-03-17",
          "2017-03-24",
          "2017-03-31",
          "2017-04-07",
          "2017-04-14",
          "2017-04-21",
          "2017-04-28",
          "2017-05-05",
          "2017-05-12",
          "2017-05-19",
          "2017-06-02",
          "2017-06-09",
          "2017-06-16",
          "2017-06-23",
          "2017-06-30",
          "2017-07-07",
          "2017-07-14",
          "2017-07-21",
          "2017-07-28",
          "2017-08-04",
          "2017-08-11",
          "2017-08-18",
          "2017-08-25",
          "2017-09-01",
          "2017-09-08",
          "2017-09-15",
          "2017-09-22",
          "2017-09-29",
          "2017-10-06",
          "2017-10-13",
          "2017-10-20",
          "2017-10-27",
          "2017-11-03",
          "2017-11-10",
          "2017-11-17",
          "2017-11-24",
          "2017-12-01",
          "2017-12-08",
          "2017-12-15",
          "2017-12-22",
          "2017-12-29",
          "2018-01-05",
          "2018-01-12",
          "2018-01-19",
          "2018-01-26",
          "2018-02-02",
          "2018-02-09",
          "2018-02-16",
          "2018-02-23",
          "2018-03-02",
          "2018-03-09",
          "2018-03-16",
          "2018-03-23",
          "2018-03-30",
          "2018-04-06",
          "2018-04-13",
          "2018-04-20",
          "2018-04-27",
          "2018-05-04",
          "2018-05-11",
          "2018-05-18",
          "2018-05-25",
          "2018-06-01",
          "2018-06-08",
          "2018-06-15",
          "2018-06-22",
          "2018-06-29",
          "2018-07-06",
          "2018-07-13",
          "2018-07-20",
          "2018-07-27",
          "2018-08-03",
          "2018-08-10",
          "2018-08-17",
          "2018-08-24",
          "2018-08-31",
          "2018-09-07",
          "2018-09-14",
          "2018-09-21",
          "2018-09-28",
          "2018-10-05",
          "2018-10-12",
          "2018-10-19",
          "2018-10-26",
          "2018-11-02",
          "2018-11-09",
          "2018-11-16",
          "2018-11-23",
          "2018-11-30",
          "2018-12-07",
          "2018-12-14",
          "2018-12-21",
          "2018-12-28",
          "2019-01-04",
          "2019-01-11",
          "2019-01-18",
          "2019-01-25",
          "2019-02-01",
          "2019-02-08",
          "2019-02-15",
          "2019-02-22",
          "2019-03-01",
          "2019-03-08",
          "2019-03-15",
          "2019-03-22",
          "2019-03-29",
          "2019-04-05",
          "2019-04-12",
          "2019-04-19",
          "2019-04-26",
          "2019-05-03",
          "2019-05-10",
          "2019-05-17",
          "2019-05-24",
          "2019-05-31",
          "2019-06-07",
          "2019-06-14",
          "2019-06-21",
          "2019-06-28",
          "2019-07-05",
          "2019-07-12",
          "2019-07-19",
          "2019-07-26",
          "2019-08-02",
          "2019-08-09",
          "2019-08-16",
          "2019-08-23",
          "2019-08-30",
          "2019-09-06",
          "2019-09-13",
          "2019-09-20",
          "2019-09-27",
          "2019-10-04",
          "2019-10-11",
          "2019-10-18",
          "2019-10-25",
          "2019-11-01",
          "2019-11-08",
          "2019-11-15",
          "2019-11-22",
          "2019-11-29",
          "2019-12-06",
          "2019-12-13",
          "2019-12-20",
          "2019-12-27",
          "2020-01-03",
          "2020-01-10",
          "2020-01-17",
          "2020-01-24",
          "2020-01-31",
          "2020-02-07",
          "2020-02-14",
          "2020-02-21",
          "2020-02-28",
          "2020-03-06",
          "2020-03-13",
          "2020-03-20",
          "2020-03-27",
          "2020-04-03",
          "2020-04-10",
          "2020-04-17",
          "2020-04-24",
          "2020-05-01",
          "2020-05-08",
          "2020-05-15",
          "2020-05-22",
          "2020-05-29",
          "2020-06-05",
          "2020-06-12",
          "2020-06-19",
          "2020-06-26",
          "2020-07-03",
          "2020-07-10",
          "2020-07-17",
          "2020-07-24",
          "2020-07-31",
          "2020-08-07",
          "2020-08-14",
          "2020-08-21",
          "2020-08-28",
          "2020-09-04",
          "2020-09-11",
          "2020-09-18",
          "2020-09-25",
          "2020-10-02",
          "2020-10-09",
          "2020-10-16",
          "2020-10-23",
          "2020-10-30",
          "2020-11-06",
          "2020-11-13",
          "2020-11-20",
          "2020-11-27",
          "2020-12-04",
          "2020-12-11",
          "2020-12-18",
          "2020-12-25",
          "2021-01-01",
          "2021-01-08",
          "2021-01-15",
          "2021-01-22",
          "2021-01-29",
          "2021-02-05",
          "2021-02-12",
          "2021-02-19",
          "2021-02-26",
          "2021-03-05",
          "2021-03-12",
          "2021-03-19",
          "2021-04-02",
          "2021-04-16",
          "2021-04-23",
          "2021-04-30",
          "2021-05-14",
          "2021-05-28",
          "2021-07-02",
          "2021-07-09",
          "2021-07-16",
          "2021-07-23",
          "2021-08-06",
          "2021-08-13",
          "2021-08-20",
          "2021-09-03",
          "2021-10-01",
          "2021-10-15",
          "2021-10-22"
         ],
         "y": [
          0.140037402510643,
          0.14716435968875885,
          0.14616064727306366,
          0.13360224664211273,
          0.10243380069732666,
          0.1824527382850647,
          0.14373081922531128,
          0.058667510747909546,
          0.1912415325641632,
          0.08333107084035873,
          0.22365042567253113,
          0.24081362783908844,
          0.3068818747997284,
          0.2165253609418869,
          0.29517486691474915,
          0.3394966423511505,
          0.27994248270988464,
          0.2999878227710724,
          0.25833484530448914,
          0.29213041067123413,
          0.2383807897567749,
          0.30225446820259094,
          0.25393232703208923,
          0.23182672262191772,
          0.20925560593605042,
          0.32280203700065613,
          0.21459220349788666,
          0.26386749744415283,
          0.25353190302848816,
          0.18940600752830505,
          0.20289629697799683,
          0.2576209604740143,
          0.15675435960292816,
          0.23306673765182495,
          0.22813870012760162,
          0.2544724643230438,
          0.20708590745925903,
          0.19549968838691711,
          0.2897356152534485,
          0.2832280993461609,
          0.2732089161872864,
          0.22906631231307983,
          0.2376139909029007,
          0.2588501572608948,
          0.2716500163078308,
          0.20415206253528595,
          0.17680878937244415,
          0.27225151658058167,
          0.35885658860206604,
          0.19988735020160675,
          0.23105177283287048,
          0.215159609913826,
          0.26955655217170715,
          0.2840299904346466,
          0.2516786754131317,
          0.25935760140419006,
          0.30761784315109253,
          0.2486744076013565,
          0.2796935439109802,
          0.2397136092185974,
          0.28558164834976196,
          0.23007293045520782,
          0.1844644993543625,
          0.24458995461463928,
          0.249283567070961,
          0.18669955432415009,
          0.23759952187538147,
          0.20687717199325562,
          0.25431331992149353,
          0.1389726847410202,
          0.27014613151550293,
          0.271781325340271,
          0.27817368507385254,
          0.2081025093793869,
          0.2852518856525421,
          0.2092636525630951,
          0.3614634871482849,
          0.1935947835445404,
          0.277963787317276,
          0.29790833592414856,
          0.22918301820755005,
          0.22149021923542023,
          0.29331278800964355,
          0.25706008076667786,
          0.3503707945346832,
          0.2879265248775482,
          0.21269333362579346,
          0.2417726367712021,
          0.2942516505718231,
          0.33095401525497437,
          0.35030779242515564,
          0.3838914632797241,
          0.24200862646102905,
          0.3416198790073395,
          0.25937291979789734,
          0.3306639492511749,
          0.3347915709018707,
          0.43214675784111023,
          0.35733330249786377,
          0.4896892011165619,
          0.4661514461040497,
          0.39472347497940063,
          0.3631126284599304,
          0.39613986015319824,
          0.42159366607666016,
          0.5094173550605774,
          0.3642658591270447,
          0.3719441890716553,
          0.42668965458869934,
          0.34984034299850464,
          0.39822182059288025,
          0.3578484058380127,
          0.3576548099517822,
          0.31116053462028503,
          0.27730870246887207,
          0.39037227630615234,
          0.32650667428970337,
          0.18676842749118805,
          0.28014132380485535,
          0.3177841007709503,
          0.317656010389328,
          0.32337668538093567,
          0.28029072284698486,
          0.3022470772266388,
          0.40050390362739563,
          0.3162480294704437,
          0.3337951898574829,
          0.36414045095443726,
          0.37551984190940857,
          0.2002933919429779,
          0.23012152314186096,
          0.32575905323028564,
          0.4396003186702728,
          0.2882854640483856,
          0.1696631759405136,
          0.3179551362991333,
          0.3507724702358246,
          0.27656784653663635,
          0.2173791378736496,
          0.1929095983505249,
          0.3256165385246277,
          0.24139681458473206,
          0.308960497379303,
          0.29779914021492004,
          0.34198978543281555,
          0.273622065782547,
          0.2388899177312851,
          0.3036855161190033,
          0.3311081528663635,
          0.12666285037994385,
          0.2298870086669922,
          0.2675027847290039,
          0.3431536555290222,
          0.2724788784980774,
          0.2795470058917999,
          0.34961068630218506,
          0.2698182761669159,
          0.3864721655845642,
          0.3023547828197479,
          0.31394311785697937,
          0.3118700087070465,
          0.2427748143672943,
          0.27308422327041626,
          0.21466368436813354,
          0.23740769922733307,
          0.22252072393894196,
          0.3239823579788208,
          0.3210145831108093,
          0.3237396478652954,
          0.4837893545627594,
          0.34363695979118347,
          0.13361167907714844,
          0.4446044862270355,
          0.2323106825351715,
          0.26255178451538086,
          0.18107318878173828,
          0.22759360074996948,
          0.26520681381225586,
          0.2659946382045746,
          0.3311135768890381,
          0.2582471966743469,
          0.19817063212394714,
          0.18025852739810944,
          0.1346789300441742,
          0.22318051755428314,
          0.304937481880188,
          0.3042902648448944,
          0.2121579647064209,
          0.28422418236732483,
          0.3278297483921051,
          0.3431454598903656,
          0.2876769006252289,
          0.2351369559764862,
          0.27199387550354004,
          0.4742644429206848,
          0.2850427031517029,
          0.25890296697616577,
          0.2953837513923645,
          0.31669843196868896,
          0.2708747982978821,
          0.32161080837249756,
          0.3096420466899872,
          0.28317439556121826,
          0.40306535363197327,
          0.06455280631780624,
          0.3021479547023773,
          0.248033806681633,
          0.2416795790195465,
          0.2948497235774994,
          0.2789711654186249,
          0.37923017144203186,
          0.30031511187553406,
          0.09024999290704727,
          0.27047184109687805,
          0.30013546347618103,
          0.28508129715919495,
          0.22845888137817383,
          0.3430440425872803,
          0.31068429350852966,
          0.28209778666496277,
          0.26522964239120483,
          0.21969746053218842,
          0.33209797739982605,
          0.252634197473526,
          0.21291421353816986,
          0.3039131164550781,
          0.3477451205253601,
          0.2560908794403076,
          0.1329057216644287,
          0.11531846225261688,
          0.29375436902046204,
          0.2566079795360565,
          0.25095778703689575,
          0.12884648144245148,
          0.26469120383262634,
          0.16331841051578522,
          0.17828887701034546,
          0.304229199886322,
          0.25725558400154114,
          0.1812479943037033,
          0.2454589307308197,
          0.3262953758239746,
          0.34011003375053406,
          0.09959098696708679,
          0.23599445819854736,
          0.3081538677215576,
          0.3083280324935913,
          0.18174754083156586,
          0.1864439696073532,
          0.41751590371131897,
          0.25564226508140564,
          0.2926029860973358,
          0.42024362087249756,
          0.42091166973114014,
          0.28052762150764465,
          0.32690975069999695,
          0.2429637759923935,
          0.2528788447380066,
          0.2817215323448181,
          0.37554681301116943,
          0.20236316323280334,
          0.26274362206459045,
          0.16998842358589172,
          0.21214596927165985,
          0.17489738762378693,
          0.2562355101108551,
          0.23057672381401062,
          0.16067025065422058,
          0.0979631319642067,
          0.2061588615179062,
          0.22192347049713135,
          0.15493781864643097,
          0.1749812662601471,
          0.14266782999038696,
          0.07788974046707153,
          0.1390208899974823,
          0.16119623184204102,
          0.10059669613838196,
          0.21233490109443665,
          0.20502899587154388,
          0.15630434453487396,
          0.18759238719940186,
          0.10352013260126114,
          0.08061692118644714,
          0.303557425737381,
          0.18628805875778198,
          0.21414907276630402,
          0.2677321434020996,
          0.13413222134113312,
          0.17733848094940186,
          0.2169441133737564,
          0.2375570833683014,
          0.23089498281478882,
          0.19419319927692413,
          0.30385932326316833,
          0.18504923582077026,
          0.3109070658683777,
          0.19882041215896606,
          0.2690593898296356,
          0.28387701511383057
         ]
        }
       ],
       "layout": {
        "template": {
         "data": {
          "bar": [
           {
            "error_x": {
             "color": "#2a3f5f"
            },
            "error_y": {
             "color": "#2a3f5f"
            },
            "marker": {
             "line": {
              "color": "#E5ECF6",
              "width": 0.5
             },
             "pattern": {
              "fillmode": "overlay",
              "size": 10,
              "solidity": 0.2
             }
            },
            "type": "bar"
           }
          ],
          "barpolar": [
           {
            "marker": {
             "line": {
              "color": "#E5ECF6",
              "width": 0.5
             },
             "pattern": {
              "fillmode": "overlay",
              "size": 10,
              "solidity": 0.2
             }
            },
            "type": "barpolar"
           }
          ],
          "carpet": [
           {
            "aaxis": {
             "endlinecolor": "#2a3f5f",
             "gridcolor": "white",
             "linecolor": "white",
             "minorgridcolor": "white",
             "startlinecolor": "#2a3f5f"
            },
            "baxis": {
             "endlinecolor": "#2a3f5f",
             "gridcolor": "white",
             "linecolor": "white",
             "minorgridcolor": "white",
             "startlinecolor": "#2a3f5f"
            },
            "type": "carpet"
           }
          ],
          "choropleth": [
           {
            "colorbar": {
             "outlinewidth": 0,
             "ticks": ""
            },
            "type": "choropleth"
           }
          ],
          "contour": [
           {
            "colorbar": {
             "outlinewidth": 0,
             "ticks": ""
            },
            "colorscale": [
             [
              0,
              "#0d0887"
             ],
             [
              0.1111111111111111,
              "#46039f"
             ],
             [
              0.2222222222222222,
              "#7201a8"
             ],
             [
              0.3333333333333333,
              "#9c179e"
             ],
             [
              0.4444444444444444,
              "#bd3786"
             ],
             [
              0.5555555555555556,
              "#d8576b"
             ],
             [
              0.6666666666666666,
              "#ed7953"
             ],
             [
              0.7777777777777778,
              "#fb9f3a"
             ],
             [
              0.8888888888888888,
              "#fdca26"
             ],
             [
              1,
              "#f0f921"
             ]
            ],
            "type": "contour"
           }
          ],
          "contourcarpet": [
           {
            "colorbar": {
             "outlinewidth": 0,
             "ticks": ""
            },
            "type": "contourcarpet"
           }
          ],
          "heatmap": [
           {
            "colorbar": {
             "outlinewidth": 0,
             "ticks": ""
            },
            "colorscale": [
             [
              0,
              "#0d0887"
             ],
             [
              0.1111111111111111,
              "#46039f"
             ],
             [
              0.2222222222222222,
              "#7201a8"
             ],
             [
              0.3333333333333333,
              "#9c179e"
             ],
             [
              0.4444444444444444,
              "#bd3786"
             ],
             [
              0.5555555555555556,
              "#d8576b"
             ],
             [
              0.6666666666666666,
              "#ed7953"
             ],
             [
              0.7777777777777778,
              "#fb9f3a"
             ],
             [
              0.8888888888888888,
              "#fdca26"
             ],
             [
              1,
              "#f0f921"
             ]
            ],
            "type": "heatmap"
           }
          ],
          "heatmapgl": [
           {
            "colorbar": {
             "outlinewidth": 0,
             "ticks": ""
            },
            "colorscale": [
             [
              0,
              "#0d0887"
             ],
             [
              0.1111111111111111,
              "#46039f"
             ],
             [
              0.2222222222222222,
              "#7201a8"
             ],
             [
              0.3333333333333333,
              "#9c179e"
             ],
             [
              0.4444444444444444,
              "#bd3786"
             ],
             [
              0.5555555555555556,
              "#d8576b"
             ],
             [
              0.6666666666666666,
              "#ed7953"
             ],
             [
              0.7777777777777778,
              "#fb9f3a"
             ],
             [
              0.8888888888888888,
              "#fdca26"
             ],
             [
              1,
              "#f0f921"
             ]
            ],
            "type": "heatmapgl"
           }
          ],
          "histogram": [
           {
            "marker": {
             "pattern": {
              "fillmode": "overlay",
              "size": 10,
              "solidity": 0.2
             }
            },
            "type": "histogram"
           }
          ],
          "histogram2d": [
           {
            "colorbar": {
             "outlinewidth": 0,
             "ticks": ""
            },
            "colorscale": [
             [
              0,
              "#0d0887"
             ],
             [
              0.1111111111111111,
              "#46039f"
             ],
             [
              0.2222222222222222,
              "#7201a8"
             ],
             [
              0.3333333333333333,
              "#9c179e"
             ],
             [
              0.4444444444444444,
              "#bd3786"
             ],
             [
              0.5555555555555556,
              "#d8576b"
             ],
             [
              0.6666666666666666,
              "#ed7953"
             ],
             [
              0.7777777777777778,
              "#fb9f3a"
             ],
             [
              0.8888888888888888,
              "#fdca26"
             ],
             [
              1,
              "#f0f921"
             ]
            ],
            "type": "histogram2d"
           }
          ],
          "histogram2dcontour": [
           {
            "colorbar": {
             "outlinewidth": 0,
             "ticks": ""
            },
            "colorscale": [
             [
              0,
              "#0d0887"
             ],
             [
              0.1111111111111111,
              "#46039f"
             ],
             [
              0.2222222222222222,
              "#7201a8"
             ],
             [
              0.3333333333333333,
              "#9c179e"
             ],
             [
              0.4444444444444444,
              "#bd3786"
             ],
             [
              0.5555555555555556,
              "#d8576b"
             ],
             [
              0.6666666666666666,
              "#ed7953"
             ],
             [
              0.7777777777777778,
              "#fb9f3a"
             ],
             [
              0.8888888888888888,
              "#fdca26"
             ],
             [
              1,
              "#f0f921"
             ]
            ],
            "type": "histogram2dcontour"
           }
          ],
          "mesh3d": [
           {
            "colorbar": {
             "outlinewidth": 0,
             "ticks": ""
            },
            "type": "mesh3d"
           }
          ],
          "parcoords": [
           {
            "line": {
             "colorbar": {
              "outlinewidth": 0,
              "ticks": ""
             }
            },
            "type": "parcoords"
           }
          ],
          "pie": [
           {
            "automargin": true,
            "type": "pie"
           }
          ],
          "scatter": [
           {
            "marker": {
             "colorbar": {
              "outlinewidth": 0,
              "ticks": ""
             }
            },
            "type": "scatter"
           }
          ],
          "scatter3d": [
           {
            "line": {
             "colorbar": {
              "outlinewidth": 0,
              "ticks": ""
             }
            },
            "marker": {
             "colorbar": {
              "outlinewidth": 0,
              "ticks": ""
             }
            },
            "type": "scatter3d"
           }
          ],
          "scattercarpet": [
           {
            "marker": {
             "colorbar": {
              "outlinewidth": 0,
              "ticks": ""
             }
            },
            "type": "scattercarpet"
           }
          ],
          "scattergeo": [
           {
            "marker": {
             "colorbar": {
              "outlinewidth": 0,
              "ticks": ""
             }
            },
            "type": "scattergeo"
           }
          ],
          "scattergl": [
           {
            "marker": {
             "colorbar": {
              "outlinewidth": 0,
              "ticks": ""
             }
            },
            "type": "scattergl"
           }
          ],
          "scattermapbox": [
           {
            "marker": {
             "colorbar": {
              "outlinewidth": 0,
              "ticks": ""
             }
            },
            "type": "scattermapbox"
           }
          ],
          "scatterpolar": [
           {
            "marker": {
             "colorbar": {
              "outlinewidth": 0,
              "ticks": ""
             }
            },
            "type": "scatterpolar"
           }
          ],
          "scatterpolargl": [
           {
            "marker": {
             "colorbar": {
              "outlinewidth": 0,
              "ticks": ""
             }
            },
            "type": "scatterpolargl"
           }
          ],
          "scatterternary": [
           {
            "marker": {
             "colorbar": {
              "outlinewidth": 0,
              "ticks": ""
             }
            },
            "type": "scatterternary"
           }
          ],
          "surface": [
           {
            "colorbar": {
             "outlinewidth": 0,
             "ticks": ""
            },
            "colorscale": [
             [
              0,
              "#0d0887"
             ],
             [
              0.1111111111111111,
              "#46039f"
             ],
             [
              0.2222222222222222,
              "#7201a8"
             ],
             [
              0.3333333333333333,
              "#9c179e"
             ],
             [
              0.4444444444444444,
              "#bd3786"
             ],
             [
              0.5555555555555556,
              "#d8576b"
             ],
             [
              0.6666666666666666,
              "#ed7953"
             ],
             [
              0.7777777777777778,
              "#fb9f3a"
             ],
             [
              0.8888888888888888,
              "#fdca26"
             ],
             [
              1,
              "#f0f921"
             ]
            ],
            "type": "surface"
           }
          ],
          "table": [
           {
            "cells": {
             "fill": {
              "color": "#EBF0F8"
             },
             "line": {
              "color": "white"
             }
            },
            "header": {
             "fill": {
              "color": "#C8D4E3"
             },
             "line": {
              "color": "white"
             }
            },
            "type": "table"
           }
          ]
         },
         "layout": {
          "annotationdefaults": {
           "arrowcolor": "#2a3f5f",
           "arrowhead": 0,
           "arrowwidth": 1
          },
          "autotypenumbers": "strict",
          "coloraxis": {
           "colorbar": {
            "outlinewidth": 0,
            "ticks": ""
           }
          },
          "colorscale": {
           "diverging": [
            [
             0,
             "#8e0152"
            ],
            [
             0.1,
             "#c51b7d"
            ],
            [
             0.2,
             "#de77ae"
            ],
            [
             0.3,
             "#f1b6da"
            ],
            [
             0.4,
             "#fde0ef"
            ],
            [
             0.5,
             "#f7f7f7"
            ],
            [
             0.6,
             "#e6f5d0"
            ],
            [
             0.7,
             "#b8e186"
            ],
            [
             0.8,
             "#7fbc41"
            ],
            [
             0.9,
             "#4d9221"
            ],
            [
             1,
             "#276419"
            ]
           ],
           "sequential": [
            [
             0,
             "#0d0887"
            ],
            [
             0.1111111111111111,
             "#46039f"
            ],
            [
             0.2222222222222222,
             "#7201a8"
            ],
            [
             0.3333333333333333,
             "#9c179e"
            ],
            [
             0.4444444444444444,
             "#bd3786"
            ],
            [
             0.5555555555555556,
             "#d8576b"
            ],
            [
             0.6666666666666666,
             "#ed7953"
            ],
            [
             0.7777777777777778,
             "#fb9f3a"
            ],
            [
             0.8888888888888888,
             "#fdca26"
            ],
            [
             1,
             "#f0f921"
            ]
           ],
           "sequentialminus": [
            [
             0,
             "#0d0887"
            ],
            [
             0.1111111111111111,
             "#46039f"
            ],
            [
             0.2222222222222222,
             "#7201a8"
            ],
            [
             0.3333333333333333,
             "#9c179e"
            ],
            [
             0.4444444444444444,
             "#bd3786"
            ],
            [
             0.5555555555555556,
             "#d8576b"
            ],
            [
             0.6666666666666666,
             "#ed7953"
            ],
            [
             0.7777777777777778,
             "#fb9f3a"
            ],
            [
             0.8888888888888888,
             "#fdca26"
            ],
            [
             1,
             "#f0f921"
            ]
           ]
          },
          "colorway": [
           "#636efa",
           "#EF553B",
           "#00cc96",
           "#ab63fa",
           "#FFA15A",
           "#19d3f3",
           "#FF6692",
           "#B6E880",
           "#FF97FF",
           "#FECB52"
          ],
          "font": {
           "color": "#2a3f5f"
          },
          "geo": {
           "bgcolor": "white",
           "lakecolor": "white",
           "landcolor": "#E5ECF6",
           "showlakes": true,
           "showland": true,
           "subunitcolor": "white"
          },
          "hoverlabel": {
           "align": "left"
          },
          "hovermode": "closest",
          "mapbox": {
           "style": "light"
          },
          "paper_bgcolor": "white",
          "plot_bgcolor": "#E5ECF6",
          "polar": {
           "angularaxis": {
            "gridcolor": "white",
            "linecolor": "white",
            "ticks": ""
           },
           "bgcolor": "#E5ECF6",
           "radialaxis": {
            "gridcolor": "white",
            "linecolor": "white",
            "ticks": ""
           }
          },
          "scene": {
           "xaxis": {
            "backgroundcolor": "#E5ECF6",
            "gridcolor": "white",
            "gridwidth": 2,
            "linecolor": "white",
            "showbackground": true,
            "ticks": "",
            "zerolinecolor": "white"
           },
           "yaxis": {
            "backgroundcolor": "#E5ECF6",
            "gridcolor": "white",
            "gridwidth": 2,
            "linecolor": "white",
            "showbackground": true,
            "ticks": "",
            "zerolinecolor": "white"
           },
           "zaxis": {
            "backgroundcolor": "#E5ECF6",
            "gridcolor": "white",
            "gridwidth": 2,
            "linecolor": "white",
            "showbackground": true,
            "ticks": "",
            "zerolinecolor": "white"
           }
          },
          "shapedefaults": {
           "line": {
            "color": "#2a3f5f"
           }
          },
          "ternary": {
           "aaxis": {
            "gridcolor": "white",
            "linecolor": "white",
            "ticks": ""
           },
           "baxis": {
            "gridcolor": "white",
            "linecolor": "white",
            "ticks": ""
           },
           "bgcolor": "#E5ECF6",
           "caxis": {
            "gridcolor": "white",
            "linecolor": "white",
            "ticks": ""
           }
          },
          "title": {
           "x": 0.05
          },
          "xaxis": {
           "automargin": true,
           "gridcolor": "white",
           "linecolor": "white",
           "ticks": "",
           "title": {
            "standoff": 15
           },
           "zerolinecolor": "white",
           "zerolinewidth": 2
          },
          "yaxis": {
           "automargin": true,
           "gridcolor": "white",
           "linecolor": "white",
           "ticks": "",
           "title": {
            "standoff": 15
           },
           "zerolinecolor": "white",
           "zerolinewidth": 2
          }
         }
        },
        "title": {
         "text": "Topic Distribution over time for Tokens aggregated by issue"
        },
        "xaxis": {
         "dtick": 1,
         "tick0": "2015-10-01T00:00:00",
         "tickvals": [
          "2015-10-01T00:00:00",
          "2015-11-01T00:00:00",
          "2015-12-01T00:00:00",
          "2016-01-01T00:00:00",
          "2016-02-01T00:00:00",
          "2016-03-01T00:00:00",
          "2016-04-01T00:00:00",
          "2016-05-01T00:00:00",
          "2016-06-01T00:00:00",
          "2016-07-01T00:00:00",
          "2016-08-01T00:00:00",
          "2016-09-01T00:00:00",
          "2016-10-01T00:00:00",
          "2016-11-01T00:00:00",
          "2016-12-01T00:00:00",
          "2017-01-01T00:00:00",
          "2017-02-01T00:00:00",
          "2017-03-01T00:00:00",
          "2017-04-01T00:00:00",
          "2017-05-01T00:00:00",
          "2017-06-01T00:00:00",
          "2017-07-01T00:00:00",
          "2017-08-01T00:00:00",
          "2017-09-01T00:00:00",
          "2017-10-01T00:00:00",
          "2017-11-01T00:00:00",
          "2017-12-01T00:00:00",
          "2018-01-01T00:00:00",
          "2018-02-01T00:00:00",
          "2018-03-01T00:00:00",
          "2018-04-01T00:00:00",
          "2018-05-01T00:00:00",
          "2018-06-01T00:00:00",
          "2018-07-01T00:00:00",
          "2018-08-01T00:00:00",
          "2018-09-01T00:00:00",
          "2018-10-01T00:00:00",
          "2018-11-01T00:00:00",
          "2018-12-01T00:00:00",
          "2019-01-01T00:00:00",
          "2019-02-01T00:00:00",
          "2019-03-01T00:00:00",
          "2019-04-01T00:00:00",
          "2019-05-01T00:00:00",
          "2019-06-01T00:00:00",
          "2019-07-01T00:00:00",
          "2019-08-01T00:00:00",
          "2019-09-01T00:00:00",
          "2019-10-01T00:00:00",
          "2019-11-01T00:00:00",
          "2019-12-01T00:00:00",
          "2020-01-01T00:00:00",
          "2020-02-01T00:00:00",
          "2020-03-01T00:00:00",
          "2020-04-01T00:00:00",
          "2020-05-01T00:00:00",
          "2020-06-01T00:00:00",
          "2020-07-01T00:00:00",
          "2020-08-01T00:00:00",
          "2020-09-01T00:00:00",
          "2020-10-01T00:00:00",
          "2020-11-01T00:00:00",
          "2020-12-01T00:00:00",
          "2021-01-01T00:00:00",
          "2021-02-01T00:00:00",
          "2021-03-01T00:00:00",
          "2021-04-01T00:00:00",
          "2021-05-01T00:00:00",
          "2021-07-01T00:00:00",
          "2021-08-01T00:00:00",
          "2021-09-01T00:00:00",
          "2021-10-01T00:00:00"
         ],
         "title": {
          "text": "Time"
         }
        },
        "yaxis": {
         "title": {
          "text": "Topic Proportion"
         }
        }
       }
      }
     },
     "metadata": {},
     "output_type": "display_data"
    }
   ],
   "source": [
    "fig = go.Figure()\n",
    "for i in range(1,6):\n",
    "    fig.add_trace(go.Scatter(x=df_by_issue['date'], y=df_by_issue[str(i)],\n",
    "                             mode='lines',\n",
    "                             name='Topic ' + str(i)))\n",
    "fig.update_layout(title='Topic Distribution over time for Tokens aggregated by issue',\n",
    "                  xaxis = dict(title='Time',\n",
    "                            tick0 = df_by_month['date'].iloc[0],\n",
    "                            tickvals = df_by_month['date'],\n",
    "                            dtick = 1\n",
    "                            #ticktext = df_by_month['date']\n",
    "                            ),\n",
    "                  yaxis_title='Topic Proportion')\n",
    "fig.write_html(\"plotly_topic_distr_issuewise.html\")\n",
    "fig.show()"
   ]
  }
 ],
 "metadata": {
  "kernelspec": {
   "display_name": "Python 3.8.8 ('arabic-nlp')",
   "language": "python",
   "name": "python3"
  },
  "language_info": {
   "codemirror_mode": {
    "name": "ipython",
    "version": 3
   },
   "file_extension": ".py",
   "mimetype": "text/x-python",
   "name": "python",
   "nbconvert_exporter": "python",
   "pygments_lexer": "ipython3",
   "version": "3.8.8"
  },
  "orig_nbformat": 4,
  "vscode": {
   "interpreter": {
    "hash": "23b4d4231eb7e46e36c82c5b93bc0a29c31c164ca3b862dad46c6ebd6d31eb9a"
   }
  }
 },
 "nbformat": 4,
 "nbformat_minor": 2
}
